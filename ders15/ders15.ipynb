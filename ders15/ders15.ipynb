{
 "cells": [
  {
   "cell_type": "code",
   "execution_count": 1,
   "metadata": {},
   "outputs": [],
   "source": [
    "num = [48, 10, 11, 21, 36, 5, 6, 52, 28, 29,\n",
    "       53, 54, 45, 19, 20, 47, 55, 39, 41, 7,\n",
    "       9, 17, 26, 27, 42, 22, 37, 51, 46, 18,\n",
    "       44, 30, 34, 13, 15, 35, 33, 16, 50, 24]"
   ]
  },
  {
   "cell_type": "code",
   "execution_count": 2,
   "metadata": {},
   "outputs": [
    {
     "data": {
      "text/plain": [
       "5"
      ]
     },
     "execution_count": 2,
     "metadata": {},
     "output_type": "execute_result"
    }
   ],
   "source": [
    "min(num)"
   ]
  },
  {
   "cell_type": "code",
   "execution_count": 3,
   "metadata": {},
   "outputs": [
    {
     "data": {
      "text/plain": [
       "55"
      ]
     },
     "execution_count": 3,
     "metadata": {},
     "output_type": "execute_result"
    }
   ],
   "source": [
    "max(num)"
   ]
  },
  {
   "cell_type": "code",
   "execution_count": 4,
   "metadata": {},
   "outputs": [
    {
     "data": {
      "text/plain": [
       "40"
      ]
     },
     "execution_count": 4,
     "metadata": {},
     "output_type": "execute_result"
    }
   ],
   "source": [
    "len(num)"
   ]
  },
  {
   "cell_type": "code",
   "execution_count": 7,
   "metadata": {},
   "outputs": [
    {
     "name": "stdout",
     "output_type": "stream",
     "text": [
      "[5, 6, 7, 8, 9, 10, 11, 12, 13, 14, 15, 16, 17, 18, 19, 20, 21, 22, 23, 24, 25, 26, 27, 28, 29, 30, 31, 32, 33, 34, 35, 36, 37, 38, 39, 40, 41, 42, 43, 44, 45, 46, 47, 48, 49, 50, 51, 52, 53, 54, 55]\n"
     ]
    }
   ],
   "source": [
    "print(list(range(5,56)))"
   ]
  },
  {
   "cell_type": "code",
   "execution_count": null,
   "metadata": {},
   "outputs": [],
   "source": [
    "num = [48, 10, 11, 21, 36, 5, 6, 52, 28, 29,\n",
    "       53, 54, 45, 19, 20, 47, 55, 39, 41, 7,\n",
    "       9, 17, 26, 27, 42, 22, 37, 51, 46, 18,\n",
    "       44, 30, 34, 13, 15, 35, 33, 16, 50, 24]\n",
    "empty_list = []\n",
    "for i in range(min(num), max(num) + 1):\n",
    "    if i not in num: \n",
    "        empty\n"
   ]
  },
  {
   "cell_type": "code",
   "execution_count": 10,
   "metadata": {},
   "outputs": [
    {
     "name": "stdout",
     "output_type": "stream",
     "text": [
      "[10, 11, 5, 52, 28, 29, 53, 19, 20, 47, 55, 41, 7, 17, 26, 22, 37, 46, 44, 34, 13, 35, 16, 50]\n"
     ]
    }
   ],
   "source": [
    "num = [48, 10, 11, 21, 36, 5, 6, 52, 28, 29,\n",
    "       53, 54, 45, 19, 20, 47, 55, 39, 41, 7,\n",
    "       9, 17, 26, 27, 42, 22, 37, 51, 46, 18,\n",
    "       44, 30, 34, 13, 15, 35, 33, 16, 50, 24]\n",
    "uce_bolunemeyen = []\n",
    "for i in num:\n",
    "    if i % 3 != 0:\n",
    "        uce_bolunemeyen.append(i)\n",
    "\n",
    "print(uce_bolunemeyen)"
   ]
  },
  {
   "cell_type": "code",
   "execution_count": 11,
   "metadata": {},
   "outputs": [
    {
     "name": "stdout",
     "output_type": "stream",
     "text": [
      "[10, 11, 5, 52, 28, 29, 53, 19, 20, 47, 55, 41, 7, 17, 26, 22, 37, 46, 44, 34, 13, 35, 16, 50]\n"
     ]
    }
   ],
   "source": [
    "num = [48, 10, 11, 21, 36, 5, 6, 52, 28, 29,\n",
    "       53, 54, 45, 19, 20, 47, 55, 39, 41, 7,\n",
    "       9, 17, 26, 27, 42, 22, 37, 51, 46, 18,\n",
    "       44, 30, 34, 13, 15, 35, 33, 16, 50, 24]\n",
    "uce_bolunemeyen = []\n",
    "for i in num:\n",
    "    if i % 3 == 0:\n",
    "        continue\n",
    "    uce_bolunemeyen.append(i)\n",
    "\n",
    "print(uce_bolunemeyen)"
   ]
  },
  {
   "cell_type": "code",
   "execution_count": 12,
   "metadata": {},
   "outputs": [],
   "source": [
    "uce_bolunemeyen.sort()"
   ]
  },
  {
   "cell_type": "code",
   "execution_count": 13,
   "metadata": {},
   "outputs": [
    {
     "name": "stdout",
     "output_type": "stream",
     "text": [
      "[5, 7, 10, 11, 13, 16, 17, 19, 20, 22, 26, 28, 29, 34, 35, 37, 41, 44, 46, 47, 50, 52, 53, 55]\n"
     ]
    }
   ],
   "source": [
    "print(uce_bolunemeyen)"
   ]
  },
  {
   "cell_type": "code",
   "execution_count": 37,
   "metadata": {},
   "outputs": [
    {
     "name": "stdout",
     "output_type": "stream",
     "text": [
      "[1, 4, 9, 16, 25]\n"
     ]
    }
   ],
   "source": [
    "liste_1 = [1,2,3,4,5]\n",
    "empty_list = []\n",
    "for i in liste_1:\n",
    "    empty_list.append(i ** 2)\n",
    "print(empty_list)"
   ]
  },
  {
   "cell_type": "code",
   "execution_count": 40,
   "metadata": {},
   "outputs": [
    {
     "data": {
      "text/plain": [
       "[1, 4, 9, 16, 25]"
      ]
     },
     "execution_count": 40,
     "metadata": {},
     "output_type": "execute_result"
    }
   ],
   "source": [
    "[ i ** 2  for i in liste_1]  ## [i**2 for i in range(1,6)] da olabilir"
   ]
  },
  {
   "cell_type": "code",
   "execution_count": 41,
   "metadata": {},
   "outputs": [],
   "source": [
    "liste_2 = [1,4,8,25,96,88,44,75,36,27,24,15]"
   ]
  },
  {
   "cell_type": "code",
   "execution_count": 42,
   "metadata": {},
   "outputs": [
    {
     "data": {
      "text/plain": [
       "[4, 8, 96, 88, 44, 36, 24]"
      ]
     },
     "execution_count": 42,
     "metadata": {},
     "output_type": "execute_result"
    }
   ],
   "source": [
    "[ i for i in liste_2 if i % 2 == 0]"
   ]
  },
  {
   "cell_type": "code",
   "execution_count": 18,
   "metadata": {},
   "outputs": [],
   "source": [
    "liste_3 = [1,2,3,4,5,6,7,8,9]"
   ]
  },
  {
   "cell_type": "code",
   "execution_count": 21,
   "metadata": {},
   "outputs": [
    {
     "data": {
      "text/plain": [
       "[1, 4, 3, 16, 5, 36, 7, 64, 9]"
      ]
     },
     "execution_count": 21,
     "metadata": {},
     "output_type": "execute_result"
    }
   ],
   "source": [
    "empty_list = []\n",
    "for i in liste_3:\n",
    "    if i % 2:\n",
    "        empty_list.append(i)\n",
    "    else:\n",
    "        empty_list.append(i ** 2)\n",
    "empty_list"
   ]
  },
  {
   "cell_type": "code",
   "execution_count": 20,
   "metadata": {},
   "outputs": [
    {
     "data": {
      "text/plain": [
       "[1, 4, 3, 16, 5, 36, 7, 64, 9]"
      ]
     },
     "execution_count": 20,
     "metadata": {},
     "output_type": "execute_result"
    }
   ],
   "source": [
    "[ i if i % 2 ==1  else i**2   for i in liste_3 ] # if els ile list comperentionlarin kullanimi"
   ]
  },
  {
   "cell_type": "code",
   "execution_count": null,
   "metadata": {},
   "outputs": [],
   "source": [
    "[x for x in range(30) if x >= 2 if x <= 25 if x % 4 == 0 if x % 8 == 0]"
   ]
  },
  {
   "cell_type": "code",
   "execution_count": 44,
   "metadata": {},
   "outputs": [
    {
     "data": {
      "text/plain": [
       "['yes', 'ns', 'merhaba', 'merhaba', 'merhaba']"
      ]
     },
     "execution_count": 44,
     "metadata": {},
     "output_type": "execute_result"
    }
   ],
   "source": [
    "l = [1, 2, 3, 4, 5]\n",
    "['yes' if v == 1 else 'ns' if v == 2 else 'merhaba' for v in l]"
   ]
  },
  {
   "cell_type": "code",
   "execution_count": 45,
   "metadata": {},
   "outputs": [
    {
     "data": {
      "text/plain": [
       "['merhaba', 'selam', 'selamaleykum', 'assalam', 'assalam']"
      ]
     },
     "execution_count": 45,
     "metadata": {},
     "output_type": "execute_result"
    }
   ],
   "source": [
    "l = [1, 2, 3, 4, 5]\n",
    "['merhaba' if v == 1 else 'selam' if v == 2 else 'selamaleykum' if v==3 else \"assalam\"   for v in l]"
   ]
  },
  {
   "attachments": {},
   "cell_type": "markdown",
   "metadata": {},
   "source": [
    "# nested loops ## ic ice donguler"
   ]
  },
  {
   "attachments": {},
   "cell_type": "markdown",
   "metadata": {},
   "source": []
  },
  {
   "cell_type": "code",
   "execution_count": null,
   "metadata": {},
   "outputs": [],
   "source": [
    "\n",
    "for i in range(10):\n",
    "    for j in range(10):\n",
    "        print(f\"{i} x {j} = {i*j}\") carpim tablosunu boyle de yapabiliyoruz\n",
    "    "
   ]
  },
  {
   "cell_type": "code",
   "execution_count": null,
   "metadata": {},
   "outputs": [],
   "source": []
  },
  {
   "cell_type": "code",
   "execution_count": 26,
   "metadata": {},
   "outputs": [
    {
     "data": {
      "text/plain": [
       "['renault', 'fiat', 'ford']"
      ]
     },
     "execution_count": 26,
     "metadata": {},
     "output_type": "execute_result"
    }
   ],
   "source": [
    "liste_4 = [\"renault\",\"fiat?!\",\"ford?!\"]\n",
    "\n",
    "[i.replace(\"?\",\"\").replace(\"!\",\"\") for i in liste_4]"
   ]
  },
  {
   "cell_type": "code",
   "execution_count": 48,
   "metadata": {},
   "outputs": [
    {
     "data": {
      "text/plain": [
       "50"
      ]
     },
     "execution_count": 48,
     "metadata": {},
     "output_type": "execute_result"
    }
   ],
   "source": [
    "ord(\"2\")"
   ]
  },
  {
   "attachments": {},
   "cell_type": "markdown",
   "metadata": {},
   "source": [
    "## amstrong sayisi Tüm basamaklarındaki rakamların sayı değerlerinin küpleri toplamı,kendisine eşit olan sayılara \"Armstrong sayı\"denir."
   ]
  },
  {
   "cell_type": "code",
   "execution_count": null,
   "metadata": {},
   "outputs": [],
   "source": [
    "x = input(\"bir sayı giriniz\")\n",
    "uzunluk = len(x)\n",
    "\n",
    "toplam = 0\n",
    "\n",
    "for i in x:\n",
    "    toplam += int(i) ** uzunluk\n",
    "    \n",
    "if toplam == int(x):\n",
    "    print(\"Girdiğiniz sayı Armstrong bir sayıdır\")\n",
    "else:\n",
    "    print(\"girdiğiniz sayı Armstrong değildir\")"
   ]
  },
  {
   "cell_type": "code",
   "execution_count": null,
   "metadata": {},
   "outputs": [],
   "source": [
    "# list comp\n",
    "x = input(\"bir sayı giriniz\")\n",
    "uzunluk = len(x)\n",
    "\n",
    "toplam =  sum([int(i) ** uzunluk for i in x])\n",
    "\n",
    "    \n",
    "if toplam == int(x):\n",
    "    print(\"Girdiğiniz sayı Armstrong bir sayıdır\")\n",
    "else:\n",
    "    print(\"girdiğiniz sayı Armstrong değildir\")"
   ]
  },
  {
   "cell_type": "code",
   "execution_count": null,
   "metadata": {},
   "outputs": [],
   "source": [
    "# while dongusu ile yapilisi\n",
    "num = int(input(\"Enter a number\")) # 407\n",
    "num1=num\n",
    "sayininKuplerToplami=0\n",
    "while(num>0) :\n",
    "    basamak = num % 10\n",
    "    sayininKuplerToplami +=(basamak*basamak*basamak)\n",
    "    num = num//10\n",
    "print(sayininKuplerToplami)\n",
    "if(num1==sayininKuplerToplami):\n",
    "    print(\"girilenSayi amstrong sayidir\")\n",
    "else :\n",
    "    print(\"girilenSayi amstrong sayi degildir \")"
   ]
  },
  {
   "cell_type": "code",
   "execution_count": 32,
   "metadata": {},
   "outputs": [
    {
     "data": {
      "text/plain": [
       "[153, 370, 371, 407, 1634, 8208, 9474, 54748, 92727, 93084, 548834]"
      ]
     },
     "execution_count": 32,
     "metadata": {},
     "output_type": "execute_result"
    }
   ],
   "source": [
    "empty_list1 = []\n",
    "for x in range(10,10001):\n",
    "\n",
    "    uzunluk = len(str(x))\n",
    "\n",
    "    toplam = 0\n",
    "\n",
    "    for i in str (x):\n",
    "       toplam += int(i) ** uzunluk\n",
    "    \n",
    "    if toplam == int(x):\n",
    "       empty_list1.append(x)\n",
    "\n",
    "empty_list1"
   ]
  },
  {
   "cell_type": "code",
   "execution_count": null,
   "metadata": {},
   "outputs": [],
   "source": []
  },
  {
   "cell_type": "code",
   "execution_count": null,
   "metadata": {},
   "outputs": [],
   "source": []
  },
  {
   "cell_type": "code",
   "execution_count": null,
   "metadata": {},
   "outputs": [],
   "source": []
  }
 ],
 "metadata": {
  "kernelspec": {
   "display_name": "Python 3",
   "language": "python",
   "name": "python3"
  },
  "language_info": {
   "codemirror_mode": {
    "name": "ipython",
    "version": 3
   },
   "file_extension": ".py",
   "mimetype": "text/x-python",
   "name": "python",
   "nbconvert_exporter": "python",
   "pygments_lexer": "ipython3",
   "version": "3.11.1"
  },
  "orig_nbformat": 4,
  "vscode": {
   "interpreter": {
    "hash": "eabde9110b449084ff6a5c90926c01dd37afab08f8d96935fc9e46977bb13740"
   }
  }
 },
 "nbformat": 4,
 "nbformat_minor": 2
}
