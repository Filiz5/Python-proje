{
 "cells": [
  {
   "cell_type": "code",
   "execution_count": null,
   "metadata": {},
   "outputs": [],
   "source": [
    "##8765saniye "
   ]
  },
  {
   "cell_type": "code",
   "execution_count": 4,
   "metadata": {},
   "outputs": [
    {
     "name": "stdout",
     "output_type": "stream",
     "text": [
      "2 saat 26 dakika 5 saniye\n"
     ]
    }
   ],
   "source": [
    "saat = int(8765// 3600)\n",
    "dakika = int (8765 % 3600) // 60\n",
    "saniye = int(8765 % 3600) % 60\n",
    "print(saat, \"saat\", dakika, \"dakika\", saniye, \"saniye\")"
   ]
  },
  {
   "cell_type": "code",
   "execution_count": 2,
   "metadata": {},
   "outputs": [
    {
     "name": "stdout",
     "output_type": "stream",
     "text": [
      "8765 saniye = 2 saat 26 dakika 5 saniye eder\n"
     ]
    }
   ],
   "source": [
    "verilen_saniye = 8765    # 1 saat 60 dakika ve 3600 saniye \n",
    "saat = verilen_saniye // 3600\n",
    "dakika = (verilen_saniye % 3600) // 60\n",
    "saniye = (verilen_saniye % 3600) % 60\n",
    "print(verilen_saniye, \"saniye =\", saat, \"saat\", dakika, \"dakika\", saniye, \"saniye eder\" )"
   ]
  },
  {
   "cell_type": "code",
   "execution_count": 3,
   "metadata": {},
   "outputs": [
    {
     "name": "stdout",
     "output_type": "stream",
     "text": [
      "8765 saniye = 2 saat, 26 dakika, 5 saniye eder\n"
     ]
    }
   ],
   "source": [
    "print(f\"{verilen_saniye} saniye = {saat} saat, {dakika} dakika, {saniye} saniye eder\")"
   ]
  },
  {
   "cell_type": "code",
   "execution_count": null,
   "metadata": {},
   "outputs": [],
   "source": []
  },
  {
   "cell_type": "code",
   "execution_count": 4,
   "metadata": {},
   "outputs": [
    {
     "name": "stdout",
     "output_type": "stream",
     "text": [
      "8765 saniye; 2 saat; 26 dakika; 5 saniye eder\n"
     ]
    }
   ],
   "source": [
    "print(\"{} saniye; {} saat; {} dakika; {} saniye eder\". format(verilen_saniye, saat, dakika, saniye))"
   ]
  },
  {
   "cell_type": "code",
   "execution_count": 8,
   "metadata": {},
   "outputs": [
    {
     "name": "stdout",
     "output_type": "stream",
     "text": [
      "8765 saniye = 2 saat 26 dakika 5 saniye eder.\n"
     ]
    }
   ],
   "source": [
    "print(f\"{verilen_saniye} saniye = {saat} saat {dakika} dakika {saniye} saniye eder.\") # printte f yazdigimizda string ifadenin icinne degisken yazabiliryoruz."
   ]
  },
  {
   "attachments": {},
   "cell_type": "markdown",
   "metadata": {},
   "source": [
    "# len()"
   ]
  },
  {
   "cell_type": "code",
   "execution_count": 10,
   "metadata": {},
   "outputs": [
    {
     "data": {
      "text/plain": [
       "7"
      ]
     },
     "execution_count": 10,
     "metadata": {},
     "output_type": "execute_result"
    }
   ],
   "source": [
    "len(\"Techpro\")"
   ]
  },
  {
   "cell_type": "code",
   "execution_count": 6,
   "metadata": {},
   "outputs": [
    {
     "data": {
      "text/plain": [
       "'Mehmet'"
      ]
     },
     "execution_count": 6,
     "metadata": {},
     "output_type": "execute_result"
    }
   ],
   "source": [
    "\"Mehmet\""
   ]
  },
  {
   "cell_type": "code",
   "execution_count": 12,
   "metadata": {},
   "outputs": [
    {
     "data": {
      "text/plain": [
       "'Meh'"
      ]
     },
     "execution_count": 12,
     "metadata": {},
     "output_type": "execute_result"
    }
   ],
   "source": [
    "\"Mehmet\"[:(len(\"Mehmet\")//2)]"
   ]
  },
  {
   "cell_type": "code",
   "execution_count": 13,
   "metadata": {},
   "outputs": [
    {
     "data": {
      "text/plain": [
       "'met'"
      ]
     },
     "execution_count": 13,
     "metadata": {},
     "output_type": "execute_result"
    }
   ],
   "source": [
    "\"Mehmet\"[(len(\"Mehmet\")//2):]"
   ]
  },
  {
   "cell_type": "code",
   "execution_count": 8,
   "metadata": {},
   "outputs": [
    {
     "name": "stdout",
     "output_type": "stream",
     "text": [
      "mindersare\n"
     ]
    }
   ],
   "source": [
    "str1 = \"minare\"\n",
    "str2 = \"ders\"\n",
    "print(str1[:len(str1)//2]+ str2 +str1[len(str1)//2:])"
   ]
  },
  {
   "cell_type": "code",
   "execution_count": 11,
   "metadata": {},
   "outputs": [
    {
     "data": {
      "text/plain": [
       "4"
      ]
     },
     "execution_count": 11,
     "metadata": {},
     "output_type": "execute_result"
    }
   ],
   "source": [
    "len(str1)\n",
    "len(str2)"
   ]
  },
  {
   "cell_type": "code",
   "execution_count": 9,
   "metadata": {},
   "outputs": [
    {
     "name": "stdout",
     "output_type": "stream",
     "text": [
      "mindersare\n"
     ]
    }
   ],
   "source": [
    "ilk_bolum = str1[: len(str1)//2]\n",
    "son_bolum = str1[len(str1)//2:]\n",
    "sonuc = ilk_bolum + str2 + son_bolum\n",
    "print(sonuc)"
   ]
  },
  {
   "cell_type": "code",
   "execution_count": 13,
   "metadata": {},
   "outputs": [
    {
     "data": {
      "text/plain": [
       "'hme'"
      ]
     },
     "execution_count": 13,
     "metadata": {},
     "output_type": "execute_result"
    }
   ],
   "source": [
    "\"mehmet\"[2:5]"
   ]
  },
  {
   "attachments": {},
   "cell_type": "markdown",
   "metadata": {},
   "source": [
    "# If - elif - Else"
   ]
  },
  {
   "cell_type": "code",
   "execution_count": 21,
   "metadata": {},
   "outputs": [
    {
     "name": "stdout",
     "output_type": "stream",
     "text": [
      " 5,  4 den buyuktur\n"
     ]
    }
   ],
   "source": [
    "if 5 > 4 :\n",
    "    print(\" 5,  4 den buyuktur\")"
   ]
  },
  {
   "cell_type": "code",
   "execution_count": 3,
   "metadata": {},
   "outputs": [
    {
     "name": "stdout",
     "output_type": "stream",
     "text": [
      "5, 4 den kucuk degilmis, ayni zamnda esitde degilmis\n"
     ]
    }
   ],
   "source": [
    "if 5 < 4:\n",
    "    print(\"5, 4 den kucuktur\")\n",
    "elif 5 == 4:\n",
    "    print(\" 5, 4 e esittir\")\n",
    "else: \n",
    "    print(\"5, 4 den kucuk degilmis, ayni zamnda esitde degilmis\")"
   ]
  },
  {
   "cell_type": "code",
   "execution_count": 9,
   "metadata": {},
   "outputs": [
    {
     "name": "stdout",
     "output_type": "stream",
     "text": [
      "B\n"
     ]
    }
   ],
   "source": [
    "cijfer = int(input(\"notunu buraya yaz:\"))\n",
    "\n",
    "\n",
    "\n",
    "\n",
    "\n",
    "\n"
   ]
  },
  {
   "cell_type": "code",
   "execution_count": 13,
   "metadata": {},
   "outputs": [
    {
     "name": "stdout",
     "output_type": "stream",
     "text": [
      "hatalı giriş yaptınız\n"
     ]
    },
    {
     "data": {
      "text/plain": [
       "2"
      ]
     },
     "execution_count": 13,
     "metadata": {},
     "output_type": "execute_result"
    }
   ],
   "source": [
    "sınav_notu = int(input(\"Sınav notunuzu girin.(0 ile 100 arasında)\"))\n",
    "\n",
    "if 0 <= sınav_notu <= 100:\n",
    "    if sınav_notu >= 90:\n",
    "        harf_notu = \"A\"\n",
    "    elif sınav_notu >= 75:\n",
    "        harf_notu = \"B\"\n",
    "    elif sınav_notu >= 60:\n",
    "        harf_notu = \"C\"\n",
    "    elif sınav_notu >= 45:\n",
    "        harf_notu = \"D\"\n",
    "    else:\n",
    "        harf_notu = \"F\"\n",
    "    print(f\"sınavdan aldığınız not {harf_notu} harfine denk gelmektedir\")\n",
    "else:\n",
    "    print(\"hatalı giriş yaptınız\")\n",
    "\n",
    "2\n",
    "\n"
   ]
  },
  {
   "cell_type": "code",
   "execution_count": null,
   "metadata": {},
   "outputs": [],
   "source": []
  },
  {
   "cell_type": "code",
   "execution_count": null,
   "metadata": {},
   "outputs": [],
   "source": []
  },
  {
   "cell_type": "code",
   "execution_count": null,
   "metadata": {},
   "outputs": [],
   "source": []
  },
  {
   "cell_type": "code",
   "execution_count": null,
   "metadata": {},
   "outputs": [],
   "source": []
  }
 ],
 "metadata": {
  "kernelspec": {
   "display_name": "Python 3",
   "language": "python",
   "name": "python3"
  },
  "language_info": {
   "codemirror_mode": {
    "name": "ipython",
    "version": 3
   },
   "file_extension": ".py",
   "mimetype": "text/x-python",
   "name": "python",
   "nbconvert_exporter": "python",
   "pygments_lexer": "ipython3",
   "version": "3.11.1"
  },
  "orig_nbformat": 4,
  "vscode": {
   "interpreter": {
    "hash": "eabde9110b449084ff6a5c90926c01dd37afab08f8d96935fc9e46977bb13740"
   }
  }
 },
 "nbformat": 4,
 "nbformat_minor": 2
}
