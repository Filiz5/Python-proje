{
 "cells": [
  {
   "cell_type": "code",
   "execution_count": null,
   "metadata": {},
   "outputs": [],
   "source": [
    "# 8765 sn kaaç saat kaç dk ve kaç sn dir?"
   ]
  },
  {
   "cell_type": "code",
   "execution_count": 4,
   "metadata": {},
   "outputs": [
    {
     "name": "stdout",
     "output_type": "stream",
     "text": [
      "8765 saniye = 2 saat 26 dakika 5 saniye eder\n"
     ]
    }
   ],
   "source": [
    "verilen_saniye = 8765\n",
    "saat = verilen_saniye // 3600  # 1 saat 60 dk veya 3600 sn dir.\n",
    "dakika = (verilen_saniye % 3600) // 60\n",
    "saniye = (verilen_saniye % 3600) % 60   \n",
    "print(verilen_saniye, \"saniye =\",saat,\"saat\",dakika, \"dakika\", saniye,\"saniye eder\")"
   ]
  },
  {
   "cell_type": "code",
   "execution_count": 6,
   "metadata": {},
   "outputs": [
    {
     "name": "stdout",
     "output_type": "stream",
     "text": [
      "8765 saniye; 2 saat 26 dakika 5 saniye eder\n"
     ]
    }
   ],
   "source": [
    "print(f\"{verilen_saniye} saniye; {saat} saat {dakika} dakika {saniye} saniye eder\")"
   ]
  },
  {
   "cell_type": "code",
   "execution_count": 8,
   "metadata": {},
   "outputs": [
    {
     "name": "stdout",
     "output_type": "stream",
     "text": [
      "None or 1\n"
     ]
    }
   ],
   "source": [
    "print(\"None or 1\")"
   ]
  },
  {
   "cell_type": "code",
   "execution_count": 7,
   "metadata": {},
   "outputs": [
    {
     "ename": "NameError",
     "evalue": "name 'salise' is not defined",
     "output_type": "error",
     "traceback": [
      "\u001b[1;31m---------------------------------------------------------------------------\u001b[0m",
      "\u001b[1;31mNameError\u001b[0m                                 Traceback (most recent call last)",
      "\u001b[1;32m~\\AppData\\Local\\Temp/ipykernel_13720/1874876909.py\u001b[0m in \u001b[0;36m<module>\u001b[1;34m\u001b[0m\n\u001b[1;32m----> 1\u001b[1;33m \u001b[0mprint\u001b[0m\u001b[1;33m(\u001b[0m\u001b[1;34mf\"{verilen_saniye} saniye; {salise} saat {dakika} dakika {saniye} saniye eder\"\u001b[0m\u001b[1;33m)\u001b[0m\u001b[1;33m\u001b[0m\u001b[1;33m\u001b[0m\u001b[0m\n\u001b[0m",
      "\u001b[1;31mNameError\u001b[0m: name 'salise' is not defined"
     ]
    }
   ],
   "source": [
    "print(f\"{verilen_saniye} saniye; {salise} saat {dakika} dakika {saniye} saniye eder\")"
   ]
  },
  {
   "cell_type": "code",
   "execution_count": null,
   "metadata": {},
   "outputs": [],
   "source": [
    "verilen_saniye = 8765\n",
    "saat = verilen_saniye // 3600  # 1 saat 60 dk veya 3600 sn dir.\n",
    "dakika = (verilen_saniye % 3600) // 60\n",
    "saniye = (verilen_saniye % 3600) % 60\n",
    "print(verilen_saniye, \"saniye =\",saat,\"saat\",dakika, \"dakika\", saniye,\"saniye eder\") "
   ]
  },
  {
   "cell_type": "code",
   "execution_count": 12,
   "metadata": {},
   "outputs": [
    {
     "name": "stdout",
     "output_type": "stream",
     "text": [
      "8765 saniye; 2 saat 26 dakika 5 saniye eder\n"
     ]
    }
   ],
   "source": [
    "print(\"{} saniye; {} saat {} dakika {} saniye eder\".format(verilen_saniye,saat,dakika,saniye))"
   ]
  },
  {
   "cell_type": "code",
   "execution_count": 13,
   "metadata": {},
   "outputs": [
    {
     "name": "stdout",
     "output_type": "stream",
     "text": [
      "8765 saniye; 2 saat 26 dakika 5 saniye eder\n"
     ]
    }
   ],
   "source": [
    "print(\"{} saniye; {} saat {} dakika {} saniye eder\".format(verilen_saniye,saat,dakika,saniye,saat))"
   ]
  },
  {
   "cell_type": "code",
   "execution_count": 14,
   "metadata": {},
   "outputs": [
    {
     "ename": "IndexError",
     "evalue": "Replacement index 3 out of range for positional args tuple",
     "output_type": "error",
     "traceback": [
      "\u001b[1;31m---------------------------------------------------------------------------\u001b[0m",
      "\u001b[1;31mIndexError\u001b[0m                                Traceback (most recent call last)",
      "\u001b[1;32m~\\AppData\\Local\\Temp/ipykernel_13720/2342243307.py\u001b[0m in \u001b[0;36m<module>\u001b[1;34m\u001b[0m\n\u001b[1;32m----> 1\u001b[1;33m \u001b[0mprint\u001b[0m\u001b[1;33m(\u001b[0m\u001b[1;34m\"{} saniye; {} saat {} dakika {} saniye eder\"\u001b[0m\u001b[1;33m.\u001b[0m\u001b[0mformat\u001b[0m\u001b[1;33m(\u001b[0m\u001b[0mverilen_saniye\u001b[0m\u001b[1;33m,\u001b[0m\u001b[0msaat\u001b[0m\u001b[1;33m,\u001b[0m\u001b[0mdakika\u001b[0m\u001b[1;33m)\u001b[0m\u001b[1;33m)\u001b[0m\u001b[1;33m\u001b[0m\u001b[1;33m\u001b[0m\u001b[0m\n\u001b[0m",
      "\u001b[1;31mIndexError\u001b[0m: Replacement index 3 out of range for positional args tuple"
     ]
    }
   ],
   "source": [
    "print(\"{} saniye; {} saat {} dakika {} saniye eder\".format(verilen_saniye,saat,dakika))"
   ]
  },
  {
   "attachments": {},
   "cell_type": "markdown",
   "metadata": {},
   "source": [
    "## len()"
   ]
  },
  {
   "cell_type": "code",
   "execution_count": null,
   "metadata": {},
   "outputs": [],
   "source": [
    "\"Techpro\""
   ]
  },
  {
   "cell_type": "code",
   "execution_count": 15,
   "metadata": {},
   "outputs": [
    {
     "data": {
      "text/plain": [
       "7"
      ]
     },
     "execution_count": 15,
     "metadata": {},
     "output_type": "execute_result"
    }
   ],
   "source": [
    "len(\"Techpro\")"
   ]
  },
  {
   "cell_type": "code",
   "execution_count": 21,
   "metadata": {},
   "outputs": [
    {
     "data": {
      "text/plain": [
       "'Meh'"
      ]
     },
     "execution_count": 21,
     "metadata": {},
     "output_type": "execute_result"
    }
   ],
   "source": [
    "name = \"Mehmet\"\n",
    "\"Mehmet\"[:(len(name) // 2)]"
   ]
  },
  {
   "cell_type": "code",
   "execution_count": 22,
   "metadata": {},
   "outputs": [
    {
     "data": {
      "text/plain": [
       "'met'"
      ]
     },
     "execution_count": 22,
     "metadata": {},
     "output_type": "execute_result"
    }
   ],
   "source": [
    "name = \"Mehmet\"\n",
    "\"Mehmet\"[(len(name) // 2):]"
   ]
  },
  {
   "cell_type": "code",
   "execution_count": 24,
   "metadata": {},
   "outputs": [],
   "source": [
    "str1 = \"sarı\"\n",
    "str2 = \"mehmet\" # \"samehmetrı\""
   ]
  },
  {
   "cell_type": "code",
   "execution_count": 32,
   "metadata": {},
   "outputs": [
    {
     "data": {
      "text/plain": [
       "'samehmetrı'"
      ]
     },
     "execution_count": 32,
     "metadata": {},
     "output_type": "execute_result"
    }
   ],
   "source": [
    "ilk_bölüm = str1[:(len(str1) // 2)]\n",
    "son_bölüm = str1[(len(str1) // 2):]\n",
    "sonuç = ilk_bölüm + str2 + son_bölüm\n",
    "sonuç"
   ]
  },
  {
   "cell_type": "code",
   "execution_count": 30,
   "metadata": {},
   "outputs": [
    {
     "data": {
      "text/plain": [
       "'Tec'"
      ]
     },
     "execution_count": 30,
     "metadata": {},
     "output_type": "execute_result"
    }
   ],
   "source": [
    "\"Techpro\"[:int((len(\"Techpro\") / 2))]"
   ]
  },
  {
   "cell_type": "code",
   "execution_count": 4,
   "metadata": {},
   "outputs": [],
   "source": [
    "str1 = \"Techpro\"\n",
    "str2 = \"best\""
   ]
  },
  {
   "cell_type": "code",
   "execution_count": 8,
   "metadata": {},
   "outputs": [
    {
     "name": "stdout",
     "output_type": "stream",
     "text": [
      "Tecbesthpro\n"
     ]
    }
   ],
   "source": [
    "bolum1= str1[:(len(str1)//2)]\n",
    "bolum2= str1[(len(str1)//2):]\n",
    "sonuc = bolum1+ str2 +bolum2\n",
    "print(sonuc)"
   ]
  },
  {
   "cell_type": "code",
   "execution_count": 6,
   "metadata": {},
   "outputs": [
    {
     "name": "stdout",
     "output_type": "stream",
     "text": [
      "Tecbesthpro\n"
     ]
    }
   ],
   "source": [
    "ilk_bölüm = str1[:(len(str1) // 2)]\n",
    "son_bölüm = str1[(len(str1) // 2):]\n",
    "sonuç = ilk_bölüm + str2 + son_bölüm\n",
    "print(sonuç)"
   ]
  },
  {
   "cell_type": "code",
   "execution_count": 37,
   "metadata": {},
   "outputs": [
    {
     "data": {
      "text/plain": [
       "'Tec'"
      ]
     },
     "execution_count": 37,
     "metadata": {},
     "output_type": "execute_result"
    }
   ],
   "source": [
    "str1[:len(str1) // 2]"
   ]
  },
  {
   "cell_type": "code",
   "execution_count": 36,
   "metadata": {},
   "outputs": [
    {
     "data": {
      "text/plain": [
       "7"
      ]
     },
     "execution_count": 36,
     "metadata": {},
     "output_type": "execute_result"
    }
   ],
   "source": [
    "len(str1)"
   ]
  },
  {
   "cell_type": "code",
   "execution_count": 38,
   "metadata": {},
   "outputs": [
    {
     "name": "stdout",
     "output_type": "stream",
     "text": [
      "Tecbesthpro\n"
     ]
    }
   ],
   "source": [
    "print(str1[:(len(str1) // 2)] + str2 + str1[(len(str1) // 2):] )"
   ]
  },
  {
   "attachments": {},
   "cell_type": "markdown",
   "metadata": {},
   "source": [
    "## If - Elif - Else"
   ]
  },
  {
   "cell_type": "code",
   "execution_count": 40,
   "metadata": {},
   "outputs": [
    {
     "name": "stdout",
     "output_type": "stream",
     "text": [
      "5, 4 ten büyüktür\n"
     ]
    }
   ],
   "source": [
    "if 5 > 4:\n",
    "    print(\"5, 4 ten büyüktür\")"
   ]
  },
  {
   "cell_type": "code",
   "execution_count": 41,
   "metadata": {},
   "outputs": [],
   "source": [
    "if 5 < 4:\n",
    "    print(\"5, 4 ten büyüktür\")"
   ]
  },
  {
   "cell_type": "code",
   "execution_count": 42,
   "metadata": {},
   "outputs": [
    {
     "ename": "IndentationError",
     "evalue": "expected an indented block (Temp/ipykernel_13720/116114887.py, line 2)",
     "output_type": "error",
     "traceback": [
      "\u001b[1;36m  File \u001b[1;32m\"C:\\Users\\a\\AppData\\Local\\Temp/ipykernel_13720/116114887.py\"\u001b[1;36m, line \u001b[1;32m2\u001b[0m\n\u001b[1;33m    print(\"5, 4 ten büyüktür\")\u001b[0m\n\u001b[1;37m    ^\u001b[0m\n\u001b[1;31mIndentationError\u001b[0m\u001b[1;31m:\u001b[0m expected an indented block\n"
     ]
    }
   ],
   "source": [
    "if 5 > 4:\n",
    "print(\"5, 4 ten büyüktür\")"
   ]
  },
  {
   "cell_type": "code",
   "execution_count": 43,
   "metadata": {},
   "outputs": [
    {
     "ename": "SyntaxError",
     "evalue": "invalid syntax (Temp/ipykernel_13720/723120755.py, line 1)",
     "output_type": "error",
     "traceback": [
      "\u001b[1;36m  File \u001b[1;32m\"C:\\Users\\a\\AppData\\Local\\Temp/ipykernel_13720/723120755.py\"\u001b[1;36m, line \u001b[1;32m1\u001b[0m\n\u001b[1;33m    if 5 > 4\u001b[0m\n\u001b[1;37m            ^\u001b[0m\n\u001b[1;31mSyntaxError\u001b[0m\u001b[1;31m:\u001b[0m invalid syntax\n"
     ]
    }
   ],
   "source": [
    "if 5 > 4\n",
    "    print(\"5, 4 ten büyüktür\")"
   ]
  },
  {
   "cell_type": "code",
   "execution_count": 44,
   "metadata": {},
   "outputs": [
    {
     "name": "stdout",
     "output_type": "stream",
     "text": [
      "5, 4 ten büyüktür\n"
     ]
    }
   ],
   "source": [
    "if 5 < 4:\n",
    "    print(\"5, 4 ten küçüktür\")\n",
    "elif 5 > 4:\n",
    "    print(\"5, 4 ten büyüktür\")"
   ]
  },
  {
   "cell_type": "code",
   "execution_count": 45,
   "metadata": {},
   "outputs": [
    {
     "name": "stdout",
     "output_type": "stream",
     "text": [
      "5 sayısı 4 ten küçük değilmiş. Aynı zamanda 5 sayısı 4 e eşitte değilmiş\n"
     ]
    }
   ],
   "source": [
    "if 5 < 4:\n",
    "    print(\"5, 4 ten küçüktür\")\n",
    "elif 5 == 4:\n",
    "    print(\"5, 4 e eşittir\")\n",
    "else:\n",
    "    print(\"5 sayısı 4 ten küçük değilmiş. Aynı zamanda 5 sayısı 4 e eşitte değilmiş\")\n"
   ]
  },
  {
   "cell_type": "code",
   "execution_count": 46,
   "metadata": {},
   "outputs": [
    {
     "name": "stdout",
     "output_type": "stream",
     "text": [
      "5 sayısı 4 ten küçük değilmiş.\n"
     ]
    }
   ],
   "source": [
    "if 5 < 4:\n",
    "    print(\"5, 4 ten küçüktür\")\n",
    "else:\n",
    "    print(\"5 sayısı 4 ten küçük değilmiş.\")"
   ]
  },
  {
   "attachments": {},
   "cell_type": "markdown",
   "metadata": {},
   "source": [
    "input ile kullanıcıdan 100 lük sistemde aldığı notu isteyin ve harf notunu döndüren bir algoritma oluşturun\n",
    "90 ve üstü A\n",
    "75 ve üstü B\n",
    "60 ve üstü C\n",
    "45 ve üstü D\n",
    "45 in altı F"
   ]
  },
  {
   "cell_type": "code",
   "execution_count": 47,
   "metadata": {},
   "outputs": [
    {
     "data": {
      "text/plain": [
       "True"
      ]
     },
     "execution_count": 47,
     "metadata": {},
     "output_type": "execute_result"
    }
   ],
   "source": [
    "95 >= 90"
   ]
  },
  {
   "cell_type": "code",
   "execution_count": 48,
   "metadata": {},
   "outputs": [
    {
     "data": {
      "text/plain": [
       "True"
      ]
     },
     "execution_count": 48,
     "metadata": {},
     "output_type": "execute_result"
    }
   ],
   "source": [
    "90 >= 90"
   ]
  },
  {
   "cell_type": "code",
   "execution_count": 2,
   "metadata": {},
   "outputs": [
    {
     "name": "stdout",
     "output_type": "stream",
     "text": [
      "sınavdan aldığınız not C harfine denk gelmektedir\n"
     ]
    }
   ],
   "source": [
    "sinav_notu = int(input(\"Sınav notunuzu girin.(0 ile 100 arasında)\"))\n",
    "\n",
    "if 0 <= sinav_notu <= 100:\n",
    "    if sinav_notu >= 90:\n",
    "        harf_notu = \"A\"\n",
    "    elif sinav_notu >= 75:\n",
    "        harf_notu = \"B\"\n",
    "    elif sinav_notu >= 60:\n",
    "        harf_notu = \"C\"\n",
    "    elif sinav_notu >= 45:\n",
    "        harf_notu = \"D\"\n",
    "    else:\n",
    "        harf_notu = \"F\"\n",
    "    print(f\"sınavdan aldığınız not {harf_notu} harfine denk gelmektedir\")\n",
    "else:\n",
    "    print(\"hatalı giriş yaptınız\")\n",
    "\n"
   ]
  },
  {
   "cell_type": "code",
   "execution_count": 4,
   "metadata": {},
   "outputs": [
    {
     "name": "stdout",
     "output_type": "stream",
     "text": [
      "sınavdan aldığınız not C harfine denk gelmektedir\n"
     ]
    }
   ],
   "source": [
    "sn= int(input(\" 0 ile 100 arasindaki sinav notnu girin:\"))\n",
    "if 0<= sn <= 100:\n",
    "    if sn >= 90:\n",
    "        harf_notu= \"A\"\n",
    "    elif sn >= 75:\n",
    "        harf_notu = \"B\"\n",
    "    elif sn >= 60:\n",
    "        harf_notu = \"C\" \n",
    "    elif sn >=45:\n",
    "        harf_notu = \"D\"\n",
    "    else:\n",
    "        harf_notu = \"E\"\n",
    "    print(f\"sınavdan aldığınız not {harf_notu} harfine denk gelmektedir\")\n",
    "else: \n",
    "    print(\"hatali giris yaptiniz!\")"
   ]
  },
  {
   "cell_type": "code",
   "execution_count": null,
   "metadata": {},
   "outputs": [],
   "source": [
    "sınav_notu = int(input(\"Sınav notunuzu girin.(0 ile 100 arasında)\"))\n",
    "\n",
    "if sınav_notu >= 90:\n",
    "    harf_notu = \"A\"\n",
    "elif sınav_notu >= 75:\n",
    "    harf_notu = \"B\"\n",
    "elif sınav_notu >= 60:\n",
    "    harf_notu = \"C\"\n",
    "elif sınav_notu >= 45:\n",
    "    harf_notu = \"D\"\n",
    "elif sınav_notu < 45:\n",
    "    harf_notu = \"F\"\n",
    "\n",
    "print(f\"sınavdan aldığınız not {harf_notu} harfine denk gelmektedir\")"
   ]
  },
  {
   "cell_type": "code",
   "execution_count": 5,
   "metadata": {},
   "outputs": [
    {
     "name": "stdout",
     "output_type": "stream",
     "text": [
      "sınavdan aldığınız not A harfine denk gelmektedir\n"
     ]
    }
   ],
   "source": [
    "sınav_notu = int(input(\"Sınav notunuzu girin.(0 ile 100 arasında)\"))\n",
    "\n",
    "if sınav_notu >= 90:\n",
    "    harf_notu = \"A\"\n",
    "elif sınav_notu >= 75:\n",
    "    harf_notu = \"B\"\n",
    "elif sınav_notu >= 60:\n",
    "    harf_notu = \"C\"\n",
    "elif sınav_notu >= 45:\n",
    "    harf_notu = \"D\"\n",
    "else:\n",
    "    harf_notu = \"F\"\n",
    "\n",
    "print(f\"sınavdan aldığınız not {harf_notu} harfine denk gelmektedir\")"
   ]
  },
  {
   "cell_type": "code",
   "execution_count": 6,
   "metadata": {},
   "outputs": [
    {
     "name": "stdout",
     "output_type": "stream",
     "text": [
      "A\n",
      "sınavdan aldığınız not130 harfine denk gelmektedir.\n"
     ]
    }
   ],
   "source": [
    "x = int(input(\"lutfen notunuzu girin\"))\n",
    "if x >= 90:\n",
    "    print(\"A\")\n",
    "elif x >= 75:\n",
    "    print(\"B\")\n",
    "elif x >= 60:\n",
    "    print(\"C\")\n",
    "elif x >= 45:\n",
    "    print(\"D\")\n",
    "else :\n",
    "    print(\"F\")\n"
   ]
  },
  {
   "cell_type": "code",
   "execution_count": 62,
   "metadata": {},
   "outputs": [
    {
     "name": "stdout",
     "output_type": "stream",
     "text": [
      "D\n"
     ]
    }
   ],
   "source": [
    "notu = int(input(\"Sinav Sonucu Giri;s\"))\n",
    "if 90 <= notu <= 100:\n",
    "        print (\"A\")\n",
    "elif 75<= notu < 90:\n",
    "    print(\"B\")\n",
    "elif 60 <= notu <75:\n",
    "    print (\"C\")\n",
    "elif 45 <= notu <60:\n",
    "    print (\"D\")\n",
    "else:\n",
    "    print (\"E\")\n"
   ]
  },
  {
   "cell_type": "code",
   "execution_count": null,
   "metadata": {},
   "outputs": [],
   "source": [
    "notu = int(input(\"Sinav Sonucu Giri;s\"))\n",
    "\n",
    "if 90 <= notu <= 100:\n",
    "        print (\"A\")\n",
    "elif 75<= notu < 90:\n",
    "    print(\"B\")\n",
    "elif 60 <= notu <75:\n",
    "    print (\"C\")\n",
    "elif 45 <= notu <60:\n",
    "    print (\"D\")\n",
    "else:\n",
    "    print (\"E\")"
   ]
  },
  {
   "cell_type": "code",
   "execution_count": null,
   "metadata": {},
   "outputs": [],
   "source": [
    "\"print(f\"sinavdan aldiğınız not {harf_notu} harfine denk gelmektedir\")\""
   ]
  },
  {
   "cell_type": "code",
   "execution_count": null,
   "metadata": {},
   "outputs": [],
   "source": []
  },
  {
   "attachments": {},
   "cell_type": "markdown",
   "metadata": {},
   "source": [
    "Bir öğrencinin notunu hesaplayan bir program yazınız. Program, öğrencinin vize notunu (max 100 puan), final notunu (max 100 puan) ve ödev notunu (max 50 puan) alacak. Daha sonra, aşağıdaki kurallara göre öğrencinin harf notunu hesaplayacak:\n",
    "Notların ağırlıkları: Vize: %30, Final: %50, Ödev: %20\n",
    "Harf notları şu tabloya göre belirlenir:\n",
    "90-100 AA\n",
    "85-89 BA\n",
    "80-84 BB\n",
    "75-79 CB\n",
    "70-74 CC\n",
    "60-69 DC\n",
    "50-59 DD\n",
    "0-49 FF\n",
    "Çıktı olarak program öğrencinin harf notunu yazdıracak."
   ]
  },
  {
   "cell_type": "code",
   "execution_count": 9,
   "metadata": {},
   "outputs": [
    {
     "name": "stdout",
     "output_type": "stream",
     "text": [
      "sınavdan aldığınız not DD harfine denk gelmektedir\n"
     ]
    }
   ],
   "source": [
    "vize_notu = int(input(\"vize notu:(max 100 p)\"))\n",
    "final_notu = int(input(\"final notu:(max 100 p)\"))\n",
    "odev_notu = int(input(\"odev notu:(max 50 p)\")) \n",
    "son_notu = vize_notu * 0.30 + final_notu * 0.5 + odev_notu * 0.2\n",
    "\n",
    "if son_notu >= 90:\n",
    "    harf_notu= \"AA\"\n",
    "elif son_notu >= 85:\n",
    "    harf_notu = \"BA\"\n",
    "elif son_notu >= 80:\n",
    "    harf_notu = \"BB\"\n",
    "elif son_notu >=75:\n",
    "    harf_notu = \"CB\"\n",
    "elif son_notu >= 70:\n",
    "    harf_notu = \"CC\"\n",
    "elif son_notu >=60:\n",
    "    harf_notu = \"DC\"\n",
    "elif son_notu >=50:\n",
    "    harf_notu = \"DD\"\n",
    "else:\n",
    "    harf_notu = \"FF\"\n",
    "    \n",
    "print(f\"sınavdan aldığınız not {harf_notu} harfine denk gelmektedir\")\n",
    "\n"
   ]
  }
 ],
 "metadata": {
  "kernelspec": {
   "display_name": "Python 3",
   "language": "python",
   "name": "python3"
  },
  "language_info": {
   "codemirror_mode": {
    "name": "ipython",
    "version": 3
   },
   "file_extension": ".py",
   "mimetype": "text/x-python",
   "name": "python",
   "nbconvert_exporter": "python",
   "pygments_lexer": "ipython3",
   "version": "3.11.1"
  },
  "orig_nbformat": 4,
  "vscode": {
   "interpreter": {
    "hash": "eabde9110b449084ff6a5c90926c01dd37afab08f8d96935fc9e46977bb13740"
   }
  }
 },
 "nbformat": 4,
 "nbformat_minor": 2
}
