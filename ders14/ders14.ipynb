{
 "cells": [
  {
   "attachments": {},
   "cell_type": "markdown",
   "metadata": {},
   "source": [
    "iterable(Lists, tuples, dictionaries, and sets)\n",
    "nstance 'den geliyor \"i\" herhalde\n",
    "+ bir durum True oldugu surece, gibi bir durumsa while kullaniri\n",
    "ornek. hava soguk oldugu surece her eve komur gonderilsin\n",
    "+bir iterable(Lists, tuples, dictionaries, and sets) uzerine is yapmak istedigimiz zaman for loop kullaniriz\n",
    "ornek. siniftaki ogrencilerin her birisiyle bir calisma yapmak istiyorsak for kullaniriz"
   ]
  },
  {
   "cell_type": "code",
   "execution_count": 7,
   "metadata": {},
   "outputs": [
    {
     "data": {
      "text/plain": [
       "'hell'"
      ]
     },
     "execution_count": 7,
     "metadata": {},
     "output_type": "execute_result"
    }
   ],
   "source": [
    "c=\"hello\"\n",
    "c.strip(\"o\")"
   ]
  },
  {
   "cell_type": "code",
   "execution_count": 2,
   "metadata": {},
   "outputs": [
    {
     "data": {
      "text/plain": [
       "'hello'"
      ]
     },
     "execution_count": 2,
     "metadata": {},
     "output_type": "execute_result"
    }
   ],
   "source": [
    "c"
   ]
  },
  {
   "cell_type": "code",
   "execution_count": 8,
   "metadata": {},
   "outputs": [
    {
     "data": {
      "text/plain": [
       "'hell'"
      ]
     },
     "execution_count": 8,
     "metadata": {},
     "output_type": "execute_result"
    }
   ],
   "source": [
    "\"hello\".strip(\"o\")"
   ]
  },
  {
   "cell_type": "code",
   "execution_count": 6,
   "metadata": {},
   "outputs": [
    {
     "name": "stdout",
     "output_type": "stream",
     "text": [
      "key : name      , value : ismet               \n",
      "key : surname   , value : yılmaz              \n",
      "key : age       , value : 25                  \n"
     ]
    }
   ],
   "source": [
    "dict_2 = {\"name\" : \"ismet\", \"surname\" : \"yılmaz\", \"age\" : 25}\n",
    "for i, j in dict_2.items():\n",
    "    print(f\"key : {i:<10}, value : {j:<20}\")"
   ]
  },
  {
   "cell_type": "code",
   "execution_count": null,
   "metadata": {},
   "outputs": [],
   "source": [
    "cumle = \"bunu bir daha yapmiycam\"\n",
    "\n",
    "for i in range(50):\n",
    "    print(cumle)"
   ]
  },
  {
   "cell_type": "code",
   "execution_count": 12,
   "metadata": {},
   "outputs": [
    {
     "name": "stdout",
     "output_type": "stream",
     "text": [
      "1  x 9 = 9\n",
      "2  x 9 = 18\n",
      "3  x 9 = 27\n",
      "4  x 9 = 36\n",
      "5  x 9 = 45\n",
      "6  x 9 = 54\n",
      "7  x 9 = 63\n",
      "8  x 9 = 72\n",
      "9  x 9 = 81\n",
      "10 x 9 = 90\n"
     ]
    }
   ],
   "source": [
    "number = int(input(\"0 ile 9 arasında bir rakam girin.(0 ve 9 dahil)\"))\n",
    "\n",
    "if number in [0,1,2,3,4,5,6,7,8,9]:\n",
    "    for i in range(1,11):\n",
    "        print(f\"{i:<2} x {number} = {i * number}\")\n",
    "else:\n",
    "    print(\"0 ile 9 arasında sayı girmenizi istemiştim.\")\n"
   ]
  },
  {
   "cell_type": "code",
   "execution_count": 14,
   "metadata": {},
   "outputs": [
    {
     "name": "stdout",
     "output_type": "stream",
     "text": [
      "Numbers must be 0-9, try again!\n",
      "Numbers must be 0-9, try again!\n",
      "Numbers must be 0-9, try again!\n",
      "You have run out of your trial\n"
     ]
    }
   ],
   "source": [
    "right =0\n",
    "while True:\n",
    "    right += 1\n",
    "    number = int(input(\"Enter numbers 0-9\"))\n",
    "    if number in range(10):\n",
    "        for i in range(1,11):\n",
    "            print(f\"{i:<3}x{number} = {i*number}\")\n",
    "        break\n",
    "    else:\n",
    "        print(\"Numbers must be 0-9, try again!\")\n",
    "    if right == 3:\n",
    "        print(\"You have run out of your trial\")\n",
    "        break"
   ]
  },
  {
   "cell_type": "code",
   "execution_count": 2,
   "metadata": {},
   "outputs": [
    {
     "name": "stdout",
     "output_type": "stream",
     "text": [
      "1275\n"
     ]
    }
   ],
   "source": [
    "sum_ = 0\n",
    "for i in range(51):\n",
    "    sum_ +=  i\n",
    "print(sum_)  "
   ]
  },
  {
   "cell_type": "code",
   "execution_count": 3,
   "metadata": {},
   "outputs": [
    {
     "name": "stdout",
     "output_type": "stream",
     "text": [
      "650\n"
     ]
    }
   ],
   "source": [
    "sum_ = 0\n",
    "for i in range(0,51,2):\n",
    "    sum_ +=  i\n",
    "print(sum_)"
   ]
  },
  {
   "cell_type": "code",
   "execution_count": 4,
   "metadata": {},
   "outputs": [
    {
     "name": "stdout",
     "output_type": "stream",
     "text": [
      "625\n"
     ]
    }
   ],
   "source": [
    "sum_= 0\n",
    "for i in range(1,50,2):\n",
    "    sum_ +=  i\n",
    "print(sum_)"
   ]
  },
  {
   "cell_type": "code",
   "execution_count": 3,
   "metadata": {},
   "outputs": [
    {
     "data": {
      "text/plain": [
       "15"
      ]
     },
     "execution_count": 3,
     "metadata": {},
     "output_type": "execute_result"
    }
   ],
   "source": [
    "sum([1,2,3,4,5])"
   ]
  },
  {
   "cell_type": "code",
   "execution_count": 2,
   "metadata": {},
   "outputs": [
    {
     "data": {
      "text/plain": [
       "1275"
      ]
     },
     "execution_count": 2,
     "metadata": {},
     "output_type": "execute_result"
    }
   ],
   "source": [
    "sum(list(range(51)))"
   ]
  },
  {
   "cell_type": "code",
   "execution_count": 1,
   "metadata": {},
   "outputs": [
    {
     "data": {
      "text/plain": [
       "10.8"
      ]
     },
     "execution_count": 1,
     "metadata": {},
     "output_type": "execute_result"
    }
   ],
   "source": [
    "sum((1,2,3.3,4.5))"
   ]
  },
  {
   "cell_type": "code",
   "execution_count": 1,
   "metadata": {},
   "outputs": [
    {
     "data": {
      "text/plain": [
       "139"
      ]
     },
     "execution_count": 1,
     "metadata": {},
     "output_type": "execute_result"
    }
   ],
   "source": [
    "sum((4,5,6,7,8,9), 100)"
   ]
  },
  {
   "cell_type": "code",
   "execution_count": 2,
   "metadata": {},
   "outputs": [
    {
     "data": {
      "text/plain": [
       "11.8"
      ]
     },
     "execution_count": 2,
     "metadata": {},
     "output_type": "execute_result"
    }
   ],
   "source": [
    "sum((1,2,3.3,4.5,True))"
   ]
  },
  {
   "cell_type": "code",
   "execution_count": 3,
   "metadata": {},
   "outputs": [
    {
     "name": "stdout",
     "output_type": "stream",
     "text": [
      "103\n"
     ]
    }
   ],
   "source": [
    "k = 0 \n",
    "for i in [1,3,5,4,6,89]:\n",
    "    if i == 5:\n",
    "        continue\n",
    "    k +=i\n",
    "print(k)"
   ]
  },
  {
   "cell_type": "code",
   "execution_count": null,
   "metadata": {},
   "outputs": [],
   "source": []
  }
 ],
 "metadata": {
  "kernelspec": {
   "display_name": "Python 3",
   "language": "python",
   "name": "python3"
  },
  "language_info": {
   "codemirror_mode": {
    "name": "ipython",
    "version": 3
   },
   "file_extension": ".py",
   "mimetype": "text/x-python",
   "name": "python",
   "nbconvert_exporter": "python",
   "pygments_lexer": "ipython3",
   "version": "3.11.1"
  },
  "orig_nbformat": 4,
  "vscode": {
   "interpreter": {
    "hash": "eabde9110b449084ff6a5c90926c01dd37afab08f8d96935fc9e46977bb13740"
   }
  }
 },
 "nbformat": 4,
 "nbformat_minor": 2
}
