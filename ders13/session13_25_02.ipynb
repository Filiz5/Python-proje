{
 "cells": [
  {
   "attachments": {},
   "cell_type": "markdown",
   "metadata": {},
   "source": [
    "# LOOPS - while"
   ]
  },
  {
   "cell_type": "code",
   "execution_count": null,
   "metadata": {},
   "outputs": [],
   "source": [
    "\"Techpro\""
   ]
  },
  {
   "cell_type": "markdown",
   "metadata": {},
   "source": [
    "while condition:\n",
    "    body"
   ]
  },
  {
   "cell_type": "code",
   "execution_count": null,
   "metadata": {},
   "outputs": [],
   "source": [
    "# çalıştırma sonsuz döngü\n",
    "while True:\n",
    "    print(\"Sonsuz döngü\")"
   ]
  },
  {
   "cell_type": "code",
   "execution_count": null,
   "metadata": {},
   "outputs": [],
   "source": [
    "# çalıştırma sonsuz döngü\n",
    "while 5 > 2:\n",
    "    print(\"5 2 den büyüktür\")"
   ]
  },
  {
   "cell_type": "code",
   "execution_count": 3,
   "metadata": {},
   "outputs": [
    {
     "name": "stdout",
     "output_type": "stream",
     "text": [
      "0\n",
      "1\n",
      "2\n",
      "3\n",
      "4\n"
     ]
    }
   ],
   "source": [
    "x = 0\n",
    "\n",
    "while x < 5:\n",
    "    print(x)\n",
    "    x = x + 1"
   ]
  },
  {
   "cell_type": "code",
   "execution_count": 4,
   "metadata": {},
   "outputs": [
    {
     "name": "stdout",
     "output_type": "stream",
     "text": [
      "While döngüdü condition False olana kadar çalışır\n"
     ]
    }
   ],
   "source": [
    "y = True\n",
    "\n",
    "while y:\n",
    "    print(\"While döngüdü condition False olana kadar çalışır\")\n",
    "    y = False"
   ]
  },
  {
   "cell_type": "code",
   "execution_count": 2,
   "metadata": {},
   "outputs": [
    {
     "name": "stdout",
     "output_type": "stream",
     "text": [
      "0\n",
      "1\n",
      "2\n",
      "3\n",
      "4\n",
      "Döngünün sonu\n"
     ]
    }
   ],
   "source": [
    "x = 0\n",
    "\n",
    "while x < 5:\n",
    "    print(x)\n",
    "    x = x + 1\n",
    "print(\"Döngünün sonu\")"
   ]
  },
  {
   "cell_type": "code",
   "execution_count": 3,
   "metadata": {},
   "outputs": [
    {
     "name": "stdout",
     "output_type": "stream",
     "text": [
      "0\n",
      "Döngünün sonu\n",
      "1\n",
      "Döngünün sonu\n",
      "2\n",
      "Döngünün sonu\n",
      "3\n",
      "Döngünün sonu\n",
      "4\n",
      "Döngünün sonu\n"
     ]
    }
   ],
   "source": [
    "x = 0\n",
    "\n",
    "while x < 5:\n",
    "    print(x)\n",
    "    x = x + 1\n",
    "    print(\"Döngünün sonu\")"
   ]
  },
  {
   "cell_type": "code",
   "execution_count": null,
   "metadata": {},
   "outputs": [],
   "source": [
    "# çalıştırma sonsuz döngü\n",
    "x = 0\n",
    "\n",
    "while x < 5:\n",
    "    print(x)\n",
    "x = x + 1 # while döngüsü dışında olduğu için sonsuza gider\n",
    "print(\"Döngünün sonu\")"
   ]
  },
  {
   "cell_type": "code",
   "execution_count": 12,
   "metadata": {},
   "outputs": [
    {
     "name": "stdout",
     "output_type": "stream",
     "text": [
      "1\n",
      "4\n",
      "9\n",
      "16\n",
      "25\n"
     ]
    }
   ],
   "source": [
    "liste = [1,2,3,4,5]\n",
    "\n",
    "x = 0\n",
    "\n",
    "while x < len(liste):\n",
    "    print(liste[x] ** 2)\n",
    "    x += 1"
   ]
  },
  {
   "cell_type": "code",
   "execution_count": 13,
   "metadata": {},
   "outputs": [
    {
     "name": "stdout",
     "output_type": "stream",
     "text": [
      "1\n",
      "4\n",
      "9\n",
      "16\n",
      "25\n"
     ]
    },
    {
     "ename": "IndexError",
     "evalue": "list index out of range",
     "output_type": "error",
     "traceback": [
      "\u001b[1;31m---------------------------------------------------------------------------\u001b[0m",
      "\u001b[1;31mIndexError\u001b[0m                                Traceback (most recent call last)",
      "\u001b[1;32m~\\AppData\\Local\\Temp/ipykernel_5112/1940437544.py\u001b[0m in \u001b[0;36m<module>\u001b[1;34m\u001b[0m\n\u001b[0;32m      4\u001b[0m \u001b[1;33m\u001b[0m\u001b[0m\n\u001b[0;32m      5\u001b[0m \u001b[1;32mwhile\u001b[0m \u001b[0mx\u001b[0m \u001b[1;33m<=\u001b[0m \u001b[0mlen\u001b[0m\u001b[1;33m(\u001b[0m\u001b[0mliste\u001b[0m\u001b[1;33m)\u001b[0m\u001b[1;33m:\u001b[0m\u001b[1;33m\u001b[0m\u001b[1;33m\u001b[0m\u001b[0m\n\u001b[1;32m----> 6\u001b[1;33m     \u001b[0mprint\u001b[0m\u001b[1;33m(\u001b[0m\u001b[0mliste\u001b[0m\u001b[1;33m[\u001b[0m\u001b[0mx\u001b[0m\u001b[1;33m]\u001b[0m \u001b[1;33m**\u001b[0m \u001b[1;36m2\u001b[0m\u001b[1;33m)\u001b[0m\u001b[1;33m\u001b[0m\u001b[1;33m\u001b[0m\u001b[0m\n\u001b[0m\u001b[0;32m      7\u001b[0m     \u001b[0mx\u001b[0m \u001b[1;33m+=\u001b[0m \u001b[1;36m1\u001b[0m\u001b[1;33m\u001b[0m\u001b[1;33m\u001b[0m\u001b[0m\n",
      "\u001b[1;31mIndexError\u001b[0m: list index out of range"
     ]
    }
   ],
   "source": [
    "liste = [1,2,3,4,5]\n",
    "\n",
    "x = 0\n",
    "\n",
    "while x <= len(liste): # eşittir dersek listenin son indexini geçeceği için hata verir. \n",
    "    print(liste[x] ** 2)\n",
    "    x += 1"
   ]
  },
  {
   "cell_type": "code",
   "execution_count": 14,
   "metadata": {},
   "outputs": [
    {
     "name": "stdout",
     "output_type": "stream",
     "text": [
      "sanki bunu yazdırmaz\n"
     ]
    }
   ],
   "source": [
    "while []:\n",
    "    print(\"boş liste\")\n",
    "print(\"sanki bunu yazdırmaz\")"
   ]
  },
  {
   "cell_type": "code",
   "execution_count": null,
   "metadata": {},
   "outputs": [],
   "source": [
    "\"\"\"\n",
    "while []:\n",
    "    print(\"boş liste\")\n",
    "print(\"sanki bunu yazdırmaz\")\n",
    "\"\"\""
   ]
  },
  {
   "cell_type": "code",
   "execution_count": 1,
   "metadata": {},
   "outputs": [
    {
     "data": {
      "text/plain": [
       "'\\nwhile [1]:\\n    print(\"boş liste\")\\nprint(\"sanki bunu yazdırmaz\")\\n'"
      ]
     },
     "execution_count": 1,
     "metadata": {},
     "output_type": "execute_result"
    }
   ],
   "source": [
    "\"\"\"\n",
    "while [1]:\n",
    "    print(\"boş liste\")\n",
    "print(\"sanki bunu yazdırmaz\")\n",
    "\"\"\""
   ]
  },
  {
   "cell_type": "code",
   "execution_count": null,
   "metadata": {},
   "outputs": [],
   "source": [
    "sayı = 48\n",
    "\n",
    "\n",
    "while True:\n",
    "\n",
    "    tahmin = int(input(\"Bir sayı girin\"))\n",
    "\n",
    "    if sayı < tahmin:\n",
    "        print(f\"Girdiğiniz sayı {tahmin}. Tahminini azalt\")\n",
    "    elif sayı > tahmin:\n",
    "        print(f\"Girdiğiniz sayı {tahmin}. Tahminini arttır\")\n",
    "    else:\n",
    "        print(f\"Girdiğiniz sayı {tahmin}.Bravo. Doğru tahmin\")\n",
    "        break\n"
   ]
  },
  {
   "cell_type": "code",
   "execution_count": 2,
   "metadata": {},
   "outputs": [
    {
     "name": "stdout",
     "output_type": "stream",
     "text": [
      "Girdiğiniz sayı 45. Tahminini arttır\n",
      "Girdiğiniz sayı 78. Tahminini azalt\n",
      "Girdiğiniz sayı 78. Tahminini azalt\n",
      "Girdiğiniz sayı 96. Tahminini azalt\n",
      "Girdiğiniz sayı 96. Tahminini azalt\n",
      "Girdiğiniz sayı 48.Bravo. Doğru tahmin\n",
      "6 denemede bildin\n"
     ]
    }
   ],
   "source": [
    "sayı = 48\n",
    "\n",
    "sayaç = 0\n",
    "\n",
    "while True:\n",
    "\n",
    "    tahmin = int(input(\"Bir sayı girin\"))\n",
    "    \n",
    "    if sayı < tahmin:\n",
    "        print(f\"Girdiğiniz sayı {tahmin}. Tahminini azalt\")\n",
    "        sayaç += 1\n",
    "    elif sayı > tahmin:\n",
    "        print(f\"Girdiğiniz sayı {tahmin}. Tahminini arttır\")\n",
    "        sayaç += 1\n",
    "    else:\n",
    "        print(f\"Girdiğiniz sayı {tahmin}.Bravo. Doğru tahmin\")\n",
    "        sayaç += 1\n",
    "        break\n",
    "print(f\"{sayaç} denemede bildin\")"
   ]
  },
  {
   "cell_type": "code",
   "execution_count": 3,
   "metadata": {},
   "outputs": [
    {
     "name": "stdout",
     "output_type": "stream",
     "text": [
      "Girdiginiz sayi: 98. Tahmini ni azalt\n",
      "Grirdiginiz sayi: 45. Tahmini artir\n",
      "Girdiginiz sayi: 65. Tahmini ni azalt\n",
      "Girdiginiz sayi: 60. Tahmini ni azalt\n",
      "Grirdiginiz sayi: 45. Tahmini artir\n",
      "Girdiginiz sayi:56. Bravo. Bildiniz\n",
      "6 denemede bildiniz.\n"
     ]
    }
   ],
   "source": [
    "sayi = 56\n",
    "sayac = 0\n",
    "while True:\n",
    "    tahmin = int(input(\"bir sayi gir\"))\n",
    "    if sayi < tahmin:\n",
    "        print(f\"Girdiginiz sayi: {tahmin}. Tahmini ni azalt\")\n",
    "        sayac +=1\n",
    "    elif sayi > tahmin:\n",
    "        print(f\"Grirdiginiz sayi: {tahmin}. Tahmini artir\")\n",
    "        sayac +=1\n",
    "    else:\n",
    "        print(f\"Girdiginiz sayi:{tahmin}. Bravo. Bildiniz\")\n",
    "        sayac +=1\n",
    "        break\n",
    "print(f\"{sayac} denemede bildiniz.\")"
   ]
  },
  {
   "attachments": {},
   "cell_type": "markdown",
   "metadata": {},
   "source": [
    "## random modülü"
   ]
  },
  {
   "cell_type": "code",
   "execution_count": 4,
   "metadata": {},
   "outputs": [],
   "source": [
    "import random"
   ]
  },
  {
   "cell_type": "code",
   "execution_count": 6,
   "metadata": {},
   "outputs": [
    {
     "data": {
      "text/plain": [
       "0.5550088486643019"
      ]
     },
     "execution_count": 6,
     "metadata": {},
     "output_type": "execute_result"
    }
   ],
   "source": [
    "random.random() # 0-1 arasinda rasgele bir sayi getirir. "
   ]
  },
  {
   "cell_type": "code",
   "execution_count": 9,
   "metadata": {},
   "outputs": [
    {
     "data": {
      "text/plain": [
       "0.7601614783097744"
      ]
     },
     "execution_count": 9,
     "metadata": {},
     "output_type": "execute_result"
    }
   ],
   "source": [
    "random.seed(95) # belli bir indexdeki sayiyi calistirir. sabit sayi. herkezde ayni cikar. takim calismalarinda ayni random sayi ile calismak \n",
    "                 #istiyorsaniz seed() kullanmaliyiz. \n",
    "random.random()"
   ]
  },
  {
   "cell_type": "markdown",
   "metadata": {},
   "source": []
  },
  {
   "cell_type": "code",
   "execution_count": 29,
   "metadata": {},
   "outputs": [
    {
     "data": {
      "text/plain": [
       "<function Random.random()>"
      ]
     },
     "execution_count": 29,
     "metadata": {},
     "output_type": "execute_result"
    }
   ],
   "source": [
    "random.seed(95)\n",
    "random.random"
   ]
  },
  {
   "cell_type": "code",
   "execution_count": 52,
   "metadata": {},
   "outputs": [
    {
     "data": {
      "text/plain": [
       "2"
      ]
     },
     "execution_count": 52,
     "metadata": {},
     "output_type": "execute_result"
    }
   ],
   "source": [
    "random.randint(0,4)"
   ]
  },
  {
   "cell_type": "code",
   "execution_count": 11,
   "metadata": {},
   "outputs": [
    {
     "name": "stdout",
     "output_type": "stream",
     "text": [
      "Girdiğiniz sayı 78. Tahminini arttır\n",
      "Girdiğiniz sayı 89. Tahminini arttır\n",
      "Girdiğiniz sayı 98. Tahminini azalt\n",
      "Girdiğiniz sayı 95. Tahminini azalt\n",
      "Girdiğiniz sayı 93. Tahminini arttır\n",
      "Girdiğiniz sayı 94.Bravo. Doğru tahmin\n",
      "6 denemede bildin\n"
     ]
    }
   ],
   "source": [
    "import random\n",
    "sayı = random.randint(0,100)\n",
    "sayaç = 0\n",
    "while True:\n",
    "    tahmin = int(input(\"Bir sayı girin\"))\n",
    "    \n",
    "    if sayı < tahmin:\n",
    "        print(f\"Girdiğiniz sayı {tahmin}. Tahminini azalt\")\n",
    "        sayaç += 1\n",
    "    elif sayı > tahmin:\n",
    "        print(f\"Girdiğiniz sayı {tahmin}. Tahminini arttır\")\n",
    "        sayaç += 1\n",
    "    else:\n",
    "        print(f\"Girdiğiniz sayı {tahmin}.Bravo. Doğru tahmin\")\n",
    "        sayaç += 1\n",
    "        break\n",
    "print(f\"{sayaç} denemede bildin\")"
   ]
  },
  {
   "cell_type": "code",
   "execution_count": 14,
   "metadata": {},
   "outputs": [
    {
     "name": "stdout",
     "output_type": "stream",
     "text": [
      "Note: you may need to restart the kernel to use updated packages.\n"
     ]
    },
    {
     "name": "stderr",
     "output_type": "stream",
     "text": [
      "ERROR: Could not find a version that satisfies the requirement time (from versions: none)\n",
      "ERROR: No matching distribution found for time\n",
      "\n",
      "[notice] A new release of pip available: 22.3.1 -> 23.0.1\n",
      "[notice] To update, run: python.exe -m pip install --upgrade pip\n"
     ]
    }
   ],
   "source": [
    "pip install time # conda install time conda kullaniyorsan. python la calisan pip install time diyerek time import edebilirler. "
   ]
  },
  {
   "cell_type": "code",
   "execution_count": 12,
   "metadata": {},
   "outputs": [
    {
     "name": "stdout",
     "output_type": "stream",
     "text": [
      "Girdiğiniz sayı 46. Tahminini arttır\n",
      "Girdiğiniz sayı 58. Tahminini arttır\n",
      "Girdiğiniz sayı 78. Tahminini azalt\n",
      "Girdiğiniz sayı 68. Tahminini arttır\n",
      "Girdiğiniz sayı 70. Tahminini azalt\n"
     ]
    }
   ],
   "source": [
    "import random\n",
    "sayı = random.randint(0,100)\n",
    "sayaç = 0\n",
    "import time\n",
    "while sayaç < 5:\n",
    "    tahmin = int(input(\"Bir sayı girin\"))\n",
    "    sayaç += 1\n",
    "    time.sleep(1) # verilerin girislerinde 1 saniye bekletiyor. \n",
    "    if sayı < tahmin:\n",
    "        print(f\"Girdiğiniz sayı {tahmin}. Tahminini azalt\")\n",
    "        time.sleep(1)\n",
    "    elif sayı > tahmin:\n",
    "        print(f\"Girdiğiniz sayı {tahmin}. Tahminini arttır\")\n",
    "        time.sleep(1)\n",
    "    else:\n",
    "        print(f\"Girdiğiniz sayı {tahmin}.Bravo. Doğru tahmin\")\n",
    "        time.sleep(1)\n",
    "        break\n",
    "print(\"malesef hakkiniz kalmadi.\")\n"
   ]
  },
  {
   "attachments": {},
   "cell_type": "markdown",
   "metadata": {},
   "source": [
    "### max(), min()"
   ]
  },
  {
   "cell_type": "code",
   "execution_count": 16,
   "metadata": {},
   "outputs": [
    {
     "data": {
      "text/plain": [
       "134"
      ]
     },
     "execution_count": 16,
     "metadata": {},
     "output_type": "execute_result"
    }
   ],
   "source": [
    "max([1,2,5,8,94,134,27,3,4])"
   ]
  },
  {
   "cell_type": "code",
   "execution_count": 15,
   "metadata": {},
   "outputs": [
    {
     "data": {
      "text/plain": [
       "-4"
      ]
     },
     "execution_count": 15,
     "metadata": {},
     "output_type": "execute_result"
    }
   ],
   "source": [
    "min([1,2,5,8,94,56,27,3,-4])"
   ]
  },
  {
   "cell_type": "code",
   "execution_count": 8,
   "metadata": {},
   "outputs": [
    {
     "data": {
      "text/plain": [
       "'sedat'"
      ]
     },
     "execution_count": 8,
     "metadata": {},
     "output_type": "execute_result"
    }
   ],
   "source": [
    "max([\"hello\", \"sedat\", \"Techpro\"])"
   ]
  },
  {
   "cell_type": "code",
   "execution_count": 16,
   "metadata": {},
   "outputs": [
    {
     "data": {
      "text/plain": [
       "'Techpro'"
      ]
     },
     "execution_count": 16,
     "metadata": {},
     "output_type": "execute_result"
    }
   ],
   "source": [
    "max([\"hello\", \"sedat\", \"Techpro\"], key = str.upper) # icinde kucuk harfler oldugu halde buyukmus gibi degerlendirir. "
   ]
  },
  {
   "cell_type": "code",
   "execution_count": 9,
   "metadata": {},
   "outputs": [
    {
     "data": {
      "text/plain": [
       "'techpro'"
      ]
     },
     "execution_count": 9,
     "metadata": {},
     "output_type": "execute_result"
    }
   ],
   "source": [
    "max([\"hello\", \"sedat\", \"techpro\"])"
   ]
  },
  {
   "cell_type": "code",
   "execution_count": 10,
   "metadata": {},
   "outputs": [
    {
     "data": {
      "text/plain": [
       "'Techpro'"
      ]
     },
     "execution_count": 10,
     "metadata": {},
     "output_type": "execute_result"
    }
   ],
   "source": [
    "max([\"hello\", \"sedat\", \"Techpro\"],key=str.lower) # sorteren yaparken isimize yarar!!"
   ]
  },
  {
   "cell_type": "code",
   "execution_count": 13,
   "metadata": {},
   "outputs": [
    {
     "data": {
      "text/plain": [
       "'techpro'"
      ]
     },
     "execution_count": 13,
     "metadata": {},
     "output_type": "execute_result"
    }
   ],
   "source": [
    "max([\"hello\", \"sedat\", \"techpro\"],key=str.upper)"
   ]
  },
  {
   "cell_type": "code",
   "execution_count": 14,
   "metadata": {},
   "outputs": [
    {
     "data": {
      "text/plain": [
       "<function str.capitalize()>"
      ]
     },
     "execution_count": 14,
     "metadata": {},
     "output_type": "execute_result"
    }
   ],
   "source": [
    "\"hello\".capitalize # () mtlaka yazmalisin. yoksa funtie yi cagirmaz. "
   ]
  },
  {
   "cell_type": "code",
   "execution_count": 17,
   "metadata": {},
   "outputs": [
    {
     "data": {
      "text/plain": [
       "325"
      ]
     },
     "execution_count": 17,
     "metadata": {},
     "output_type": "execute_result"
    }
   ],
   "source": [
    "sayılar_listesi = [1,4,56,18,47,96,325,1,5,4,7,8,-8,-400,0,47]\n",
    "max(sayılar_listesi)"
   ]
  },
  {
   "cell_type": "code",
   "execution_count": 17,
   "metadata": {},
   "outputs": [
    {
     "name": "stdout",
     "output_type": "stream",
     "text": [
      "listenin en büyük elemanı 325\n"
     ]
    }
   ],
   "source": [
    "sayılar_listesi = [1,4,56,18,47,96,325,1,5,4,7,8,-8,-400,0,47]\n",
    "\n",
    "index = 0\n",
    "\n",
    "max_sayı = sayılar_listesi[0]\n",
    "\n",
    "\n",
    "while index < len(sayılar_listesi):\n",
    "\n",
    "    if sayılar_listesi[index] > max_sayı:\n",
    "\n",
    "        max_sayı = sayılar_listesi[index]\n",
    "\n",
    "    index += 1\n",
    "\n",
    "print(f\"listenin en büyük elemanı {max_sayı}\")"
   ]
  },
  {
   "cell_type": "code",
   "execution_count": 20,
   "metadata": {},
   "outputs": [
    {
     "name": "stdout",
     "output_type": "stream",
     "text": [
      "listenin en küçük elemanı -400\n"
     ]
    }
   ],
   "source": [
    "sayılar_listesi = [1,4,56,18,47,96,325,1,5,4,7,8,-8,-400,0,47]\n",
    "\n",
    "index = 0\n",
    "\n",
    "min_sayı = sayılar_listesi[0]\n",
    "\n",
    "\n",
    "while index < len(sayılar_listesi):\n",
    "\n",
    "    if sayılar_listesi[index] < min_sayı:\n",
    "\n",
    "        min_sayı = sayılar_listesi[index]\n",
    "\n",
    "    index += 1\n",
    "\n",
    "print(f\"listenin en küçük elemanı {min_sayı}\")"
   ]
  },
  {
   "cell_type": "code",
   "execution_count": 18,
   "metadata": {},
   "outputs": [
    {
     "name": "stdout",
     "output_type": "stream",
     "text": [
      "listenin en küçük elemanı -400\n"
     ]
    }
   ],
   "source": [
    "sayılar_listesi = [-400,1,4,56,18,47,96,325,1,5,4,7,8,-8,0,47]\n",
    "\n",
    "index = 0\n",
    "\n",
    "min_sayı = sayılar_listesi[0]\n",
    "\n",
    "\n",
    "while index < len(sayılar_listesi):\n",
    "\n",
    "    if sayılar_listesi[index] < min_sayı:\n",
    "\n",
    "        min_sayı = sayılar_listesi[index]\n",
    "\n",
    "    index += 1\n",
    "\n",
    "print(f\"listenin en küçük elemanı {min_sayı}\")"
   ]
  },
  {
   "cell_type": "code",
   "execution_count": 26,
   "metadata": {},
   "outputs": [
    {
     "name": "stdout",
     "output_type": "stream",
     "text": [
      "çiftler: [22, 58, 46, 48, 50, 40]\n",
      "tekler: [1, 45, 69, 55, 47, 45, 49]\n"
     ]
    }
   ],
   "source": [
    "liste_1 = [1,45,22,69,58,55,47,45,46,48,49,50,40]\n",
    "\n",
    "evens = list()\n",
    "\n",
    "odds = []\n",
    "\n",
    "index = 0\n",
    "\n",
    "while index < len(liste_1):\n",
    "\n",
    "    if liste_1[index] % 2 == 0:\n",
    "        evens.append(liste_1[index])\n",
    "    else:\n",
    "        odds.append(liste_1[index])\n",
    "    \n",
    "    index += 1\n",
    "\n",
    "print(f\"çiftler: {evens}\")\n",
    "print(f\"tekler: {odds}\")\n"
   ]
  },
  {
   "cell_type": "code",
   "execution_count": 27,
   "metadata": {},
   "outputs": [],
   "source": [
    "liste_2 = []"
   ]
  },
  {
   "cell_type": "code",
   "execution_count": 28,
   "metadata": {},
   "outputs": [
    {
     "ename": "IndexError",
     "evalue": "list index out of range",
     "output_type": "error",
     "traceback": [
      "\u001b[1;31m---------------------------------------------------------------------------\u001b[0m",
      "\u001b[1;31mIndexError\u001b[0m                                Traceback (most recent call last)",
      "\u001b[1;32m~\\AppData\\Local\\Temp/ipykernel_14292/2331982769.py\u001b[0m in \u001b[0;36m<module>\u001b[1;34m\u001b[0m\n\u001b[1;32m----> 1\u001b[1;33m \u001b[0mliste_2\u001b[0m\u001b[1;33m[\u001b[0m\u001b[1;36m0\u001b[0m\u001b[1;33m]\u001b[0m\u001b[1;33m\u001b[0m\u001b[1;33m\u001b[0m\u001b[0m\n\u001b[0m",
      "\u001b[1;31mIndexError\u001b[0m: list index out of range"
     ]
    }
   ],
   "source": [
    "liste_2[0]"
   ]
  },
  {
   "cell_type": "code",
   "execution_count": 29,
   "metadata": {},
   "outputs": [
    {
     "ename": "IndexError",
     "evalue": "list assignment index out of range",
     "output_type": "error",
     "traceback": [
      "\u001b[1;31m---------------------------------------------------------------------------\u001b[0m",
      "\u001b[1;31mIndexError\u001b[0m                                Traceback (most recent call last)",
      "\u001b[1;32m~\\AppData\\Local\\Temp/ipykernel_14292/3899104298.py\u001b[0m in \u001b[0;36m<module>\u001b[1;34m\u001b[0m\n\u001b[1;32m----> 1\u001b[1;33m \u001b[0mliste_2\u001b[0m\u001b[1;33m[\u001b[0m\u001b[1;36m0\u001b[0m\u001b[1;33m]\u001b[0m \u001b[1;33m=\u001b[0m \u001b[1;34m\"hello\"\u001b[0m\u001b[1;33m\u001b[0m\u001b[1;33m\u001b[0m\u001b[0m\n\u001b[0m",
      "\u001b[1;31mIndexError\u001b[0m: list assignment index out of range"
     ]
    }
   ],
   "source": [
    "liste_2[0] = \"hello\""
   ]
  },
  {
   "cell_type": "code",
   "execution_count": 19,
   "metadata": {},
   "outputs": [
    {
     "name": "stdout",
     "output_type": "stream",
     "text": [
      "çiftlerin sayısı: 6\n",
      "teklerin sayıs: 7\n"
     ]
    }
   ],
   "source": [
    "liste_1 = [1,45,22,69,58,55,47,45,46,48,49,50,40]\n",
    "\n",
    "evens_counter = 0\n",
    "\n",
    "odds_counter = 0\n",
    "\n",
    "index = 0\n",
    "\n",
    "while index < len(liste_1):\n",
    "\n",
    "    if liste_1[index] % 2 == 0:\n",
    "        evens_counter += 1\n",
    "    else:\n",
    "        odds_counter += 1\n",
    "    \n",
    "    index += 1\n",
    "\n",
    "print(f\"çiftlerin sayısı: {evens_counter}\")\n",
    "print(f\"teklerin sayıs: {odds_counter}\")"
   ]
  },
  {
   "cell_type": "code",
   "execution_count": null,
   "metadata": {},
   "outputs": [],
   "source": []
  },
  {
   "cell_type": "code",
   "execution_count": null,
   "metadata": {},
   "outputs": [],
   "source": []
  },
  {
   "cell_type": "code",
   "execution_count": null,
   "metadata": {},
   "outputs": [],
   "source": []
  }
 ],
 "metadata": {
  "kernelspec": {
   "display_name": "Python 3",
   "language": "python",
   "name": "python3"
  },
  "language_info": {
   "codemirror_mode": {
    "name": "ipython",
    "version": 3
   },
   "file_extension": ".py",
   "mimetype": "text/x-python",
   "name": "python",
   "nbconvert_exporter": "python",
   "pygments_lexer": "ipython3",
   "version": "3.11.1"
  },
  "orig_nbformat": 4,
  "vscode": {
   "interpreter": {
    "hash": "eabde9110b449084ff6a5c90926c01dd37afab08f8d96935fc9e46977bb13740"
   }
  }
 },
 "nbformat": 4,
 "nbformat_minor": 2
}
