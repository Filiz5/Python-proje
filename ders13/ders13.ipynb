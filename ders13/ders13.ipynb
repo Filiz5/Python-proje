{
 "cells": [
  {
   "attachments": {},
   "cell_type": "markdown",
   "metadata": {},
   "source": [
    "# LOOPS - while"
   ]
  },
  {
   "cell_type": "code",
   "execution_count": null,
   "metadata": {},
   "outputs": [],
   "source": [
    "\"Techpro\" "
   ]
  },
  {
   "attachments": {},
   "cell_type": "markdown",
   "metadata": {},
   "source": [
    "while condition:\n",
    "      body"
   ]
  },
  {
   "cell_type": "code",
   "execution_count": 6,
   "metadata": {},
   "outputs": [
    {
     "name": "stdout",
     "output_type": "stream",
     "text": [
      "Girdiginiz sayi:78.  tahminini azalt\n",
      "Girdiginiz sayi:38.  tahminini artir.\n",
      "Girdiginiz sayi:28.  tahminini artir.\n",
      "Girdiginiz sayi:80.  tahminini azalt\n",
      "Girdiginiz sayi:37.  tahminini artir.\n",
      "Girdiginiz sayi:45.  tahminini artir.\n",
      "dogru tahmin\n",
      "7 denemede bildin.\n"
     ]
    }
   ],
   "source": [
    "random.randint(0,4)"
   ]
  },
  {
   "attachments": {},
   "cell_type": "markdown",
   "metadata": {},
   "source": [
    "# random modulu "
   ]
  },
  {
   "cell_type": "code",
   "execution_count": 4,
   "metadata": {},
   "outputs": [],
   "source": [
    "import random "
   ]
  },
  {
   "cell_type": "code",
   "execution_count": 3,
   "metadata": {},
   "outputs": [
    {
     "data": {
      "text/plain": [
       "0.17982451343317507"
      ]
     },
     "execution_count": 3,
     "metadata": {},
     "output_type": "execute_result"
    }
   ],
   "source": [
    "random.random()"
   ]
  },
  {
   "cell_type": "code",
   "execution_count": null,
   "metadata": {},
   "outputs": [],
   "source": []
  },
  {
   "cell_type": "code",
   "execution_count": null,
   "metadata": {},
   "outputs": [
    {
     "data": {
      "text/plain": [
       "0.17982451343317507"
      ]
     },
     "metadata": {},
     "output_type": "display_data"
    }
   ],
   "source": [
    "random.random()"
   ]
  },
  {
   "cell_type": "code",
   "execution_count": null,
   "metadata": {},
   "outputs": [],
   "source": [
    "random.randint(0,4)"
   ]
  },
  {
   "cell_type": "code",
   "execution_count": 2,
   "metadata": {},
   "outputs": [],
   "source": [
    "import random\n",
    "sayı = random.randint(0,100)\n",
    "sayaç = 0\n",
    "while True:\n",
    "    tahmin = int(input(\"Bir sayı girin\"))\n",
    "    \n",
    "    if sayı < tahmin:\n",
    "        print(f\"Girdiğiniz sayı {tahmin}. Tahminini azalt\")\n",
    "        sayaç += 1\n",
    "    elif sayı > tahmin:\n",
    "        print(f\"Girdiğiniz sayı {tahmin}. Tahminini arttır\")\n",
    "        sayaç += 1\n",
    "    else:\n",
    "        print(f\"Girdiğiniz sayı {tahmin}.Bravo. Doğru tahmin\")\n",
    "        sayaç += 1\n",
    "        break\n",
    "print(f\"{sayaç} denemede bildin\")"
   ]
  },
  {
   "cell_type": "code",
   "execution_count": 2,
   "metadata": {},
   "outputs": [
    {
     "name": "stdout",
     "output_type": "stream",
     "text": [
      "Girdiğiniz sayı 80. Tahminini azalt\n",
      "Girdiğiniz sayı 76. Tahminini azalt\n",
      "Girdiğiniz sayı 45. Tahminini arttır\n",
      "Girdiğiniz sayı 56. Tahminini arttır\n",
      "Girdiğiniz sayı 66. Tahminini arttır\n"
     ]
    }
   ],
   "source": [
    "import random\n",
    "sayı = random.randint(0,100)\n",
    "sayaç = 0\n",
    "while sayaç < 5:\n",
    "    tahmin = int(input(\"Bir sayı girin\"))\n",
    "    sayaç += 1\n",
    "    if sayı < tahmin:\n",
    "        print(f\"Girdiğiniz sayı {tahmin}. Tahminini azalt\")\n",
    "    elif sayı > tahmin:\n",
    "        print(f\"Girdiğiniz sayı {tahmin}. Tahminini arttır\")\n",
    "    else:\n",
    "        print(f\"Girdiğiniz sayı {tahmin}.Bravo. Doğru tahmin\")\n",
    "        break"
   ]
  },
  {
   "cell_type": "code",
   "execution_count": 3,
   "metadata": {},
   "outputs": [
    {
     "data": {
      "text/plain": [
       "95"
      ]
     },
     "execution_count": 3,
     "metadata": {},
     "output_type": "execute_result"
    }
   ],
   "source": [
    "max([1,3,56,78,95])"
   ]
  },
  {
   "cell_type": "code",
   "execution_count": null,
   "metadata": {},
   "outputs": [],
   "source": [
    "min([1,3,56,78,95])"
   ]
  },
  {
   "cell_type": "code",
   "execution_count": 2,
   "metadata": {},
   "outputs": [
    {
     "data": {
      "text/plain": [
       "325"
      ]
     },
     "execution_count": 2,
     "metadata": {},
     "output_type": "execute_result"
    }
   ],
   "source": [
    "sayılar_listesi = [1,4,56,18,47,96,325,1,5,4,7,8,-8,-400,0,47]\n",
    "max(sayılar_listesi)"
   ]
  },
  {
   "cell_type": "code",
   "execution_count": null,
   "metadata": {},
   "outputs": [],
   "source": [
    "sayılar_listesi = [1,4,56,18,47,96,325,1,5,4,7,8,-8,-400,0,47]\n",
    "\n",
    "index = 0 \n",
    "max_sayi = sayilar_\n",
    "while index < len(sayılar_listesi):\n",
    "    if sayılar_listesi[index] > max_sayi:\n",
    "        max_sayi = sayılar_listesi[index]"
   ]
  },
  {
   "cell_type": "code",
   "execution_count": null,
   "metadata": {},
   "outputs": [],
   "source": [
    "liste_1 = [1,45,22,69,58,55,47,45,46,48,49,50,40]\n",
    "index = 0\n",
    "teksayilar = []\n",
    "ciftsayilar = []\n",
    "\n",
    "\n"
   ]
  },
  {
   "cell_type": "code",
   "execution_count": 3,
   "metadata": {},
   "outputs": [
    {
     "name": "stdout",
     "output_type": "stream",
     "text": [
      "Çift Sayılar:\n",
      "22\n",
      "58\n",
      "46\n",
      "48\n",
      "50\n",
      "40\n",
      "Tek Sayılar:\n",
      "1\n",
      "45\n",
      "69\n",
      "55\n",
      "47\n",
      "45\n",
      "49\n"
     ]
    }
   ],
   "source": [
    "liste_1 = [1, 45, 22, 69, 58, 55, 47, 45, 46, 48, 49, 50, 40]\n",
    "\n",
    "# Çift sayıları while döngüsü ile yazdır\n",
    "print(\"Çift Sayılar:\")\n",
    "i = 0\n",
    "while i < len(liste_1):\n",
    "    if liste_1[i] % 2 == 0:\n",
    "        print(liste_1[i])\n",
    "    i += 1\n",
    "\n",
    "# Tek sayıları while döngüsü ile yazdır\n",
    "print(\"Tek Sayılar:\")\n",
    "i = 0\n",
    "while i < len(liste_1):\n",
    "    if liste_1[i] % 2 != 0:\n",
    "        print(liste_1[i])\n",
    "    i += 1"
   ]
  },
  {
   "cell_type": "code",
   "execution_count": null,
   "metadata": {},
   "outputs": [],
   "source": [
    "liste_1 = [1, 45, 22, 69, 58, 55, 47, 45, 46, 48, 49, 50, 40]\n",
    "\n",
    "# Çift sayıları while döngüsü ile yazdır\n",
    "Çift_Sayılar = []\n",
    "teksayilar\n",
    "i = 0\n",
    "while i < len(liste_1):\n",
    "    if liste_1[i] % 2 == 0:\n",
    "        print(liste_1[i])\n",
    "    i += 1\n",
    "\n",
    "# Tek sayıları while döngüsü ile yazdır\n",
    "print(\"Tek Sayılar:\")\n",
    "i = 0\n",
    "while i < len(liste_1):\n",
    "    if liste_1[i] % 2 != 0:\n",
    "        print(liste_1[i])\n",
    "    i += 1"
   ]
  },
  {
   "cell_type": "code",
   "execution_count": 4,
   "metadata": {},
   "outputs": [
    {
     "name": "stdout",
     "output_type": "stream",
     "text": [
      "çiftler: [22, 58, 46, 48, 50, 40]\n",
      "tekler: [1, 45, 69, 55, 47, 45, 49]\n"
     ]
    }
   ],
   "source": [
    "liste_1 = [1,45,22,69,58,55,47,45,46,48,49,50,40]\n",
    "\n",
    "evens = []\n",
    "\n",
    "odds = []\n",
    "\n",
    "index = 0\n",
    "\n",
    "while index < len(liste_1):\n",
    "\n",
    "    if liste_1[index] % 2 == 0:\n",
    "        evens.append(liste_1[index])\n",
    "    else:\n",
    "        odds.append(liste_1[index])\n",
    "    \n",
    "    index += 1\n",
    "\n",
    "print(f\"çiftler: {evens}\")\n",
    "print(f\"tekler: {odds}\")"
   ]
  },
  {
   "cell_type": "code",
   "execution_count": 5,
   "metadata": {},
   "outputs": [
    {
     "name": "stdout",
     "output_type": "stream",
     "text": [
      "çiftler: 6\n",
      "tekler: 7\n"
     ]
    }
   ],
   "source": [
    "liste_1 = [1,45,22,69,58,55,47,45,46,48,49,50,40]\n",
    "\n",
    "evens = 0\n",
    "\n",
    "odds = 0\n",
    "\n",
    "index = 0\n",
    "\n",
    "while index < len(liste_1):\n",
    "\n",
    "    if liste_1[index] % 2 == 0:\n",
    "        evens += 1\n",
    "    else:\n",
    "        odds += 1\n",
    "    \n",
    "    index += 1\n",
    "\n",
    "print(f\"çiftlerin sayisi: {evens}\")\n",
    "print(f\"teklerin sayisi: {odds}\")"
   ]
  },
  {
   "cell_type": "code",
   "execution_count": null,
   "metadata": {},
   "outputs": [],
   "source": []
  },
  {
   "cell_type": "code",
   "execution_count": null,
   "metadata": {},
   "outputs": [],
   "source": []
  },
  {
   "cell_type": "code",
   "execution_count": null,
   "metadata": {},
   "outputs": [],
   "source": []
  },
  {
   "cell_type": "code",
   "execution_count": null,
   "metadata": {},
   "outputs": [],
   "source": []
  }
 ],
 "metadata": {
  "kernelspec": {
   "display_name": "Python 3",
   "language": "python",
   "name": "python3"
  },
  "language_info": {
   "codemirror_mode": {
    "name": "ipython",
    "version": 3
   },
   "file_extension": ".py",
   "mimetype": "text/x-python",
   "name": "python",
   "nbconvert_exporter": "python",
   "pygments_lexer": "ipython3",
   "version": "3.11.1"
  },
  "orig_nbformat": 4,
  "vscode": {
   "interpreter": {
    "hash": "eabde9110b449084ff6a5c90926c01dd37afab08f8d96935fc9e46977bb13740"
   }
  }
 },
 "nbformat": 4,
 "nbformat_minor": 2
}
