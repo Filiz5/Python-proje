{
 "cells": [
  {
   "cell_type": "markdown",
   "id": "16117ba9-f6a4-485b-bc16-5283bbbac9ae",
   "metadata": {},
   "source": [
    "# list Comprehension"
   ]
  },
  {
   "cell_type": "code",
   "execution_count": 2,
   "id": "7fa88aa2-156a-45a3-bead-9341a09dec84",
   "metadata": {},
   "outputs": [
    {
     "name": "stdout",
     "output_type": "stream",
     "text": [
      "[0, 2, 4, 6, 8, 10, 12, 14, 16, 18]\n"
     ]
    }
   ],
   "source": [
    "# 1-20 arası çift sayıları yazdır\n",
    "liste = []\n",
    "for i in range(20):\n",
    "    if i % 2 == 0:\n",
    "        liste.append(i)\n",
    "print(liste)"
   ]
  },
  {
   "cell_type": "code",
   "execution_count": 3,
   "id": "77c88205-d5a2-4e28-ad63-8ed3633c5780",
   "metadata": {},
   "outputs": [
    {
     "data": {
      "text/plain": [
       "[0, 2, 4, 6, 8, 10, 12, 14, 16, 18]"
      ]
     },
     "execution_count": 3,
     "metadata": {},
     "output_type": "execute_result"
    }
   ],
   "source": [
    "[i for i in range(20) if i % 2 == 0]"
   ]
  },
  {
   "cell_type": "code",
   "execution_count": null,
   "id": "be4f3d53-b0a7-45ac-b1d8-03fc9057e93d",
   "metadata": {},
   "outputs": [],
   "source": []
  },
  {
   "cell_type": "code",
   "execution_count": 6,
   "id": "d8ced539-9040-4377-aafd-405ecab2d647",
   "metadata": {},
   "outputs": [
    {
     "data": {
      "text/plain": [
       "[0, 1, 2, 3, 5, 6, 7, 8]"
      ]
     },
     "execution_count": 6,
     "metadata": {},
     "output_type": "execute_result"
    }
   ],
   "source": [
    "# 1-10 arası 4 ve 9 hariç yazdır\n",
    "[i for i in range(10) if not (i == 4 or i == 9)]"
   ]
  },
  {
   "cell_type": "code",
   "execution_count": null,
   "id": "b85ebc37-3bf8-4010-a06b-1cc95036f404",
   "metadata": {},
   "outputs": [],
   "source": []
  },
  {
   "cell_type": "code",
   "execution_count": 7,
   "id": "129ac846-134b-4493-a7a4-fbfbfa021001",
   "metadata": {},
   "outputs": [
    {
     "name": "stdout",
     "output_type": "stream",
     "text": [
      "[1, 2, 3, 4, 5, 6, 7, 8, 9, 10, 11, 12, 13, 14, 15]\n"
     ]
    }
   ],
   "source": [
    "# iç içe listeleri tek listede topla\n",
    "liste = [[1,2,3], [4,5,6,7,8], [9,10,11,12,13,14,15]]\n",
    "\n",
    "liste2 = []\n",
    "for x in liste:\n",
    "    for y in x:\n",
    "        liste2.append(y)\n",
    "print(liste2)"
   ]
  },
  {
   "cell_type": "code",
   "execution_count": 9,
   "id": "f0134bf9-e0b2-4873-83d1-c06419486cb8",
   "metadata": {},
   "outputs": [
    {
     "data": {
      "text/plain": [
       "[1, 2, 3, 4, 5, 6, 7, 8, 9, 10, 11, 12, 13, 14, 15]"
      ]
     },
     "execution_count": 9,
     "metadata": {},
     "output_type": "execute_result"
    }
   ],
   "source": [
    "[y for x in liste for y in x]"
   ]
  },
  {
   "cell_type": "code",
   "execution_count": null,
   "id": "b1b55627-aac9-4fc3-ba42-3a5c1a7d3b92",
   "metadata": {},
   "outputs": [],
   "source": []
  },
  {
   "cell_type": "code",
   "execution_count": 16,
   "id": "91241133-bdae-4dce-aefb-253a46eb9041",
   "metadata": {},
   "outputs": [
    {
     "name": "stdout",
     "output_type": "stream",
     "text": [
      "[(0, 0), (0, 1), (0, 2), (1, 0), (1, 1), (1, 2), (2, 0), (2, 1), (2, 2)]\n"
     ]
    }
   ],
   "source": [
    "sonuc = []\n",
    "\n",
    "for x in range(3):\n",
    "    for y in range(3):\n",
    "        sonuc.append((x,y))\n",
    "print(sonuc)"
   ]
  },
  {
   "cell_type": "code",
   "execution_count": 18,
   "id": "6aeebd4b-5e9e-46aa-b342-f847fcb4edd6",
   "metadata": {},
   "outputs": [
    {
     "data": {
      "text/plain": [
       "[(0, 0, 0),\n",
       " (0, 0, 1),\n",
       " (0, 0, 2),\n",
       " (0, 1, 0),\n",
       " (0, 1, 1),\n",
       " (0, 1, 2),\n",
       " (0, 2, 0),\n",
       " (0, 2, 1),\n",
       " (0, 2, 2),\n",
       " (1, 0, 0),\n",
       " (1, 0, 1),\n",
       " (1, 0, 2),\n",
       " (1, 1, 0),\n",
       " (1, 1, 1),\n",
       " (1, 1, 2),\n",
       " (1, 2, 0),\n",
       " (1, 2, 1),\n",
       " (1, 2, 2),\n",
       " (2, 0, 0),\n",
       " (2, 0, 1),\n",
       " (2, 0, 2),\n",
       " (2, 1, 0),\n",
       " (2, 1, 1),\n",
       " (2, 1, 2),\n",
       " (2, 2, 0),\n",
       " (2, 2, 1),\n",
       " (2, 2, 2)]"
      ]
     },
     "execution_count": 18,
     "metadata": {},
     "output_type": "execute_result"
    }
   ],
   "source": [
    "[(x,y,z) for x in range(3) for y in range(3) for z in range(3)]"
   ]
  },
  {
   "cell_type": "code",
   "execution_count": null,
   "id": "774a3a03-20e5-4cc3-8a33-cd563d9b1d25",
   "metadata": {},
   "outputs": [],
   "source": []
  },
  {
   "cell_type": "code",
   "execution_count": 10,
   "id": "f4224a48-29b3-41f6-b720-94a8920a5ea5",
   "metadata": {},
   "outputs": [
    {
     "data": {
      "text/plain": [
       "['çift',\n",
       " 'tek',\n",
       " 'çift',\n",
       " 'tek',\n",
       " 'çift',\n",
       " 'tek',\n",
       " 'çift',\n",
       " 'tek',\n",
       " 'çift',\n",
       " 'tek',\n",
       " 'çift',\n",
       " 'tek',\n",
       " 'çift',\n",
       " 'tek',\n",
       " 'çift']"
      ]
     },
     "execution_count": 10,
     "metadata": {},
     "output_type": "execute_result"
    }
   ],
   "source": [
    "# istenilen aralıkta tek-çift döndürme yazıyla\n",
    "[\"çift\" if i % 2 == 0 else \"tek\" for i in range(15)]        "
   ]
  },
  {
   "cell_type": "code",
   "execution_count": null,
   "id": "75e514c3-ef3c-48e2-96eb-07230619ef2a",
   "metadata": {},
   "outputs": [],
   "source": []
  },
  {
   "cell_type": "code",
   "execution_count": 11,
   "id": "8edc1f1e-a9de-4e80-822d-44e68c5274e4",
   "metadata": {},
   "outputs": [
    {
     "data": {
      "text/plain": [
       "[1, -1, 5, -1, 9, -1, 13, -1, 17, -1]"
      ]
     },
     "execution_count": 11,
     "metadata": {},
     "output_type": "execute_result"
    }
   ],
   "source": [
    "[2 * (x if x % 2 == 0 else -1) + 1 for x in range(10)]"
   ]
  },
  {
   "cell_type": "code",
   "execution_count": null,
   "id": "3c720dd7-63cb-4a14-bf52-f307108a039b",
   "metadata": {},
   "outputs": [],
   "source": []
  },
  {
   "cell_type": "markdown",
   "id": "123c8aaa-fa91-4e4f-964a-3b7464ab0449",
   "metadata": {},
   "source": [
    "**Önemli** yukarıdaki örneklerde gördüğümüz üzere işlemimizde if/else durumu varsa list comrehension if/else ile başlayıp for ile biter ama sadece if durumu varsa for ile başlayıp if ile sonlanır\n",
    "\n",
    "[if/else..........for] / [for ........... if if not]"
   ]
  },
  {
   "cell_type": "code",
   "execution_count": null,
   "id": "ea2cc34a-9007-4d86-bdc0-6b0c9b8f5c19",
   "metadata": {},
   "outputs": [],
   "source": []
  },
  {
   "cell_type": "code",
   "execution_count": 32,
   "id": "7e03b82b-5bb2-46be-b5c0-bc70d0082a37",
   "metadata": {},
   "outputs": [
    {
     "name": "stdout",
     "output_type": "stream",
     "text": [
      "7,14,21,28,42,49,56,63,77,84,91,98\n"
     ]
    }
   ],
   "source": [
    "# 0-100 arası 7'ye bölünebilen ama 5'e bölünmeyen sayıları virgül ile ayrırarak yazınız\n",
    "\n",
    "print(*[i for i in range(100) if i % 7 == 0 and i % 5 != 0], sep = \",\")"
   ]
  },
  {
   "cell_type": "code",
   "execution_count": 31,
   "id": "03889147-beeb-4e89-876c-3ea2ded6dcc4",
   "metadata": {},
   "outputs": [
    {
     "name": "stdout",
     "output_type": "stream",
     "text": [
      "7,14,21,28,42,49,56,63,77,84,91,98\n"
     ]
    }
   ],
   "source": [
    "liste = []\n",
    "for i in range(0,100):\n",
    "    if i % 7 == 0 and i % 5 != 0:             # uzun yol \n",
    "        liste.append(i)\n",
    "\n",
    "print(*liste,sep = \",\")"
   ]
  },
  {
   "cell_type": "code",
   "execution_count": 35,
   "id": "2543346a-735b-4ddd-870b-201e3787acee",
   "metadata": {},
   "outputs": [
    {
     "name": "stdout",
     "output_type": "stream",
     "text": [
      "7,14,21,28,42,49,56,63,77,84,91,98\n"
     ]
    }
   ],
   "source": [
    "for i in range(0,100):\n",
    "    if i%7 == 0 and i%5!=0:\n",
    "        print(i,end=',')\n",
    "print(\"\\b\")     "
   ]
  },
  {
   "cell_type": "code",
   "execution_count": null,
   "id": "4dc3ba99-0c53-45ef-85f7-47cb567a4e10",
   "metadata": {},
   "outputs": [],
   "source": []
  },
  {
   "cell_type": "code",
   "execution_count": 36,
   "id": "2284dd91-ab1e-4067-b9f7-60589112c572",
   "metadata": {
    "tags": []
   },
   "outputs": [
    {
     "name": "stdout",
     "output_type": "stream",
     "text": [
      "t-e-c-h-p-r-o\n"
     ]
    }
   ],
   "source": [
    "empty_str = \"\"\n",
    "for i in \"techpro\":\n",
    "    empty_str += i + \"-\"\n",
    "print(empty_str.rstrip(\"-\"))     "
   ]
  },
  {
   "cell_type": "code",
   "execution_count": 37,
   "id": "5ca6dd1d-c2e7-4b35-a24e-e836a7b2acb2",
   "metadata": {},
   "outputs": [
    {
     "name": "stdout",
     "output_type": "stream",
     "text": [
      "t-e-c-h-p-r-o\n"
     ]
    }
   ],
   "source": [
    "for i in \"techpro\":    \n",
    "    print(i,end='-')\n",
    "    \n",
    "print(\"\\b\")  "
   ]
  },
  {
   "cell_type": "code",
   "execution_count": 40,
   "id": "0dd034cd-083c-4354-87e7-c382ce600527",
   "metadata": {},
   "outputs": [
    {
     "name": "stdout",
     "output_type": "stream",
     "text": [
      "t - e - c - h - p - r - o\n"
     ]
    }
   ],
   "source": [
    "print(*[i + \" -\" for i in \"techpro\"[:-1]],\"techpro\"[-1])"
   ]
  },
  {
   "cell_type": "code",
   "execution_count": null,
   "id": "2b07b985-4e0f-476e-917b-83b6dc05cf98",
   "metadata": {},
   "outputs": [],
   "source": []
  },
  {
   "cell_type": "code",
   "execution_count": 42,
   "id": "7ac00bf7-fcf4-4212-b061-9df094928bf0",
   "metadata": {},
   "outputs": [
    {
     "data": {
      "text/plain": [
       "[0, 6, 12, 18, 24]"
      ]
     },
     "execution_count": 42,
     "metadata": {},
     "output_type": "execute_result"
    }
   ],
   "source": [
    "# List Comprehension ile Birden fazla if kullanımı\n",
    "# Not: for ile başlayıp if ile devam eder\n",
    "\n",
    "yeni_list = []\n",
    "for x in range(30):\n",
    "    if x % 2 == 0 and x % 3 == 0:\n",
    "        yeni_list.append(x)\n",
    "yeni_list"
   ]
  },
  {
   "cell_type": "code",
   "execution_count": 44,
   "id": "00524b5a-b9bd-405f-9e8d-b9b08c480122",
   "metadata": {},
   "outputs": [
    {
     "data": {
      "text/plain": [
       "[0, 6, 12, 18, 24]"
      ]
     },
     "execution_count": 44,
     "metadata": {},
     "output_type": "execute_result"
    }
   ],
   "source": [
    "[x for x in range(30) if x % 3 == 0 and x % 2 == 0]"
   ]
  },
  {
   "cell_type": "code",
   "execution_count": 46,
   "id": "171fbf46-46c8-410a-b0f1-8c27de4ea463",
   "metadata": {},
   "outputs": [
    {
     "data": {
      "text/plain": [
       "[8, 16, 24]"
      ]
     },
     "execution_count": 46,
     "metadata": {},
     "output_type": "execute_result"
    }
   ],
   "source": [
    "[x for x in range(30) if x >= 2 and x <= 25 and x % 4 == 0 and x % 8 == 0] "
   ]
  },
  {
   "cell_type": "code",
   "execution_count": null,
   "id": "1067f0e0-6bed-4f01-b500-894e72ecaf08",
   "metadata": {},
   "outputs": [],
   "source": []
  },
  {
   "cell_type": "code",
   "execution_count": 68,
   "id": "a6584006-3695-4dac-bc85-66cdd2b49107",
   "metadata": {},
   "outputs": [
    {
     "data": {
      "text/plain": [
       "['renault', 'fiat', 'ford']"
      ]
     },
     "execution_count": 68,
     "metadata": {},
     "output_type": "execute_result"
    }
   ],
   "source": [
    "# kelime temizliği\n",
    "liste_1 = [\"renault*\",\"fiat?!\",\"ford?!\"]\n",
    "\n",
    "liste_1 = [i.replace(\"?\",\"\").replace(\"!\",\"\").replace(\"*\",\"\") for i  in liste_1]\n",
    "\n",
    "liste_1"
   ]
  },
  {
   "cell_type": "code",
   "execution_count": 63,
   "id": "e7dd033d-7af0-4f9a-bdbd-e721c3605aba",
   "metadata": {},
   "outputs": [
    {
     "data": {
      "text/plain": [
       "['renault', 'fiat', 'ford']"
      ]
     },
     "execution_count": 63,
     "metadata": {},
     "output_type": "execute_result"
    }
   ],
   "source": [
    "# listenin içerisindeki harfler dışınadki karakterleirn silinmesi(genellenebilir formu)\n",
    " \n",
    "liste = []\n",
    "for i in liste_1:\n",
    "    a = \"\"\n",
    "    for x in i:\n",
    "        if x.isalpha():\n",
    "            a += x\n",
    "    liste.append(a)\n",
    "    \n",
    "liste"
   ]
  },
  {
   "cell_type": "code",
   "execution_count": null,
   "id": "81193b12-c718-4661-9f8d-50082bb4c082",
   "metadata": {},
   "outputs": [],
   "source": []
  },
  {
   "cell_type": "code",
   "execution_count": 69,
   "id": "b3ed76c9-d3b9-45cc-a4d1-531e51126ed2",
   "metadata": {},
   "outputs": [
    {
     "name": "stdout",
     "output_type": "stream",
     "text": [
      "[0, 1, 4, 9, 16, 25, 36, 49, 64, 81]\n",
      "[9, 16, 25, 36, 49]\n"
     ]
    }
   ],
   "source": [
    "# ilk adım 1'den 10'a sayıların karelerini yazdır\n",
    "# ikinci adım 5'ten büyük ve 50'den küçük olan sonuçları yazdır\n",
    "\n",
    "kareleri_al = []\n",
    "kosul = []\n",
    "for i in range(10):\n",
    "    kareleri_al.append(i**2)            # uzun yol \n",
    "    \n",
    "for x in kareleri_al:\n",
    "    if x > 5 and x < 50:\n",
    "        kosul.append(x)\n",
    "print(kareleri_al)\n",
    "print(kosul)"
   ]
  },
  {
   "cell_type": "code",
   "execution_count": null,
   "id": "23a22a7b-1607-468f-8037-8d99a334c1a0",
   "metadata": {},
   "outputs": [],
   "source": []
  },
  {
   "cell_type": "code",
   "execution_count": 74,
   "id": "03589691-a5eb-40c9-800e-2eb66a5afa8e",
   "metadata": {},
   "outputs": [
    {
     "name": "stdout",
     "output_type": "stream",
     "text": [
      "[0, 1, 4, 9, 16, 25, 36, 49, 64, 81]\n"
     ]
    },
    {
     "data": {
      "text/plain": [
       "[9, 16, 25, 36, 49]"
      ]
     },
     "execution_count": 74,
     "metadata": {},
     "output_type": "execute_result"
    }
   ],
   "source": [
    "kare_al = list(map(lambda x: x**2, range(10)))               \n",
    "print(kare_al)\n",
    "\n",
    "list(filter(lambda x: x > 5 and x < 50, kare_al))"
   ]
  },
  {
   "cell_type": "code",
   "execution_count": null,
   "id": "70610fd4-e94b-40da-8214-50abe62ca19f",
   "metadata": {},
   "outputs": [],
   "source": []
  },
  {
   "cell_type": "code",
   "execution_count": 77,
   "id": "9c4116cc-dfa5-4a86-bb27-0e4eac6c6bd0",
   "metadata": {},
   "outputs": [
    {
     "data": {
      "text/plain": [
       "[0, 1, 4, 9, 16, 25, 36, 49, 64, 81]"
      ]
     },
     "execution_count": 77,
     "metadata": {},
     "output_type": "execute_result"
    }
   ],
   "source": [
    "[i ** 2 for i in range(10)]"
   ]
  },
  {
   "cell_type": "code",
   "execution_count": 76,
   "id": "93b236d2-9621-4c8f-87c4-1cb00581a3b6",
   "metadata": {},
   "outputs": [
    {
     "data": {
      "text/plain": [
       "[9, 16, 25, 36, 49]"
      ]
     },
     "execution_count": 76,
     "metadata": {},
     "output_type": "execute_result"
    }
   ],
   "source": [
    "[x for x in (i ** 2 for i in range(10)) if x > 5 and x < 50]"
   ]
  },
  {
   "cell_type": "code",
   "execution_count": 78,
   "id": "5b6bd6e1-4e90-4771-aa3b-4fb8ff9c22c5",
   "metadata": {},
   "outputs": [
    {
     "data": {
      "text/plain": [
       "[9, 16, 25, 36, 49]"
      ]
     },
     "execution_count": 78,
     "metadata": {},
     "output_type": "execute_result"
    }
   ],
   "source": [
    "liste_4 =[i ** 2 for i in range(10)]\n",
    "[x for x in liste_4 if x > 5 and x < 50]"
   ]
  },
  {
   "cell_type": "code",
   "execution_count": 80,
   "id": "d73395dd-7fb5-493d-b70c-7bdd7bbf7d88",
   "metadata": {},
   "outputs": [
    {
     "name": "stdout",
     "output_type": "stream",
     "text": [
      "[0, 1, 4, 9, 16, 25, 36, 49, 64, 81]\n",
      "[9, 16, 25, 36, 49]\n"
     ]
    }
   ],
   "source": [
    "print([i ** 2 for i in range(10)], [x for x in (i ** 2 for i in range(10)) if x > 5 and x < 50], sep = \"\\n\")"
   ]
  },
  {
   "cell_type": "code",
   "execution_count": null,
   "id": "e65cd935-78ef-4c12-8ca5-7c9baf5f75af",
   "metadata": {},
   "outputs": [],
   "source": []
  },
  {
   "cell_type": "code",
   "execution_count": 94,
   "id": "466f4c0a-fdc9-4414-b3cd-883209c3873a",
   "metadata": {},
   "outputs": [
    {
     "name": "stdout",
     "output_type": "stream",
     "text": [
      "(0, 5)\n",
      "(1, 6)\n",
      "(2, 7)\n",
      "(3, 8)\n",
      "(4, 9)\n",
      "(5, 10)\n",
      "(6, 11)\n",
      "(7, 12)\n",
      "(8, 13)\n",
      "(9, 14)\n"
     ]
    }
   ],
   "source": [
    "for number in enumerate(list(range(5,15))):\n",
    "    print(number)"
   ]
  },
  {
   "cell_type": "code",
   "execution_count": 93,
   "id": "7d829869-5c22-4dda-a16d-6a54b2aaec39",
   "metadata": {},
   "outputs": [
    {
     "name": "stdout",
     "output_type": "stream",
     "text": [
      "5\n",
      "6\n",
      "7\n",
      "8\n",
      "9\n",
      "10\n",
      "11\n",
      "12\n",
      "13\n",
      "14\n"
     ]
    }
   ],
   "source": [
    "for index, number in enumerate(list(range(5,15))):\n",
    "    print(number)"
   ]
  },
  {
   "cell_type": "markdown",
   "id": "4d864650-db4d-40d7-8f5a-969871455253",
   "metadata": {
    "tags": []
   },
   "source": [
    "# Enumerate"
   ]
  },
  {
   "cell_type": "markdown",
   "id": "87198c94-2c18-4919-8e2c-5d73e5506fb0",
   "metadata": {},
   "source": [
    "**Enumerate** metodu bizim oluşturduğumuz elemanların kaçıncı index'te olduğunu belirten ve bunu listeleyen güzel kulllanışlı bir metottur. Her zaman 0. index'ten başlar ve 1 artarak devam eder"
   ]
  },
  {
   "cell_type": "code",
   "execution_count": 82,
   "id": "a9b2d12c-bd07-415f-9409-e5e68d0d56ea",
   "metadata": {},
   "outputs": [],
   "source": [
    "liste = [\"Elma\",\"Armut\",\"Muz\",\"Kiraz\"]\n",
    "\n",
    "# sonucu [(0,'Elma'),(1,'Armut'),(2,'Muz'),(3,'Kiraz')] yapmak istiyoruz."
   ]
  },
  {
   "cell_type": "code",
   "execution_count": 83,
   "id": "6578fe31-437d-4835-93b3-705979d79a20",
   "metadata": {},
   "outputs": [
    {
     "name": "stdout",
     "output_type": "stream",
     "text": [
      "[(0, 'Elma'), (1, 'Armut'), (2, 'Muz'), (3, 'Kiraz')]\n"
     ]
    }
   ],
   "source": [
    "sonuc = []\n",
    "x = 0\n",
    "for i in liste:\n",
    "    sonuc.append((x,i))\n",
    "    x += 1\n",
    "print(sonuc)"
   ]
  },
  {
   "cell_type": "code",
   "execution_count": 84,
   "id": "f6164b75-0b99-48fd-9258-087deac8b5bd",
   "metadata": {},
   "outputs": [
    {
     "data": {
      "text/plain": [
       "[(0, 'Elma'), (1, 'Armut'), (2, 'Muz'), (3, 'Kiraz')]"
      ]
     },
     "execution_count": 84,
     "metadata": {},
     "output_type": "execute_result"
    }
   ],
   "source": [
    "list(enumerate(liste))"
   ]
  },
  {
   "cell_type": "code",
   "execution_count": null,
   "id": "f373f970-0663-43ae-84ee-a65bcc8ad7fc",
   "metadata": {},
   "outputs": [],
   "source": []
  },
  {
   "cell_type": "code",
   "execution_count": 89,
   "id": "5000edd1-0e81-4068-8693-1e0edb830b07",
   "metadata": {},
   "outputs": [
    {
     "data": {
      "text/plain": [
       "[(4, 'T'), (5, 'e'), (6, 'c'), (7, 'h'), (8, 'p'), (9, 'r'), (10, 'o')]"
      ]
     },
     "execution_count": 89,
     "metadata": {},
     "output_type": "execute_result"
    }
   ],
   "source": [
    "list(enumerate(\"Techpro\",4))"
   ]
  },
  {
   "cell_type": "code",
   "execution_count": null,
   "id": "faa7e868-4417-42ca-b174-7b48770b23bd",
   "metadata": {},
   "outputs": [],
   "source": []
  },
  {
   "cell_type": "code",
   "execution_count": null,
   "id": "a6f203fb-27c7-4cc5-9c74-d859956b1b73",
   "metadata": {},
   "outputs": [],
   "source": []
  },
  {
   "cell_type": "markdown",
   "id": "7118d1aa-a93c-43a5-9d30-1a0fafa479e9",
   "metadata": {},
   "source": [
    "# Zip"
   ]
  },
  {
   "cell_type": "markdown",
   "id": "83664787-3f74-4230-b3c7-5f2efe428f77",
   "metadata": {},
   "source": [
    "**zip** fonksiyonu listelerin elemanları sırasıyla demet şeklinde gruplayarak bir tane liste oluşturuyor."
   ]
  },
  {
   "cell_type": "code",
   "execution_count": 102,
   "id": "13e93a19-8b4a-479f-b3e9-35f86aeae259",
   "metadata": {},
   "outputs": [
    {
     "data": {
      "text/plain": [
       "((1, 6), (2, 7), (3, 8), (4, 9), (5, 10), (6, 11))"
      ]
     },
     "execution_count": 102,
     "metadata": {},
     "output_type": "execute_result"
    }
   ],
   "source": [
    "liste1 = [1,2,3,4,5,6]\n",
    "liste2 = [6,7,8,9,10,11]\n",
    "\n",
    "# sonucu [(1,6),(2,7),(3,8),(4,9),(5,10)] yapmaya çalışalım.\n",
    "\n",
    "tuple(zip(liste1,liste2))"
   ]
  },
  {
   "cell_type": "code",
   "execution_count": 103,
   "id": "da074e5a-0027-417f-b100-c3be080a171a",
   "metadata": {},
   "outputs": [
    {
     "name": "stdout",
     "output_type": "stream",
     "text": [
      "[(1, 6), (2, 7), (3, 8), (4, 9), (5, 10), (6, 11)]\n"
     ]
    }
   ],
   "source": [
    "i = 0 \n",
    "sonuc1 = []\n",
    "\n",
    "while (i < len(liste1) and i < len(liste2)):\n",
    "    sonuc1.append((liste1[i], liste2[i]))\n",
    "    i += 1\n",
    "    \n",
    "print(sonuc1)"
   ]
  },
  {
   "cell_type": "code",
   "execution_count": null,
   "id": "5417bdc0-8a04-4c77-af72-0951eba27c09",
   "metadata": {},
   "outputs": [],
   "source": []
  },
  {
   "cell_type": "code",
   "execution_count": 95,
   "id": "6b9d89dc-a6ea-485e-93b9-644b24d47ed4",
   "metadata": {},
   "outputs": [
    {
     "name": "stdout",
     "output_type": "stream",
     "text": [
      "Kerim Yılmaz\n",
      "Tarık Öztürk\n",
      "Ezgi Dağdeviren\n",
      "Kemal Atatürk\n",
      "İlkay Dikmen\n",
      "Şükran Kaya\n",
      "Merve Polat\n"
     ]
    }
   ],
   "source": [
    "isimler = [\"Kerim\",\"Tarık\",\"Ezgi\",\"Kemal\",\"İlkay\",\"Şükran\",\"Merve\"]\n",
    "\n",
    "soyisimler = [\"Yılmaz\",\"Öztürk\",\"Dağdeviren\",\"Atatürk\",\"Dikmen\",\"Kaya\",\"Polat\"]\n",
    "\n",
    "for i,j in zip(isimler,soyisimler):\n",
    "    print(i,j)"
   ]
  },
  {
   "cell_type": "code",
   "execution_count": null,
   "id": "10c6962f-da8d-4cea-8bc2-642ae5a16322",
   "metadata": {},
   "outputs": [],
   "source": []
  },
  {
   "cell_type": "code",
   "execution_count": 104,
   "id": "ee7f2cb9-dd9f-4265-9198-0e873b98dae6",
   "metadata": {},
   "outputs": [],
   "source": [
    "liste1 = [1,2,3,4]\n",
    "liste2 = [5,6,7,8]\n",
    "liste3 = [\"Python\",\"Php\",\"Java\",\"Javascript\",\"C\"]"
   ]
  },
  {
   "cell_type": "code",
   "execution_count": 105,
   "id": "f925e1a4-6272-4f70-b510-a596c5f9c920",
   "metadata": {},
   "outputs": [
    {
     "data": {
      "text/plain": [
       "[(1, 5, 'Python'), (2, 6, 'Php'), (3, 7, 'Java'), (4, 8, 'Javascript')]"
      ]
     },
     "execution_count": 105,
     "metadata": {},
     "output_type": "execute_result"
    }
   ],
   "source": [
    "list(zip(liste1,liste2,liste3))"
   ]
  },
  {
   "cell_type": "code",
   "execution_count": null,
   "id": "dc36baf7-e976-4f2c-a9a6-b10fd9c0c570",
   "metadata": {},
   "outputs": [],
   "source": []
  },
  {
   "cell_type": "code",
   "execution_count": 106,
   "id": "c3a048c8-12c9-435c-8648-6b496190760b",
   "metadata": {},
   "outputs": [
    {
     "data": {
      "text/plain": [
       "[('Elma', 'Sıfır'), ('Armut', 'Bir'), ('Kiraz', 'İki')]"
      ]
     },
     "execution_count": 106,
     "metadata": {},
     "output_type": "execute_result"
    }
   ],
   "source": [
    "# Sözlükleri zipleyelim.\n",
    "sözlük1 = {\"Elma\":1,\"Armut\":2,\"Kiraz\":3}\n",
    "sözlük2 = {\"Sıfır\":0,\"Bir\":1,\"İki\":2}\n",
    "\n",
    "list(zip(sözlük1,sözlük2))"
   ]
  },
  {
   "cell_type": "code",
   "execution_count": 108,
   "id": "f72c3874-4b39-420f-9324-f9f21beda90d",
   "metadata": {},
   "outputs": [
    {
     "data": {
      "text/plain": [
       "[(1, 0), (2, 1), (3, 2)]"
      ]
     },
     "execution_count": 108,
     "metadata": {},
     "output_type": "execute_result"
    }
   ],
   "source": [
    "list(zip(sözlük1.values(),sözlük2.values()))"
   ]
  },
  {
   "cell_type": "code",
   "execution_count": 110,
   "id": "d8809f0c-0aec-42d4-8dbb-aeb1bdd52482",
   "metadata": {},
   "outputs": [],
   "source": [
    "a = list(zip(sözlük1.items(),sözlük2.items()))"
   ]
  },
  {
   "cell_type": "code",
   "execution_count": 116,
   "id": "1a317127-0773-4007-8172-2e0f01a26079",
   "metadata": {},
   "outputs": [],
   "source": [
    "b = a[1][0][0]"
   ]
  },
  {
   "cell_type": "code",
   "execution_count": 126,
   "id": "3835f102-835b-4562-afb3-8775c0478cf6",
   "metadata": {},
   "outputs": [
    {
     "ename": "NameError",
     "evalue": "name 'values' is not defined",
     "output_type": "error",
     "traceback": [
      "\u001b[1;31m---------------------------------------------------------------------------\u001b[0m",
      "\u001b[1;31mNameError\u001b[0m                                 Traceback (most recent call last)",
      "\u001b[1;32m~\\AppData\\Local\\Temp\\ipykernel_4148\\965603829.py\u001b[0m in \u001b[0;36m<module>\u001b[1;34m\u001b[0m\n\u001b[1;32m----> 1\u001b[1;33m \u001b[0msözlük1\u001b[0m\u001b[1;33m.\u001b[0m\u001b[0mitems\u001b[0m\u001b[1;33m(\u001b[0m\u001b[0mvalues\u001b[0m\u001b[1;33m(\u001b[0m\u001b[1;33m)\u001b[0m\u001b[1;33m)\u001b[0m\u001b[1;33m\u001b[0m\u001b[1;33m\u001b[0m\u001b[0m\n\u001b[0m",
      "\u001b[1;31mNameError\u001b[0m: name 'values' is not defined"
     ]
    }
   ],
   "source": [
    "sözlük1.items(values())"
   ]
  },
  {
   "cell_type": "code",
   "execution_count": null,
   "id": "5debaf30-7cc3-47bc-8796-2558ad2e7b64",
   "metadata": {},
   "outputs": [],
   "source": []
  }
 ],
 "metadata": {
  "kernelspec": {
   "display_name": "Python 3 (ipykernel)",
   "language": "python",
   "name": "python3"
  },
  "language_info": {
   "codemirror_mode": {
    "name": "ipython",
    "version": 3
   },
   "file_extension": ".py",
   "mimetype": "text/x-python",
   "name": "python",
   "nbconvert_exporter": "python",
   "pygments_lexer": "ipython3",
   "version": "3.9.13"
  }
 },
 "nbformat": 4,
 "nbformat_minor": 5
}
