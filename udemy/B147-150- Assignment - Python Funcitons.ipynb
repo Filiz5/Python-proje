{
 "cells": [
  {
   "cell_type": "markdown",
   "id": "386239ff",
   "metadata": {},
   "source": [
    "___\n",
    "\n",
    "<p style=\"text-align: center;\"><img src=\"https://techproeducation.com/wp-content/uploads/2022/01/Calisma-Yuzeyi-1-kopya-5-1-768x126.png\" class=\"img-fluid\" alt=\"TECHPRO\"></p>\n",
    "\n",
    "___"
   ]
  },
  {
   "cell_type": "markdown",
   "id": "aa93b12c",
   "metadata": {},
   "source": [
    "# Python Functions Assignment"
   ]
  },
  {
   "attachments": {},
   "cell_type": "markdown",
   "id": "57c9c596",
   "metadata": {},
   "source": [
    "## 1. Write a Python function to find the maximum of three numbers."
   ]
  },
  {
   "cell_type": "code",
   "execution_count": 10,
   "id": "49f59908",
   "metadata": {},
   "outputs": [
    {
     "name": "stdout",
     "output_type": "stream",
     "text": [
      "7\n"
     ]
    }
   ],
   "source": [
    "def find_max(x,y,z) :\n",
    "    max = x\n",
    "    if y > x and y > z: \n",
    "        max = y\n",
    "    elif z > x and z > y:\n",
    "        max = z\n",
    "    else: \n",
    "        max = x\n",
    "    print(max) \n",
    "\n",
    "find_max(6,7,3)"
   ]
  },
  {
   "cell_type": "code",
   "execution_count": 13,
   "id": "870ae313",
   "metadata": {},
   "outputs": [
    {
     "name": "stdout",
     "output_type": "stream",
     "text": [
      "9\n"
     ]
    }
   ],
   "source": [
    "find_max(2,6,9)"
   ]
  },
  {
   "cell_type": "code",
   "execution_count": 17,
   "id": "1fa43eb4",
   "metadata": {},
   "outputs": [
    {
     "ename": "NameError",
     "evalue": "name 'a' is not defined",
     "output_type": "error",
     "traceback": [
      "\u001b[1;31m---------------------------------------------------------------------------\u001b[0m",
      "\u001b[1;31mNameError\u001b[0m                                 Traceback (most recent call last)",
      "Cell \u001b[1;32mIn[17], line 1\u001b[0m\n\u001b[1;32m----> 1\u001b[0m \u001b[39mtype\u001b[39m(a,b,c)\n",
      "\u001b[1;31mNameError\u001b[0m: name 'a' is not defined"
     ]
    }
   ],
   "source": [
    "type(a,b,c)"
   ]
  },
  {
   "cell_type": "code",
   "execution_count": 1,
   "id": "9655e704",
   "metadata": {},
   "outputs": [
    {
     "name": "stdout",
     "output_type": "stream",
     "text": [
      "20\n"
     ]
    }
   ],
   "source": [
    "def find_max(a, b, c):\n",
    "    return max(a, b, c)\n",
    "print(find_max(10, 5, 20)) "
   ]
  },
  {
   "cell_type": "code",
   "execution_count": 2,
   "id": "05f8658a",
   "metadata": {},
   "outputs": [
    {
     "data": {
      "text/plain": [
       "9"
      ]
     },
     "execution_count": 2,
     "metadata": {},
     "output_type": "execute_result"
    }
   ],
   "source": [
    "def find_max(a, b, c):\n",
    "\n",
    "    max_num = a\n",
    "    if b > max_num:\n",
    "        max_num = b\n",
    "    if c > max_num:\n",
    "        max_num = c\n",
    "    return max_num\n",
    "find_max(8,3,9)"
   ]
  },
  {
   "cell_type": "markdown",
   "id": "d6d0667d",
   "metadata": {},
   "source": [
    "## 2. Write a Python function to sum all the numbers in a list.\n",
    "\n",
    "## Sample List : (8, 2, 3, 0, 7)\n",
    "\n",
    "## Expected Output : 20"
   ]
  },
  {
   "cell_type": "code",
   "execution_count": 19,
   "id": "28fb6939",
   "metadata": {},
   "outputs": [
    {
     "data": {
      "text/plain": [
       "145"
      ]
     },
     "execution_count": 19,
     "metadata": {},
     "output_type": "execute_result"
    }
   ],
   "source": [
    "def sum_list(numbers):\n",
    "\n",
    "    toplam = 0\n",
    "    for i in numbers:\n",
    "        toplam += i\n",
    "    return toplam\n",
    "sum_list((3,8,9,12,35,78))"
   ]
  },
  {
   "cell_type": "code",
   "execution_count": 21,
   "id": "6cddf97e",
   "metadata": {},
   "outputs": [
    {
     "data": {
      "text/plain": [
       "215"
      ]
     },
     "execution_count": 21,
     "metadata": {},
     "output_type": "execute_result"
    }
   ],
   "source": [
    "sum([2,67,78,23,45])"
   ]
  },
  {
   "cell_type": "markdown",
   "id": "8991e3fe",
   "metadata": {},
   "source": [
    "## 3. Write a Python function to multiply all the numbers in a list.\n",
    "## Sample List : (8, 2, 3, -1, 7)\n",
    "## Expected Output : -336\n"
   ]
  },
  {
   "cell_type": "code",
   "execution_count": 24,
   "id": "325e7de4",
   "metadata": {},
   "outputs": [
    {
     "data": {
      "text/plain": [
       "-1620"
      ]
     },
     "execution_count": 24,
     "metadata": {},
     "output_type": "execute_result"
    }
   ],
   "source": [
    "def multiply(numbers):\n",
    "\n",
    "    carpim = 1\n",
    "\n",
    "    for i in numbers:\n",
    "        carpim *= i\n",
    "    return carpim \n",
    "\n",
    "multiply((3,6,-9,10))"
   ]
  },
  {
   "cell_type": "markdown",
   "id": "d0397d6a",
   "metadata": {},
   "source": [
    "## 4. Write a Python program to reverse a string.\n",
    "## Sample String : \"1234abcd\"\n",
    "## Expected Output : \"dcba4321\""
   ]
  },
  {
   "cell_type": "code",
   "execution_count": 25,
   "id": "e6a79379",
   "metadata": {},
   "outputs": [
    {
     "data": {
      "text/plain": [
       "'orphcet'"
      ]
     },
     "execution_count": 25,
     "metadata": {},
     "output_type": "execute_result"
    }
   ],
   "source": [
    "\"techpro\"[::-1]"
   ]
  },
  {
   "cell_type": "code",
   "execution_count": 35,
   "id": "8f825eb8",
   "metadata": {},
   "outputs": [
    {
     "data": {
      "text/plain": [
       "'males'"
      ]
     },
     "execution_count": 35,
     "metadata": {},
     "output_type": "execute_result"
    }
   ],
   "source": [
    "empty_str = \"\"\n",
    "def str(kelime):\n",
    "    for i in kelime:\n",
    "        empty_str = kelime [::-1]\n",
    "    return empty_str\n",
    "str(\"selam\")\n"
   ]
  },
  {
   "cell_type": "markdown",
   "id": "c7a633ba",
   "metadata": {},
   "source": [
    "## 5. Write a Python function to calculate the factorial of a number (a non-negative integer). The function accepts the number as an argument."
   ]
  },
  {
   "cell_type": "code",
   "execution_count": null,
   "id": "29d849d6",
   "metadata": {},
   "outputs": [],
   "source": [
    "# 1 yol\n",
    "def faktoryel_hesapla(sayi) :\n",
    "    if sayi < 0 :\n",
    "        print(\"Negative sayilarin faktoryeli hesaplanmaz\")\n",
    "    elif sayi == 0 :\n",
    "        faktoryel = 1\n",
    "        return faktoryel\n",
    "    else :\n",
    "        faktoryel=1\n",
    "        for i in range(1,sayi+1) :\n",
    "            faktoryel *= i\n",
    "        return faktoryel"
   ]
  },
  {
   "cell_type": "code",
   "execution_count": 1,
   "id": "99fba395",
   "metadata": {},
   "outputs": [],
   "source": [
    " #2 yol   --> if sayi < 0 : return None Biz none donuyor\n",
    "def faktoryel_hesapla(sayi) :\n",
    "    if sayi < 0 :\n",
    "        return None\n",
    "    elif sayi == 0 :\n",
    "        faktoryel = 1\n",
    "        return  faktoryel\n",
    "    else :\n",
    "        faktoryel=1\n",
    "        for i in range(1,sayi+1) :\n",
    "            faktoryel *= i\n",
    "        return faktoryel"
   ]
  },
  {
   "cell_type": "code",
   "execution_count": null,
   "id": "ecad2c62",
   "metadata": {},
   "outputs": [],
   "source": [
    "# 3 yol   --> if sayi < 0 : return string ifade donduruyor\n",
    "def faktoryel_hesapla(sayi) :\n",
    "    if sayi < 0 :\n",
    "        return \"Negative sayilar hesaplanamaz\"\n",
    "        \n",
    "    elif sayi == 0 :                 \n",
    "        faktoryel = 1\n",
    "        return  faktoryel\n",
    "    \n",
    "    else : \n",
    "        faktoryel=1   \n",
    "        for i in range(1,sayi+1) :\n",
    "            faktoryel *= i\n",
    "        return faktoryel  "
   ]
  },
  {
   "cell_type": "code",
   "execution_count": null,
   "id": "623d6941",
   "metadata": {},
   "outputs": [],
   "source": [
    "# 4 yol   --> if sayi < 0 : return string ifade donduruyor\n",
    "def faktoryel_hesapla(sayi) :\n",
    "    if sayi < 0 :\n",
    "        return \"Negative sayilar hesaplanamaz\"\n",
    "        \n",
    "    elif sayi == 0 :                 \n",
    "        faktoryel = 1\n",
    "        return  faktoryel\n",
    "    \n",
    "    else : \n",
    "        faktoryel=1   \n",
    "        for i in range(1,sayi+1) :\n",
    "            faktoryel *= i\n",
    "        return faktoryel  "
   ]
  },
  {
   "cell_type": "code",
   "execution_count": null,
   "id": "7ea664d4",
   "metadata": {},
   "outputs": [],
   "source": [
    "def faktoriyel(number) :\n",
    "    faktoriyel = 1\n",
    "    if number < 0 :\n",
    "        faktoriyel = \"Negative sayilar hesaplanamaz\"\n",
    "    elif number == 0 :\n",
    "        faktoriyel = 1\n",
    "    else :\n",
    "        for i in range(1,number+1) :\n",
    "            faktoriyel *= i\n",
    "    return faktoriyel"
   ]
  },
  {
   "cell_type": "markdown",
   "id": "81f0c3d5",
   "metadata": {},
   "source": [
    "## 6. Write a Python function to check whether a number falls within a given range."
   ]
  },
  {
   "cell_type": "code",
   "execution_count": 4,
   "id": "bf393352",
   "metadata": {},
   "outputs": [],
   "source": [
    "# sayi_VarMi(sayi , aralik baslangici , aralik bitiş)\n",
    "#sayi_varmi(sayi) \n",
    "def sayi_VarMi(sayi,baslangic, bitis) :\n",
    "    sayi_araligi=list(range(baslangic,bitis+1))\n",
    "    if sayi in sayi_araligi :\n",
    "        print(f\"Aradiginiz {sayi} sayisi verdiğiniz {baslangic} ve {bitis} sayilari arasindadir  \")\n",
    "        print(f\"Aradiginiz {sayi} sayisi verdiğiniz {sayi_araligi} arasindadir  \")\n",
    "    else :\n",
    "        print(f\"Aradiginiz {sayi} sayisi verdiğiniz {baslangic} ve {bitis} sayilari arasinda değildir  \")\n",
    "        print(f\"Aradiginiz {sayi} sayisi verdiğiniz {sayi_araligi} arasinda değildir  \")\n"
   ]
  },
  {
   "cell_type": "code",
   "execution_count": 5,
   "id": "c1644126",
   "metadata": {},
   "outputs": [
    {
     "name": "stdout",
     "output_type": "stream",
     "text": [
      "Aradiginiz 5 sayisi verdiğiniz 1 ve 50 sayilari arasindadir  \n",
      "Aradiginiz 5 sayisi verdiğiniz [1, 2, 3, 4, 5, 6, 7, 8, 9, 10, 11, 12, 13, 14, 15, 16, 17, 18, 19, 20, 21, 22, 23, 24, 25, 26, 27, 28, 29, 30, 31, 32, 33, 34, 35, 36, 37, 38, 39, 40, 41, 42, 43, 44, 45, 46, 47, 48, 49, 50] arasindadir  \n"
     ]
    }
   ],
   "source": [
    "sayi_VarMi(5,1,50)"
   ]
  },
  {
   "cell_type": "code",
   "execution_count": 2,
   "id": "88f1546a",
   "metadata": {},
   "outputs": [],
   "source": [
    "def num_check(num,range_1,range_2):\n",
    "    if num in range(range_1,range_2 + 1):\n",
    "        result = print(f\"{num} is between {range_1} and {range_2}\")\n",
    "    else:\n",
    "        result = print(f\"{num} is NOT between {range_1} and {range_2}\")\n",
    "    return result"
   ]
  },
  {
   "cell_type": "code",
   "execution_count": 6,
   "id": "4dbe377f",
   "metadata": {},
   "outputs": [],
   "source": [
    "#3.yol\n",
    "def sayi_VarMi2(sayi,baslangic, bitis) :\n",
    "    sayi_araligi=list(range(baslangic,bitis))\n",
    "    [print(f\"Aradiginiz {sayi} sayisi verdiğiniz {baslangic} ve {bitis} sayilari arasindadir\")\n",
    "      if sayi in sayi_araligi \n",
    "      else print(f\"Aradiginiz {sayi} sayisi verdiğiniz {baslangic} ve {bitis} sayilari arasinda değildir  \") ] #list comp"
   ]
  },
  {
   "cell_type": "code",
   "execution_count": 7,
   "id": "3f7292a5",
   "metadata": {},
   "outputs": [
    {
     "name": "stdout",
     "output_type": "stream",
     "text": [
      "Aradiginiz 5 sayisi verdiğiniz 1 ve 50 sayilari arasindadir\n"
     ]
    }
   ],
   "source": [
    "sayi_VarMi2(5,1,50)"
   ]
  },
  {
   "cell_type": "markdown",
   "id": "46d9792b",
   "metadata": {},
   "source": [
    "## 7. Write a Python function that accepts a string and counts the number of upper and lower case letters.\n",
    "## Sample String : 'The quick Brow Fox'\n",
    "## Expected Output :\n",
    "### No. of Upper case characters : 3\n",
    "### No. of Lower case Characters : 12"
   ]
  },
  {
   "cell_type": "code",
   "execution_count": 17,
   "id": "9c680735",
   "metadata": {},
   "outputs": [],
   "source": [
    "def harf_bulma(cumle):\n",
    "\n",
    "\n",
    "  kucuk_harf = 0\n",
    "  buyuk_harf = 0\n",
    "\n",
    "\n",
    "  for i in cumle:\n",
    "    if i.islower():\n",
    "      kucuk_harf +=1\n",
    "    if i.isupper():\n",
    "      buyuk_harf += 1\n",
    "    \n",
    "  print(f\"buyuk hafr sayisi: {buyuk_harf},\\n kucuk harf sayisi: {kucuk_harf} \")    "
   ]
  },
  {
   "cell_type": "code",
   "execution_count": 18,
   "id": "1e84ec29",
   "metadata": {},
   "outputs": [
    {
     "name": "stdout",
     "output_type": "stream",
     "text": [
      "buyuk hafr sayisi: 3,\n",
      " kucuk harf sayisi: 12 \n"
     ]
    }
   ],
   "source": [
    "harf_bulma(\"The  567 quick Brow Fox\")"
   ]
  },
  {
   "cell_type": "code",
   "execution_count": 3,
   "id": "195a965b",
   "metadata": {},
   "outputs": [
    {
     "name": "stdout",
     "output_type": "stream",
     "text": [
      "Büyük harf 0\n",
      "Küçük harf 18\n"
     ]
    }
   ],
   "source": [
    "kelime = input()\n",
    "buyuk,kucuk = 0,0\n",
    "\n",
    "for i in kelime:\n",
    "    if 'a'<=i and i<='z':       # 97-122 arası harf sıralaması\n",
    "        kucuk+=1\n",
    "    if 'A'<=i and i<='Z':     # 65-90 arası    \n",
    "        buyuk+=1\n",
    "\n",
    "print(f\"Büyük harf {buyuk}\\nKüçük harf {kucuk}\")"
   ]
  },
  {
   "cell_type": "code",
   "execution_count": null,
   "id": "31e69207",
   "metadata": {},
   "outputs": [],
   "source": [
    "def search(x):\n",
    "    buyuk = 0\n",
    "    kucuk = 0\n",
    "\n",
    "    for i in x:\n",
    "        buyuk += i.islower()\n",
    "        kucuk += i.isupper()\n",
    "\n",
    "    print(\"Büyük Harf {0}\\nKüçük Harf {1}\".format(kucuk,buyuk))\n",
    "\n",
    "kelimeler = input(\"Bir kelime giriniz: \")\n",
    "search(kelimeler)"
   ]
  },
  {
   "cell_type": "code",
   "execution_count": null,
   "id": "21897f88",
   "metadata": {},
   "outputs": [],
   "source": [
    "# 2.yol \n",
    "def buyuk_kucuk_harf_say(cumle) :\n",
    "    buyuk_harf = 0\n",
    "    kucuk_harf = 0\n",
    "    for i in cumle :\n",
    "        if i.isupper() :\n",
    "            buyuk_harf += 1\n",
    "        elif i.islower() :\n",
    "            kucuk_harf += 1    \n",
    "       \n",
    "    print(f\"No. of Upper case characters : {buyuk_harf}\")\n",
    "    print(f\"No. of Lower case Characters : {kucuk_harf}\")"
   ]
  },
  {
   "cell_type": "code",
   "execution_count": null,
   "id": "c5602d32",
   "metadata": {},
   "outputs": [],
   "source": [
    "def search(x):\n",
    "    buyuk = 0\n",
    "    kucuk = 0\n",
    "​\n",
    "for i in x:\n",
    "        buyuk += i.islower()\n",
    "        kucuk += i.isupper()\n",
    "​\n",
    "print(\"Büyük Harf {0}\\nKüçük Harf {1}\".format(kucuk,buyuk))\n",
    "​\n",
    "kelimeler = input(\"Bir kelime giriniz: \")\n",
    "search(kelimeler)"
   ]
  },
  {
   "cell_type": "code",
   "execution_count": null,
   "id": "ac2f93f4",
   "metadata": {},
   "outputs": [],
   "source": [
    "# Sample String : 'The quick Brow Fox'\n",
    "kelimeler = input(\"Bir kelime giriniz: \")\n",
    "\n",
    "buyuk = sum(1 for i in kelimeler if i.isupper())           \n",
    "kucuk = sum(1 for i in kelimeler if i.islower())     \n",
    "\n",
    "print(\"Büyük Harf {0}\\nKüçük Harf {1}\".format(buyuk,kucuk))"
   ]
  },
  {
   "cell_type": "code",
   "execution_count": 19,
   "id": "06360469",
   "metadata": {},
   "outputs": [],
   "source": [
    " #7. Write a Python function that accepts a string and counts the number of upper and lower case letters.\n",
    "## Sample String : 'The quick Brow Fox'\n",
    "## Expected Output :\n",
    "### No. of Upper case characters : 3\n",
    "### No. of Lower case Characters : 12\n",
    "def harfleri_say(cumle) :\n",
    "    \"\"\" Kullanim Sekli : harfleri_say(\"str expressions\")\n",
    "     elements except letters will be deleted \"\"\"\n",
    "    \n",
    "    if type(cumle) == str :\n",
    "        cumle=[i  for i in cumle if i.isalpha()]   \n",
    "        b_harf = []\n",
    "        k_harf = []\n",
    "    \n",
    "        [b_harf.append(i) if i.isupper() else  k_harf.append(i) for i in cumle]\n",
    "        if len(b_harf) == 0 and len(k_harf) == 0:\n",
    "            print(\"No letters! Harf yok bir daha.\")\n",
    "        else :    \n",
    "            print(f\"No. of Upper case characters : {len(b_harf)}\")\n",
    "            print(f\"No. of Lower case Characters : {len(k_harf)}\")\n",
    "        \n",
    "    else : print(\"String turunde bir data giriniz\")    \n",
    "\n",
    "\n",
    "#harfleri_say(\"ğasd123.&%\")\n",
    "# ?harfleri_say --> fonksiyon kullanimi"
   ]
  },
  {
   "cell_type": "code",
   "execution_count": 20,
   "id": "1019b831",
   "metadata": {},
   "outputs": [
    {
     "name": "stdout",
     "output_type": "stream",
     "text": [
      "No. of Upper case characters : 2\n",
      "No. of Lower case Characters : 3\n"
     ]
    }
   ],
   "source": [
    "harfleri_say(\"SeLam 4563&&\")"
   ]
  },
  {
   "cell_type": "markdown",
   "id": "be714b42",
   "metadata": {},
   "source": [
    "## 8. Write a Python function that takes a list and returns a new list with distinct elements from the first list.\n",
    "### Sample List : [1,2,3,3,3,3,4,5]\n",
    "### Unique List : [1, 2, 3, 4, 5]"
   ]
  },
  {
   "cell_type": "code",
   "execution_count": 24,
   "id": "4f2a7f66",
   "metadata": {},
   "outputs": [
    {
     "data": {
      "text/plain": [
       "[1, 2, 3, 4, 5]"
      ]
     },
     "execution_count": 24,
     "metadata": {},
     "output_type": "execute_result"
    }
   ],
   "source": [
    "#def uniek_liste(liste):\n",
    "seta= {1,2,3,3,3,3,4,5 }\n",
    "list(seta)"
   ]
  },
  {
   "cell_type": "code",
   "execution_count": 30,
   "id": "38167a8d",
   "metadata": {},
   "outputs": [],
   "source": [
    "        \n",
    "def unique_list(liste):\n",
    "    return list(set(liste))"
   ]
  },
  {
   "cell_type": "code",
   "execution_count": 31,
   "id": "4b562e0e",
   "metadata": {},
   "outputs": [
    {
     "data": {
      "text/plain": [
       "[3, 4, 5, 6, 7, 8]"
      ]
     },
     "execution_count": 31,
     "metadata": {},
     "output_type": "execute_result"
    }
   ],
   "source": [
    "unique_list([3,3,3,4,4,4,5,6,7,8,8,8])"
   ]
  },
  {
   "cell_type": "code",
   "execution_count": 29,
   "id": "70515fca",
   "metadata": {},
   "outputs": [
    {
     "data": {
      "text/plain": [
       "[3, 4, 5, 6, 7, 8]"
      ]
     },
     "execution_count": 29,
     "metadata": {},
     "output_type": "execute_result"
    }
   ],
   "source": [
    "unique_list(3,3,3,4,4,4,5,6,7,8,8,8)"
   ]
  },
  {
   "cell_type": "code",
   "execution_count": null,
   "id": "af5a0309",
   "metadata": {},
   "outputs": [],
   "source": [
    "Sample_List = [1,2,3,3,3,3,4,5]\n",
    "### Unique List : [1, 2, 3, 4, 5]\n",
    "def unique_list(list) :\n",
    "      \n",
    "   bos_list=[]\n",
    "   [bos_list.append(i) for i in list if  i not in bos_list] \n",
    "   return bos_list\n",
    "   \n",
    "   \n",
    "#---\n",
    "Sample_List = [1,2,3,3,3,3,4,5]\n",
    "unique_list(Sample_List)"
   ]
  },
  {
   "cell_type": "code",
   "execution_count": null,
   "id": "18d1b5fb",
   "metadata": {},
   "outputs": [],
   "source": [
    "Sample_List = [1,2,3,3,3,3,4,5]\n",
    "### Unique List : [1, 2, 3, 4, 5]\n",
    "def unique_list(list) :\n",
    "    bos_list= []\n",
    "    for i in list :\n",
    "        if i not in bos_list :\n",
    "            bos_list.append(i)\n",
    "   \n",
    "    return bos_list\n",
    "#-----\n",
    "list = [1,2,3,3,3,3,4,5]\n",
    "unique_list(list)"
   ]
  },
  {
   "cell_type": "code",
   "execution_count": 34,
   "id": "9e2322e7",
   "metadata": {},
   "outputs": [],
   "source": [
    "\n",
    "def uniq_list(liste): \n",
    "    new_list = []\n",
    "    for i in liste:\n",
    "      if i not in new_list:\n",
    "        new_list.append(i)\n",
    "    return new_list\n"
   ]
  },
  {
   "cell_type": "code",
   "execution_count": 36,
   "id": "718dcc7c",
   "metadata": {},
   "outputs": [
    {
     "name": "stdout",
     "output_type": "stream",
     "text": [
      "[4, 6, 7, 78, 9, 24]\n"
     ]
    }
   ],
   "source": [
    "my_list = [4,6,7,7,78,78,78,9,4,4,24,24]\n",
    "new_list = uniq_list(my_list)\n",
    "\n",
    "print(new_list) "
   ]
  },
  {
   "cell_type": "code",
   "execution_count": null,
   "id": "3cf33900",
   "metadata": {},
   "outputs": [],
   "source": [
    "def unique_list(x):\n",
    "    return list(set(x))\n",
    "Sample_List = [1,2,3,3,3,3,4,5]\n",
    "unique_list(Sample_List)"
   ]
  },
  {
   "cell_type": "code",
   "execution_count": null,
   "id": "ce49e73b",
   "metadata": {},
   "outputs": [],
   "source": [
    "Sample List= [1, 2, 3, 4, 5, 6, 7, 8, 9]\n",
    "### Expected Result : [2, 4, 6, 8]\n",
    "list = [1, 2, 3, 4, 5, 6, 7, 8, 9,11,12,85,45,0]\n",
    "cift_s=[]\n",
    "for i in list :\n",
    "    if i % 2 ==0 :\n",
    "        cift_s.append(i)\n",
    "print(f\"girdiginiz listeden cift sayilar {cift_s}\")"
   ]
  },
  {
   "cell_type": "markdown",
   "id": "b3400547",
   "metadata": {},
   "source": [
    "## 9. Write a Python function that takes a number as a parameter and checks whether the number is prime or not.\n",
    "### Note : A prime number (or a prime) is a natural number greater than 1 and that has no positive divisors other than 1 and itself."
   ]
  },
  {
   "cell_type": "code",
   "execution_count": 2,
   "id": "707ffc1c",
   "metadata": {},
   "outputs": [
    {
     "data": {
      "text/plain": [
       "'Asal değil'"
      ]
     },
     "execution_count": 2,
     "metadata": {},
     "output_type": "execute_result"
    }
   ],
   "source": [
    "def asal_mi(x):                         # sayının asal olup olmadığını döndüren fonksiyon\n",
    "    i = 2\n",
    "    if (x == 1):\n",
    "        return \"Asal değil\"       # 1'in durum\n",
    "    else:\n",
    "        while(i < x):\n",
    "            if (x % i == 0):      # sayımızın 2'den sonrası için bölünebilirlik kontrolü\n",
    "                return \"Asal değil\"  \n",
    "            i += 1\n",
    "    return True\n",
    "\n",
    "number = int(input(\"Asal sayı kontrolü için bir sayı giriniz: \"))\n",
    "asal_mi(number)"
   ]
  },
  {
   "cell_type": "code",
   "execution_count": 3,
   "id": "5ba8308e",
   "metadata": {},
   "outputs": [
    {
     "data": {
      "text/plain": [
       "[2, 4, 6, 8]"
      ]
     },
     "execution_count": 3,
     "metadata": {},
     "output_type": "execute_result"
    }
   ],
   "source": []
  },
  {
   "cell_type": "code",
   "execution_count": 9,
   "id": "94b451e9",
   "metadata": {},
   "outputs": [
    {
     "name": "stdout",
     "output_type": "stream",
     "text": [
      "Asal sayidir\n"
     ]
    }
   ],
   "source": [
    "def asal_sayimi(sayı):\n",
    "    sayaç = 0\n",
    "    for i in range(2, sayı):\n",
    "        if sayı % i == 0:\n",
    "            sayaç += 1\n",
    "    if  sayı >= 2 and sayaç == 0:\n",
    "        print(\"Asal sayidir\")\n",
    "    else: \n",
    "        print(\"Asal sayi degildir\")\n",
    "asal_sayimi(7)"
   ]
  },
  {
   "cell_type": "code",
   "execution_count": null,
   "id": "7415c103",
   "metadata": {},
   "outputs": [],
   "source": [
    "def prime_number(number):\n",
    "    list_1 =[1,number]\n",
    "    list_2 =[]\n",
    "    i = 1\n",
    "    while i<=number:\n",
    "        if (number%i == 0) :\n",
    "            list_2.append(i)\n",
    "        i +=1\n",
    "    if list_1 == list_2 :\n",
    "        print(\"sayi asaldir\")\n",
    "    else:\n",
    "        print(\"sayi asal degildir\")"
   ]
  },
  {
   "cell_type": "code",
   "execution_count": null,
   "id": "d4fd2ad1",
   "metadata": {},
   "outputs": [],
   "source": [
    "def prime_number(sayi) :\n",
    "    \n",
    "    if sayi == 1 :\n",
    "        print(\"Asal degil\")\n",
    "    for i in list(range(2,sayi+1)) :\n",
    "        if sayi % i == 0 :\n",
    "            if sayi == i :\n",
    "                print(f\"Girilen {sayi} sayisi asal sayidir\")\n",
    "                break\n",
    "            else :\n",
    "                print(f\"Girilen sayi asal değildir\")\n",
    "                break\n",
    "# ---------------------------\n",
    "prime_number(1)   \n"
   ]
  },
  {
   "cell_type": "code",
   "execution_count": null,
   "id": "0472bc12",
   "metadata": {},
   "outputs": [],
   "source": [
    "### Note : A prime number (or a prime) is a natural number greater than 1 \n",
    "# and that has no positive divisors other than 1 and itself.\n",
    "def asal_mi(x):                         # sayının asal olup olmadığını döndüren fonksiyon\n",
    "    i = 2\n",
    "    if (x == 1):\n",
    "        return \"Asal değil\"       # 1'in durum\n",
    "    else:\n",
    "        while(i < x):\n",
    "            if (x % i == 0):      # sayımızın 2'den sonrası için bölünebilirlik kontrolü\n",
    "                return \"Asal değil\"  \n",
    "            i += 1\n",
    "    return print(\"asal sayidir\")\n",
    "number = int(input(\"Asal sayı kontrolü için bir sayı giriniz: \"))\n",
    "asal_mi(number)"
   ]
  },
  {
   "cell_type": "code",
   "execution_count": null,
   "id": "bf087d11",
   "metadata": {},
   "outputs": [],
   "source": [
    "​\n",
    "def prime_number(number):\n",
    "    list_1 =[1,number]\n",
    "    list_2 =[]\n",
    "    i = 1\n",
    "    while i<=number:\n",
    "        if (number%i == 0) :\n",
    "            list_2.append(i)\n",
    "        i +=1\n",
    "    if list_1 == list_2 :\n",
    "        print(\"sayi asaldir\")\n",
    "    else:\n",
    "        print(\"sayi asal degildir\")"
   ]
  },
  {
   "cell_type": "code",
   "execution_count": 39,
   "id": "9179b32b",
   "metadata": {},
   "outputs": [
    {
     "name": "stdout",
     "output_type": "stream",
     "text": [
      "Bu sayi bir asaldir\n"
     ]
    }
   ],
   "source": [
    "sayi = int (input(\"Sayi giriniz\"))\n",
    "\n",
    "for i in range(2, sayi +1):\n",
    "    if sayi % i == 0:\n",
    "        if sayi == i:\n",
    "           print(\"Bu sayi bir asaldir\")\n",
    "           break\n",
    "        else:\n",
    "           print(\"Girilen sayi asal degildir\")\n",
    "           break "
   ]
  },
  {
   "cell_type": "code",
   "execution_count": 44,
   "id": "88ae1f3b",
   "metadata": {},
   "outputs": [
    {
     "name": "stdout",
     "output_type": "stream",
     "text": [
      "Girilen sayi asal degildir\n"
     ]
    }
   ],
   "source": [
    "sayi2 = int (input(\"Sayi giriniz\"))\n",
    "sayac = 2 \n",
    "while True: \n",
    "    if sayi2 % sayac == 0:\n",
    "        if sayi == sayac:\n",
    "           print(\"Bu sayi bir asaldir\")\n",
    "           break\n",
    "        else:\n",
    "           print(\"Girilen sayi asal degildir\")\n",
    "           break \n",
    "\n",
    "    else: \n",
    "        sayac += 1    "
   ]
  },
  {
   "cell_type": "markdown",
   "id": "9743a8c3",
   "metadata": {},
   "source": [
    "## 10. Write a Python program to print the even numbers from a given list.\n",
    "### Sample List : [1, 2, 3, 4, 5, 6, 7, 8, 9]\n",
    "### Expected Result : [2, 4, 6, 8]"
   ]
  },
  {
   "cell_type": "code",
   "execution_count": null,
   "id": "039185d2",
   "metadata": {},
   "outputs": [],
   "source": [
    "#Sample List : [1, 2, 3, 4, 5, 6, 7, 8, 9]\n",
    "### Expected Result : [2, 4, 6, 8]\n",
    "list = [1, 2, 3, 4, 5, 6, 7, 8, 9,11,12,85,45,0]\n",
    "[i for i in list if i % 2 ==0 ]"
   ]
  },
  {
   "cell_type": "code",
   "execution_count": 13,
   "id": "fbff7fd2",
   "metadata": {},
   "outputs": [
    {
     "data": {
      "text/plain": [
       "[2, 4, 6, 8, 12, 0]"
      ]
     },
     "execution_count": 13,
     "metadata": {},
     "output_type": "execute_result"
    }
   ],
   "source": [
    "### Sample List : [1, 2, 3, 4, 5, 6, 7, 8, 9]\n",
    "### Expected Result : [2, 4, 6, 8]\n",
    "liste = [1, 2, 3, 4, 5, 6, 7, 8, 9,11,12,85,45,0]\n",
    "list(filter(lambda i: i %2 == 0 ,liste ))\n",
    "# list(filter(lambda i : i % 2 == 0, Sample_List)) "
   ]
  },
  {
   "cell_type": "markdown",
   "id": "6c80fb99",
   "metadata": {},
   "source": [
    "## 11. Write a Python function to check whether a number is \"Perfect\" or not.\n",
    "### According to Wikipedia : In number theory, a perfect number is a positive integer that is equal to the sum of its proper positive divisors, that is, the sum of its positive divisors excluding the number itself (also known as its aliquot sum). Equivalently, a perfect number is a number that is half the sum of all of its positive divisors (including itself).\n",
    "### Example : The first perfect number is 6, because 1, 2, and 3 are its proper positive divisors, and 1 + 2 + 3 = 6. Equivalently, the number 6 is equal to half the sum of all its positive divisors: ( 1 + 2 + 3 + 6 ) / 2 = 6. The next perfect number is 28 = 1 + 2 + 4 + 7 + 14. This is followed by the perfect numbers 496 and 8128."
   ]
  },
  {
   "cell_type": "code",
   "execution_count": 14,
   "id": "39ffa501",
   "metadata": {},
   "outputs": [
    {
     "name": "stdout",
     "output_type": "stream",
     "text": [
      "mukemmel sayi değildir\n"
     ]
    }
   ],
   "source": [
    "## 11. Write a Python function to check whether a number is \"Perfect\" or not.\n",
    "def perfect_number(x) :\n",
    "    toplam = 0\n",
    "    for i in range(1,x) :\n",
    "        if x % i == 0 :\n",
    "            toplam += i    \n",
    "    if x == toplam :\n",
    "        print(\"sayi mukemmel sayidir\")\n",
    "    else : print(\"mukemmel sayi değildir\")    \n",
    "#---\n",
    "perfect_number(15)"
   ]
  },
  {
   "cell_type": "code",
   "execution_count": 15,
   "id": "dbbbcfc9",
   "metadata": {},
   "outputs": [
    {
     "name": "stdout",
     "output_type": "stream",
     "text": [
      "mukemmel sayi değildir\n"
     ]
    }
   ],
   "source": [
    "## 11. Write a Python function to check whether a number is \"Perfect\" or not.\n",
    "def perfect_number(x) :\n",
    "    toplam = sum(list(filter(lambda i: x % i == 0 ,range(1,x) )))\n",
    "    print(\"sayi mukemmel sayidir\") if x == toplam  else print(\"mukemmel sayi değildir\")\n",
    "   \n",
    "#---\n",
    "perfect_number(5) "
   ]
  },
  {
   "cell_type": "code",
   "execution_count": 16,
   "id": "33c9d3c8",
   "metadata": {},
   "outputs": [
    {
     "data": {
      "text/plain": [
       "'sayi mukemmel sayidir'"
      ]
     },
     "execution_count": 16,
     "metadata": {},
     "output_type": "execute_result"
    }
   ],
   "source": [
    "## 11. Write a Python function to check whether a number is \"Perfect\" or not.\n",
    "x=6 \n",
    "toplam = sum(list(filter(lambda i: x % i == 0 ,range(1,x) ))) \n",
    "\"sayi mukemmel sayidir\" if x == toplam  else \"mukemmel sayi değildir\" # print kullanmdan cikti veriyor"
   ]
  },
  {
   "cell_type": "markdown",
   "id": "795dc6b0",
   "metadata": {},
   "source": [
    "## 12. Write a Python function that checks whether a passed string is a palindrome or not.\n",
    "### Note: A palindrome is a word, phrase, or sequence that reads the same backward as forward, e.g., madam or nurses run."
   ]
  },
  {
   "cell_type": "code",
   "execution_count": null,
   "id": "dd3ceb6f",
   "metadata": {},
   "outputs": [],
   "source": [
    "def palindrome(kelime) :\n",
    "    y= kelime[::-1]\n",
    "    if kelime==y:\n",
    "        return \"kelime palindrome'dur\"\n",
    "    else:\n",
    "        return \"kelime palindrome degildir\"\n",
    "    \n",
    "palindrome(\"kazak\")\n",
    "palindrome(\"ey edip pide ye\")"
   ]
  },
  {
   "cell_type": "markdown",
   "id": "1e155158",
   "metadata": {},
   "source": [
    "## 13. Write a Python function that prints out the first n rows of Pascal's triangle.\n",
    "### Note : Pascal's triangle is an arithmetic and geometric figure first imagined by Blaise Pascal.\n",
    "### Sample Pascal's triangle :\n",
    "### Each number is the two numbers above it added together"
   ]
  },
  {
   "attachments": {},
   "cell_type": "markdown",
   "id": "87cb040c",
   "metadata": {},
   "source": [
    "# 13 Pascal üçgeninin ilk n satırını yazdıran bir Python işlevi yazın.\n",
    "### Not: Pascal'ın üçgeni, ilk olarak Blaise Pascal tarafından hayal edilen aritmetik ve geometrik bir figürdür.\n",
    "### Örnek Pascal üçgeni:\n",
    "### Her sayı, birlikte eklendiği yukarıdaki iki sayıdır."
   ]
  },
  {
   "cell_type": "code",
   "execution_count": null,
   "id": "2aa4a95f",
   "metadata": {},
   "outputs": [],
   "source": [
    "def pascal_triangle(n):\n",
    "   trow = [1]\n",
    "   y = [0]\n",
    "   for x in range(max(n,0)):\n",
    "      print(trow)\n",
    "      trow=[l+r for l,r in zip(trow+y, y+trow)]\n",
    "   return n>=1\n",
    "pascal_triangle(6) "
   ]
  },
  {
   "cell_type": "code",
   "execution_count": 28,
   "id": "353ffc64",
   "metadata": {},
   "outputs": [
    {
     "data": {
      "text/plain": [
       "[[1], [1, 1], [1, 2, 1], [1, 3, 3, 1]]"
      ]
     },
     "execution_count": 28,
     "metadata": {},
     "output_type": "execute_result"
    }
   ],
   "source": [
    "def pascal_ucgeni(n):\n",
    "    ucgen = [[1]*(i+1) for i in range(n)]\n",
    "    for i in range(n):\n",
    "        for j in range(1, i):\n",
    "            ucgen[i][j] = ucgen[i-1][j-1] + ucgen[i-1][j]\n",
    "    return ucgen\n",
    "\n",
    "pascal_ucgeni(4)\n",
    "\n"
   ]
  },
  {
   "cell_type": "code",
   "execution_count": null,
   "id": "9f4143aa",
   "metadata": {},
   "outputs": [
    {
     "name": "stdout",
     "output_type": "stream",
     "text": [
      "                    1                     \n",
      "                  1    1                  \n",
      "               1    2    1                \n",
      "             1    3    3    1             \n",
      "          1    4    6    4    1           \n",
      "       1    5    10    10    5    1       \n",
      "    1    6    15    20    15    6    1    \n"
     ]
    }
   ],
   "source": [
    "n = 7\n",
    "ucgen = pascal_ucgeni(n)\n",
    "for i in range(n):\n",
    "    print(\"    \".join(map(str, ucgen[i])).center(n*6))"
   ]
  },
  {
   "cell_type": "code",
   "execution_count": 43,
   "id": "0a2c862b",
   "metadata": {},
   "outputs": [],
   "source": [
    "def pascal_ucgeni(n):\n",
    "    ucgen = [[1]*(i+1) for i in range(n)]\n",
    "    print(list(ucgen))"
   ]
  },
  {
   "cell_type": "code",
   "execution_count": 7,
   "id": "c6e8bbaf",
   "metadata": {},
   "outputs": [
    {
     "data": {
      "text/plain": [
       "5"
      ]
     },
     "execution_count": 7,
     "metadata": {},
     "output_type": "execute_result"
    }
   ],
   "source": [
    "list= [2,4,5,6,7,8]\n",
    "list[2]"
   ]
  },
  {
   "cell_type": "code",
   "execution_count": 27,
   "id": "6d86f54d",
   "metadata": {},
   "outputs": [
    {
     "ename": "NameError",
     "evalue": "name 'j' is not defined",
     "output_type": "error",
     "traceback": [
      "\u001b[1;31m---------------------------------------------------------------------------\u001b[0m",
      "\u001b[1;31mNameError\u001b[0m                                 Traceback (most recent call last)",
      "Cell \u001b[1;32mIn[27], line 2\u001b[0m\n\u001b[0;32m      1\u001b[0m ucgen \u001b[39m=\u001b[39m [[\u001b[39m1\u001b[39m]\u001b[39m*\u001b[39m(i\u001b[39m+\u001b[39m\u001b[39m1\u001b[39m) \u001b[39mfor\u001b[39;00m i \u001b[39min\u001b[39;00m \u001b[39mrange\u001b[39m(n)]\n\u001b[1;32m----> 2\u001b[0m ucgen[i][j] \u001b[39m=\u001b[39m ucgen[i\u001b[39m-\u001b[39m\u001b[39m1\u001b[39m][j\u001b[39m-\u001b[39m\u001b[39m1\u001b[39m] \u001b[39m+\u001b[39m ucgen[i\u001b[39m-\u001b[39m\u001b[39m1\u001b[39m][j]\n",
      "\u001b[1;31mNameError\u001b[0m: name 'j' is not defined"
     ]
    }
   ],
   "source": [
    "ucgen = [[1]*(i+1) for i in range(n)]\n",
    "ucgen[i][j] = ucgen[i-1][j-1] + ucgen[i-1][j]"
   ]
  },
  {
   "cell_type": "code",
   "execution_count": 39,
   "id": "07a4f60a",
   "metadata": {},
   "outputs": [
    {
     "name": "stdout",
     "output_type": "stream",
     "text": [
      "[[1], [1, 1], [1, 1, 1], [1, 1, 1, 1]]\n"
     ]
    }
   ],
   "source": [
    "pascal_ucgeni(4)"
   ]
  },
  {
   "cell_type": "code",
   "execution_count": 29,
   "id": "6864e6b7",
   "metadata": {},
   "outputs": [
    {
     "name": "stdout",
     "output_type": "stream",
     "text": [
      "                         1                         \n",
      "                       1    1                      \n",
      "                    1    2    1                    \n",
      "                  1    3    3    1                 \n",
      "               1    4    6    4    1               \n",
      "            1    5    10    10    5    1           \n",
      "         1    6    15    20    15    6    1        \n",
      "      1    7    21    35    35    21    7    1     \n",
      "   1    8    28    56    70    56    28    8    1  \n",
      "1    9    36    84    126    126    84    36    9    1\n"
     ]
    }
   ],
   "source": [
    "def pascal(sayı):\n",
    "    liste = []\n",
    "\n",
    "    for i in range(1, sayı + 1):\n",
    "        for j in range(1, i + 1):\n",
    "            if j == 1:\n",
    "                liste.append(1)\n",
    "            elif j == i:\n",
    "                liste.append(1)                \n",
    "            else:\n",
    "                liste.append(liste[-i + 1] + liste[-i])\n",
    "            \n",
    "                        \n",
    "        #print(liste[-i:])\n",
    "        print((\"    \".join(map(str, liste[-i:]))).center(5 * sayı + 1))\n",
    "            \n",
    " \n",
    "pascal(11)"
   ]
  },
  {
   "cell_type": "code",
   "execution_count": 32,
   "id": "0ba895fe",
   "metadata": {},
   "outputs": [
    {
     "name": "stdout",
     "output_type": "stream",
     "text": [
      "1\n",
      "2\n",
      "3\n",
      "4\n"
     ]
    }
   ],
   "source": [
    "for i in range (1,5):\n",
    "    print(i)"
   ]
  },
  {
   "cell_type": "code",
   "execution_count": 24,
   "id": "8d14026d",
   "metadata": {},
   "outputs": [
    {
     "name": "stdout",
     "output_type": "stream",
     "text": [
      "*\n",
      "**\n",
      "***\n",
      "****\n",
      "*****\n",
      "******\n",
      "*******\n",
      "********\n"
     ]
    }
   ],
   "source": [
    "sayi = int (input(\"ucgen icin gereken satir sayisini giriniz\"))\n",
    "for i in range(1, sayi + 1):\n",
    "    print(i*\"*\")"
   ]
  },
  {
   "cell_type": "markdown",
   "id": "b89febf6",
   "metadata": {},
   "source": [
    "## 14. Write a Python function to check whether a string is a pangram or not.\n",
    "### Note : Pangrams are words or sentences containing every letter of the alphabet at least once.\n",
    "### For example : \"The quick brown fox jumps over the lazy dog\""
   ]
  },
  {
   "cell_type": "code",
   "execution_count": 31,
   "id": "8d0e796a",
   "metadata": {},
   "outputs": [],
   "source": [
    "import string\n",
    "alphabet = set(string.ascii_lowercase)\n",
    " \n",
    "def ispangram(k_kelime):\n",
    "    for i in alphabet :\n",
    "        if i not in k_kelime :\n",
    "            return \"girdiginiz kelime pangram degildir\"\n",
    "    return \"girdiginiz kelime pangramdir\"\n"
   ]
  },
  {
   "cell_type": "code",
   "execution_count": 32,
   "id": "b6a331e0",
   "metadata": {},
   "outputs": [
    {
     "data": {
      "text/plain": [
       "'girdiginiz kelime pangram degildir'"
      ]
     },
     "execution_count": 32,
     "metadata": {},
     "output_type": "execute_result"
    }
   ],
   "source": [
    "ispangram(\"bbcdsjc\")"
   ]
  },
  {
   "cell_type": "code",
   "execution_count": null,
   "id": "b4e78092",
   "metadata": {},
   "outputs": [],
   "source": [
    "def pangram(string):\n",
    " import string as str\n",
    " alfabet = str.ascii_lowercase\n",
    " str_1 = list(filter(None,set(string.lower())))\n",
    " str_1.sort()\n",
    " str_1.remove(\" \")\n",
    " if list(alfabet) == str_1:\n",
    "  print(\"pangram dir\")\n",
    " else :\n",
    "  print(\"pangram degil dir\")"
   ]
  },
  {
   "cell_type": "code",
   "execution_count": null,
   "id": "67c29461",
   "metadata": {},
   "outputs": [],
   "source": [
    "str_1 =input(\"Tire ile ayrilmis kelimeler giriniz\").lower().split(\"-\")\n",
    "str_1.sort()\n",
    "print(\"-\".join(str_1))"
   ]
  },
  {
   "cell_type": "code",
   "execution_count": null,
   "id": "03869e93",
   "metadata": {},
   "outputs": [],
   "source": [
    "def pangram(str):\n",
    "    alfabe = \"abcdefghijklmnopqrstuvwxyz\"\n",
    "    for char in alfabe:\n",
    "        if char not in str.lower():\n",
    "            return False\n",
    "    return True\n",
    "     \n",
    "string = input(\"Bir şeyler giriniz...:\")\n",
    "if(pangram(string) == True):\n",
    "    print(\"Girdiğiniz ifade pangram bir ifadedir.\")\n",
    "else:\n",
    "    print(\"Girdiğiniz ifade pangram bir ifade değildir.\")\n"
   ]
  },
  {
   "cell_type": "markdown",
   "id": "d45e3b07",
   "metadata": {},
   "source": [
    "## 15. Write a Python program that accepts a hyphen-separated sequence of words as input and prints the words in a hyphen-separated sequence after sorting them alphabetically.\n",
    "### Sample Items : green-red-yellow-black-white\n",
    "### Expected Result : black-green-red-white-yellow"
   ]
  },
  {
   "cell_type": "code",
   "execution_count": 35,
   "id": "131ce2fd",
   "metadata": {},
   "outputs": [
    {
     "name": "stdout",
     "output_type": "stream",
     "text": [
      "black-green-red-white-yellow\n"
     ]
    }
   ],
   "source": [
    "str_1 = input(\"Tire ile  ayrilmis kelimeler giriniz\").lower().split(\"-\")\n",
    "str_1.sort()\n",
    " \n",
    "print(\"-\".join(str_1))"
   ]
  },
  {
   "cell_type": "markdown",
   "id": "12d7472a",
   "metadata": {},
   "source": [
    "## 16. Write a Python function to create and print a list where the values are the squares of numbers between 1 and 30 (both included)."
   ]
  },
  {
   "cell_type": "code",
   "execution_count": 36,
   "id": "76dfd6cd",
   "metadata": {},
   "outputs": [
    {
     "name": "stdout",
     "output_type": "stream",
     "text": [
      "[1, 4, 9, 16, 25, 36, 49, 64, 81, 100, 121, 144, 169, 196, 225, 256, 289, 324, 361, 400, 441, 484, 529, 576, 625, 676, 729, 784, 841, 900]\n"
     ]
    }
   ],
   "source": [
    "def kareleri():\n",
    "    kare_list = [i**2 for i in range(1,31)]     # list compre.\n",
    "    \n",
    "    print(kare_list)\n",
    "\n",
    "kareleri()"
   ]
  },
  {
   "cell_type": "markdown",
   "id": "5f116f5d",
   "metadata": {},
   "source": [
    "## 17. Write a Python program to create a chain of function decorators (bold, italic, underline etc.).\n"
   ]
  },
  {
   "cell_type": "code",
   "execution_count": null,
   "id": "17ad2f2a",
   "metadata": {},
   "outputs": [],
   "source": [
    "# Çalışma mantığı: Dekoratörler parametre olarak fonksiyon alan, geriye fonksiyon döndüren fonksiyonlar olarak tanımlayabiliriz.\n",
    "# Böylelikle burda fonksiyonunda bir nesne olduğunu görmüş oluyoruz. Önünde @ karakteri konularak yazılır.\n",
    "\n",
    "def decorator(func):\n",
    "    def wrapper(*args, **kwargs):\n",
    "        print('Fonksiyon çalışacak...')\n",
    "        func()\n",
    "    return wrapper\n",
    "\n",
    "@decorator\n",
    "def func():\n",
    "    print('Fonksiyon çalıştı.')\n",
    "\n",
    "func()\n",
    "\n"
   ]
  },
  {
   "cell_type": "code",
   "execution_count": 39,
   "id": "9bc9ad12",
   "metadata": {},
   "outputs": [
    {
     "name": "stdout",
     "output_type": "stream",
     "text": [
      "İnce hamur(1), Orta hamur(2), Kalın hamur(3)\n",
      "Margarita(1),  Klasik(2),     Türk pizza(3)\n",
      "Acılı sos(1),  Acısız sos(2), Organik sos(3)\n",
      "^^^^^^^^^^^^^^^^^^^^^^^^^^^^^^^^^^^^^^^^^^^^^\n",
      "^^^^^^^^^^Sipariş Seçeneklerimiz^^^^^^^^^^^^ \n"
     ]
    }
   ],
   "source": [
    "# decorators örneğim \n",
    "\n",
    "def hamur_bilgisi(siparis):\n",
    "    def hamur():\n",
    "        print(\"İnce hamur(1), Orta hamur(2), Kalın hamur(3)\")\n",
    "        siparis()\n",
    "    return hamur\n",
    "    \n",
    "def pizza_bilgisi(siparis):\n",
    "    def pizza():\n",
    "        print(\"Margarita(1),  Klasik(2),     Türk pizza(3)\")\n",
    "        siparis()\n",
    "    return pizza\n",
    "\n",
    "def sos_bilgisi(siparis):\n",
    "    \n",
    "    def sos():\n",
    "        print(\"Acılı sos(1),  Acısız sos(2), Organik sos(3)\")\n",
    "        siparis()\n",
    "    return sos\n",
    "\n",
    "@hamur_bilgisi\n",
    "@pizza_bilgisi\n",
    "@sos_bilgisi\n",
    "def siparis():\n",
    "    print(\"^^^^^^^^^^^^^^^^^^^^^^^^^^^^^^^^^^^^^^^^^^^^^\")\n",
    "    print(\"^^^^^^^^^^Sipariş Seçeneklerimiz^^^^^^^^^^^^ \")\n",
    "\n",
    "siparis()        # dekoratör ile fonksiyon üzerinden diğer fonksiyonlarıma daha paratik bir şekilde ulaştım "
   ]
  },
  {
   "cell_type": "code",
   "execution_count": null,
   "id": "0f389c7f",
   "metadata": {},
   "outputs": [],
   "source": [
    "def make_bold(fn):\n",
    "    def wrapped():\n",
    "        return \"<b>\" + fn() + \"</b>\"\n",
    "    return wrapped\n",
    "\n",
    "def make_italic(fn):\n",
    "    def wrapped():\n",
    "        return \"<i>\" + fn() + \"</i>\"\n",
    "    return wrapped\n",
    "\n",
    "def make_underline(fn):\n",
    "    def wrapped():\n",
    "        return \"<u>\" + fn() + \"</u>\"\n",
    "    return wrapped\n",
    "@make_bold\n",
    "@make_italic\n",
    "@make_underline\n",
    "def hello():\n",
    "    return \"hello world\"\n",
    "print(hello()) ## returns \"<b><i><u>hello world</u></i></b>\""
   ]
  },
  {
   "attachments": {},
   "cell_type": "markdown",
   "id": "6bdeed79",
   "metadata": {},
   "source": [
    "<b><i><u>hello world</u></i></b>"
   ]
  },
  {
   "cell_type": "markdown",
   "id": "e44f734a",
   "metadata": {},
   "source": [
    "## 18. Write a Python program to execute a string containing Python code."
   ]
  },
  {
   "cell_type": "code",
   "execution_count": null,
   "id": "a635119a",
   "metadata": {},
   "outputs": [],
   "source": [
    "# \"eval\" ve \"exec\" bir dize alır ve o dizeyi Python yorumlayıcısına aktarır ve çalıştırır.\n",
    "# eval fonksiyonu, bir Python ifadesini çalıştırır ve elde edilen sonucu geri verir.\n",
    "# eval ile sadece bir değer geri veren ifadeleri çalıştırabiliriz. Atama, if veya while gibi yapıları kullanamayız, fonksiyon tanımı yapamayız\n",
    "islem = input(\"Bir aritmetik işlem yazın: \")\n",
    "eval(islem)"
   ]
  },
  {
   "cell_type": "code",
   "execution_count": 38,
   "id": "6987cbb2",
   "metadata": {},
   "outputs": [
    {
     "data": {
      "text/plain": [
       "22"
      ]
     },
     "execution_count": 38,
     "metadata": {},
     "output_type": "execute_result"
    }
   ],
   "source": [
    "eval(\"sum([2,3,4,5,8])\")"
   ]
  },
  {
   "cell_type": "code",
   "execution_count": 37,
   "id": "de7df634",
   "metadata": {},
   "outputs": [
    {
     "name": "stdout",
     "output_type": "stream",
     "text": [
      "TechPro Education\n"
     ]
    },
    {
     "data": {
      "text/plain": [
       "3.1415"
      ]
     },
     "execution_count": 37,
     "metadata": {},
     "output_type": "execute_result"
    }
   ],
   "source": [
    "exec(\"print('TechPro Education')\")\n",
    "exec(\"x=3.1415\")\n",
    "x"
   ]
  },
  {
   "cell_type": "code",
   "execution_count": 41,
   "id": "7e3422cd",
   "metadata": {},
   "outputs": [
    {
     "data": {
      "text/plain": [
       "3.1415"
      ]
     },
     "execution_count": 41,
     "metadata": {},
     "output_type": "execute_result"
    }
   ],
   "source": [
    "exec(\"x=3.1415\")\n",
    "x"
   ]
  },
  {
   "cell_type": "markdown",
   "id": "323501dc",
   "metadata": {},
   "source": [
    "## 19. Write a Python program to access a function inside a function."
   ]
  },
  {
   "cell_type": "code",
   "execution_count": 3,
   "id": "9272d6d6",
   "metadata": {},
   "outputs": [
    {
     "name": "stdout",
     "output_type": "stream",
     "text": [
      "first() fonksiyonu çalıştı\n"
     ]
    }
   ],
   "source": [
    "def first(x):\n",
    "    print(\"first() fonksiyonu çalıştı\")\n",
    "    y = 'TechPro'\n",
    "    \n",
    "    def second():\n",
    "        print(\"second() fonksiyonu çalıştı\")\n",
    "        print(f\"Sonuç: {y+x}\")\n",
    "        \n",
    "    #second()\n",
    "    \n",
    "first(\"Education\")"
   ]
  },
  {
   "attachments": {},
   "cell_type": "markdown",
   "id": "ad42d26f",
   "metadata": {},
   "source": [
    "## 20. Write a Python program to detect the number of local variables declared in a function.\n",
    "### Sample Output:\n",
    "### 3\n",
    "20. Bir fonksiyonda bildirilen yerel değişkenlerin sayısını bulan bir Python programı yazın.\n"
   ]
  },
  {
   "cell_type": "code",
   "execution_count": 4,
   "id": "d7fff293",
   "metadata": {},
   "outputs": [
    {
     "name": "stdout",
     "output_type": "stream",
     "text": [
      "empty fonksiyonunda ki local değişkenler: 0\n",
      "full fonksiyonunda ki local değişkenler: 4\n"
     ]
    }
   ],
   "source": [
    " #  1. yol -->  .__code__.co_nlocals ile variables sayısını öğrenme\n",
    "def empty():\n",
    "    pass\n",
    "\n",
    "def full():\n",
    "    str = \"TechPro\"\n",
    "    a,b = 89, 98.9\n",
    "    system = True\n",
    "    \n",
    "print(\"empty fonksiyonunda ki local değişkenler:\",empty.__code__.co_nlocals)\n",
    "print(\"full fonksiyonunda ki local değişkenler:\",full.__code__.co_nlocals)"
   ]
  },
  {
   "attachments": {},
   "cell_type": "markdown",
   "id": "d9df7ef3",
   "metadata": {},
   "source": [
    "## 21. Write a Python program that invokes a function after a specified period of time.\n",
    "### Sample Output:\n",
    "### Square root after specific miliseconds:\n",
    "### 4.0\n",
    "### 10.0\n",
    "### 158.42979517754858 (edited) \n",
    " 21. Belirli bir süre sonra bir işlevi çağıran bir Python programı yazın."
   ]
  },
  {
   "cell_type": "code",
   "execution_count": 5,
   "id": "34f77a91",
   "metadata": {},
   "outputs": [
    {
     "name": "stdout",
     "output_type": "stream",
     "text": [
      "İşlem 4 sn. sonra gerçekleşicek\n",
      "TechPro\n"
     ]
    }
   ],
   "source": [
    "import time\n",
    "\n",
    "delay = int(input(\"İşleminizi ne kadar geciktirmek istersiniz: \"))\n",
    "\n",
    "print(f\"İşlem {delay} sn. sonra gerçekleşicek\")\n",
    "time.sleep(delay)\n",
    "print(\"TechPro\")"
   ]
  },
  {
   "cell_type": "markdown",
   "id": "49c0309b",
   "metadata": {},
   "source": [
    "___\n",
    "\n",
    "<p style=\"text-align: center;\"><img src=\"https://techproeducation.com/wp-content/uploads/2022/01/Calisma-Yuzeyi-1-kopya-5-1-768x126.png\" class=\"img-fluid\" alt=\"TECHPRO\"></p>\n",
    "\n",
    "___"
   ]
  }
 ],
 "metadata": {
  "kernelspec": {
   "display_name": "Python 3",
   "language": "python",
   "name": "python3"
  },
  "language_info": {
   "codemirror_mode": {
    "name": "ipython",
    "version": 3
   },
   "file_extension": ".py",
   "mimetype": "text/x-python",
   "name": "python",
   "nbconvert_exporter": "python",
   "pygments_lexer": "ipython3",
   "version": "3.11.1"
  }
 },
 "nbformat": 4,
 "nbformat_minor": 5
}
