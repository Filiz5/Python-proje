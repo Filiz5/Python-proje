{
 "cells": [
  {
   "attachments": {},
   "cell_type": "markdown",
   "metadata": {},
   "source": [
    "soru 22: 1 den 50 ye kadar tam sayilari yineleyen bir python programi yazdirin. Ucun katlari yerine `Big`, yedinin katlari yerine \"Bang\" ve hem ucun hem yedinin katlari yerine \"BIgBang\" yazdir."
   ]
  },
  {
   "cell_type": "code",
   "execution_count": 6,
   "metadata": {},
   "outputs": [
    {
     "name": "stdout",
     "output_type": "stream",
     "text": [
      "[1, 2, 'Big', 4, 5, 'Big', 'Bang', 8, 'Big', 10, 11, 'Big', 13, 'Bang', 'Big', 16, 17, 'Big', 19, 20, 'BigBang', 22, 23, 'Big', 25, 26, 'Big', 'Bang', 29, 'Big', 31, 32, 'Big', 34, 'Bang', 'Big', 37, 38, 'Big', 40, 41, 'BigBang', 43, 44, 'Big', 46, 47, 'Big', 'Bang', 50]\n"
     ]
    }
   ],
   "source": [
    "empty_list = []\n",
    "for i in range(1,51):\n",
    "    if i % 3 == 0 and i % 7 == 0:\n",
    "        #\n",
    "        empty_list.append(\"BigBang\")\n",
    "    elif i % 3 == 0 :\n",
    "        #print(\"Big\")\n",
    "        empty_list.append(\"Big\")\n",
    "    elif i % 7 == 0:\n",
    "        #print(\"Bang\")\n",
    "        empty_list.append(\"Bang\")\n",
    "    else:\n",
    "        #print(i)\n",
    "        empty_list.append(i)\n",
    "print(empty_list)"
   ]
  },
  {
   "attachments": {},
   "cell_type": "markdown",
   "metadata": {},
   "source": [
    "Soru 23: buyuk unlu uyumu: bir kelimenin birinci hecesinde kalin bir unlu (a,ı,o,u) buluyorsa, diger hecelerdeki unlulerde kalin, ince bir unlu (e,i,ü,ö) bulunuyorsa ve diger hecelerde de ince unlu varsa buna buyuk unlu uyumu deriz.\n",
    "simdi bir kelimede buyuk unlu uyumu olup olmadigini sorgulayan bir program yazin. 'tek sesli harflerde buyuk unlu uyumu aranmaz( kan, can gibi)"
   ]
  },
  {
   "cell_type": "code",
   "execution_count": 10,
   "metadata": {},
   "outputs": [
    {
     "name": "stdout",
     "output_type": "stream",
     "text": [
      "kalin unlu sayisi:0\n",
      "ince unlu sayisi: 0\n",
      " sesli hafr yok\n"
     ]
    }
   ],
   "source": [
    "kelime = input(\"Bir kelime gir\").lower()\n",
    "kalinunlu = 0\n",
    "inceunlu = 0\n",
    "\n",
    "for i in kelime:\n",
    "    if i in \"aıou\":\n",
    "        kalinunlu += 1\n",
    "    elif i in \"eiüö\":\n",
    "        inceunlu += 1\n",
    "print(f\"kalin unlu sayisi:{kalinunlu}\")\n",
    "print(f\"ince unlu sayisi: {inceunlu}\")\n",
    "\n",
    "if kalinunlu > 0 or inceunlu >0: \n",
    "    if kalinunlu + inceunlu == 1:\n",
    "        sonuc = \"Buyuk unlu uyumu aranmaz\"\n",
    "    elif kalinunlu * inceunlu == 0:\n",
    "        sonuc = \"Buyuk unlu uyumuna uyar\"\n",
    "    else:\n",
    "        sonuc = \"Buyuk unlu uyumuna uymaz.\"\n",
    "   \n",
    "else:\n",
    "    sonuc = \" sesli hafr yok\"\n",
    "print(sonuc)"
   ]
  },
  {
   "attachments": {},
   "cell_type": "markdown",
   "metadata": {},
   "source": [
    "soru 24: Kullanicidan bir sayi istiycez. bu sayinin basamak degeri 3 den kucukse bu sayinin yerine karesini yazdiracagiz. 3 den buyukse ve tek sayi ise bu sayinin 2 eksigini yazdiracaz. eger ucden buyuk ve cift sayi ise bu sayinin bir fazlasini yazdiracagiz. kullanicidan algigimiz giris gecersiz ise bunu da yazdiracagiz. "
   ]
  },
  {
   "cell_type": "code",
   "execution_count": 28,
   "metadata": {},
   "outputs": [
    {
     "name": "stdout",
     "output_type": "stream",
     "text": [
      "1049\n"
     ]
    }
   ],
   "source": [
    "x = input (\"Enter een number:\")\n",
    "result = \"\"\n",
    "if x.isdigit():\n",
    "    for i in x:\n",
    "        if int(i) <= 3:\n",
    "            result += str(int(i)** 2)\n",
    "        elif int(i) % 2:\n",
    "            result += str(int(i) - 2)\n",
    "        else:\n",
    "            result += str(int(i) + 1)\n",
    "else:\n",
    "    print(\"invalid input!\")\n",
    "print(result)"
   ]
  },
  {
   "attachments": {},
   "cell_type": "markdown",
   "metadata": {},
   "source": [
    "soru 25: amicable cijfers dedecteren. vb.: dostane sayilar\n",
    "220[ 1,2,4,5,10,11, 20, 22, 44, 55, 110]>> sum =284\n",
    "284[1,2,4,71,142] >> sum = 220"
   ]
  },
  {
   "cell_type": "code",
   "execution_count": 30,
   "metadata": {},
   "outputs": [
    {
     "name": "stdout",
     "output_type": "stream",
     "text": [
      "1184 and 1210 are amicable numbers\n"
     ]
    }
   ],
   "source": [
    "x = int(input(\"Enter a number:\"))\n",
    "\n",
    "sumi = 0\n",
    "\n",
    "for i in range(1,x):\n",
    "    if x % i == 0:\n",
    "        sumi += i\n",
    "\n",
    "sumj = 0\n",
    "for j in range(1,sumi):\n",
    "    if sumi % j == 0:\n",
    "        sumj += j\n",
    "\n",
    "if x == sumj:\n",
    "    print(f\"{x} and {sumi} are amicable numbers\")\n",
    "else:\n",
    "    print(f\" {x} is lonely number\")\n",
    "    "
   ]
  },
  {
   "cell_type": "code",
   "execution_count": 31,
   "metadata": {},
   "outputs": [
    {
     "name": "stdout",
     "output_type": "stream",
     "text": [
      "1184 and 1210 are amicable numbers\n"
     ]
    }
   ],
   "source": [
    "x = int(input(\"Enter a number:\"))\n",
    "\n",
    "\n",
    "sumi = sum([ i for i in range(1,x) if x % i == 0])\n",
    "sumj = sum([ j for j in range(1,sumi) if sumi % j == 0])\n",
    "\n",
    "if x == sumj:\n",
    "    print(f\"{x} and {sumi} are amicable numbers\")\n",
    "else:\n",
    "    print(f\" {x} is lonely number\")"
   ]
  },
  {
   "attachments": {},
   "cell_type": "markdown",
   "metadata": {},
   "source": [
    "soru 26: sayilarin basamak degerlerini veren bir program istiyoruz."
   ]
  },
  {
   "cell_type": "code",
   "execution_count": 36,
   "metadata": {},
   "outputs": [
    {
     "data": {
      "text/plain": [
       "[-2000, -300, -40, -5]"
      ]
     },
     "execution_count": 36,
     "metadata": {},
     "output_type": "execute_result"
    }
   ],
   "source": [
    "def num_split(num):\n",
    "    count = 0\n",
    "    result = []\n",
    "    for i in str(abs(num)) [: : -1]:\n",
    "        result.append(int(i)* 10** count)\n",
    "        count +=1\n",
    "    result2 = []\n",
    "    if num < 0:\n",
    "        for i in result [: :-1]:\n",
    "            result2.append(-i)\n",
    "    else:\n",
    "        result2 = result[ : :-1]\n",
    "\n",
    "    return result2\n",
    "num_split(-2345)\n"
   ]
  },
  {
   "cell_type": "code",
   "execution_count": 37,
   "metadata": {},
   "outputs": [
    {
     "data": {
      "text/plain": [
       "['Selam', 'sElam', 'seLam', 'selAm', 'selaM']"
      ]
     },
     "execution_count": 37,
     "metadata": {},
     "output_type": "execute_result"
    }
   ],
   "source": [
    "kelime = input(\"Bir kelime girin: \")\n",
    "list(map(lambda i: kelime[:i] + kelime[i].upper() + kelime[i+1:], range(len(kelime))))"
   ]
  },
  {
   "cell_type": "code",
   "execution_count": 33,
   "metadata": {},
   "outputs": [
    {
     "name": "stdout",
     "output_type": "stream",
     "text": [
      "2002,2009,2016,2023,2037,2044,2051,2058,2072,2079,2086,2093,2107,2114,2121,2128,2142,2149,2156,2163,2177,2184,2191,2198,2212,2219,2226,2233,2247,2254,2261,2268,2282,2289,2296,2303,2317,2324,2331,2338,2352,2359,2366,2373,2387,2394,2401,2408,2422,2429,2436,2443,2457,2464,2471,2478,2492,2499,2506,2513,2527,2534,2541,2548,2562,2569,2576,2583,2597,2604,2611,2618,2632,2639,2646,2653,2667,2674,2681,2688,2702,2709,2716,2723,2737,2744,2751,2758,2772,2779,2786,2793,2807,2814,2821,2828,2842,2849,2856,2863,2877,2884,2891,2898,2912,2919,2926,2933,2947,2954,2961,2968,2982,2989,2996,3003,3017,3024,3031,3038,3052,3059,3066,3073,3087,3094,3101,3108,3122,3129,3136,3143,3157,3164,3171,3178,3192,3199\n"
     ]
    }
   ],
   "source": [
    "l=[]\n",
    "for i in range(2000, 3201):\n",
    "    if (i%7==0) and (i%5!=0):\n",
    "        l.append(str(i))\n",
    "\n",
    "print (','.join(l))"
   ]
  },
  {
   "cell_type": "code",
   "execution_count": 34,
   "metadata": {},
   "outputs": [
    {
     "name": "stdout",
     "output_type": "stream",
     "text": [
      "2002,2009,2016,2023,2037,2044,2051,2058,2072,2079,2086,2093,2107,2114,2121,2128,2142,2149,2156,2163,2177,2184,2191,2198,2212,2219,2226,2233,2247,2254,2261,2268,2282,2289,2296,2303,2317,2324,2331,2338,2352,2359,2366,2373,2387,2394,2401,2408,2422,2429,2436,2443,2457,2464,2471,2478,2492,2499,2506,2513,2527,2534,2541,2548,2562,2569,2576,2583,2597,2604,2611,2618,2632,2639,2646,2653,2667,2674,2681,2688,2702,2709,2716,2723,2737,2744,2751,2758,2772,2779,2786,2793,2807,2814,2821,2828,2842,2849,2856,2863,2877,2884,2891,2898,2912,2919,2926,2933,2947,2954,2961,2968,2982,2989,2996,3003,3017,3024,3031,3038,3052,3059,3066,3073,3087,3094,3101,3108,3122,3129,3136,3143,3157,3164,3171,3178,3192,3199\n"
     ]
    }
   ],
   "source": [
    "for i in range(2000,3201):\n",
    "    if i%7 == 0 and i%5!=0:\n",
    "        print(i,end=',')\n",
    "print(\"\\b\")"
   ]
  },
  {
   "attachments": {},
   "cell_type": "markdown",
   "metadata": {},
   "source": [
    "Klavyeden kullanicinin girdiği 3 adet integer türünde ki sayiyi\n",
    "büyükten küçüğe siralayarak ortadaki sayi ile büyük olan sayinin arasindaki farki ve\n",
    "yine ortadaki sayi ile küçük olan sayi ile arasindaki farki ekrana yazdiran\n",
    "python kodlarini yaziniz?"
   ]
  },
  {
   "cell_type": "code",
   "execution_count": 38,
   "metadata": {},
   "outputs": [
    {
     "name": "stdout",
     "output_type": "stream",
     "text": [
      "Ortadaki sayı: 56\n",
      "Ortadaki sayı ile büyük olan sayı arasındaki fark:20\n",
      "Ortadaki sayı ile küçük olan sayı arasındaki fark:30\n"
     ]
    }
   ],
   "source": [
    "\n",
    "x = int(input(\"1. sayıyı girin: \"))\n",
    "y = int(input(\"2. sayıyı girin: \"))\n",
    "z = int(input(\"3. sayıyı girin: \"))\n",
    "\n",
    "\n",
    "sayilar = [x, y, z]\n",
    "sayilar.sort(reverse=True)\n",
    "\n",
    "\n",
    "orta_sayi = sayilar[1]\n",
    "\n",
    "diff1 = abs(orta_sayi - sayilar[0])\n",
    "diff2 = abs(orta_sayi - sayilar[2])\n",
    "\n",
    "print(\"Ortadaki sayı:\", orta_sayi)\n",
    "print(f\"Ortadaki sayı ile büyük olan sayı arasındaki fark:{diff1}\")\n",
    "print(f\"Ortadaki sayı ile küçük olan sayı arasındaki fark:{diff2}\")"
   ]
  },
  {
   "cell_type": "code",
   "execution_count": 39,
   "metadata": {},
   "outputs": [
    {
     "name": "stdout",
     "output_type": "stream",
     "text": [
      "girdiğiniz rakamlar [90, 56, 36]\n",
      " \n",
      "büyük sayi ile ortadaki sayinin farki : 34\n",
      "\n",
      "küçük sayi ile ortadaki sayinin farki : 20\n"
     ]
    }
   ],
   "source": [
    "sayilar_list = []\n",
    "count = 1\n",
    "while count <= 3:\n",
    "    k_sayi = input(f\"Lutfen {count}. sayinizi giriniz\")\n",
    "    if k_sayi.isnumeric() :\n",
    "        sayilar_list.append(int(k_sayi))\n",
    "        count += 1\n",
    "    else : \n",
    "      print(\"Lutfen bir tamsayi giriniz\")\n",
    "      count -= 1\n",
    "sayilar_list.sort()\n",
    "sayilar_list.reverse() #büyükten küçüğe siralamak için\n",
    "print(f\"\"\"girdiğiniz rakamlar {sayilar_list}\\n \n",
    "büyük sayi ile ortadaki sayinin farki : {max(sayilar_list)-sayilar_list[1]}\\n\n",
    "küçük sayi ile ortadaki sayinin farki : {sayilar_list[1] - min(sayilar_list)}\"\"\")"
   ]
  },
  {
   "cell_type": "markdown",
   "metadata": {},
   "source": [
    "Kullanıcın girdiği 5 basamaklı bir sayının, basamaklarının toplamını ekrana yazdıran python kodlarını yazınız?"
   ]
  },
  {
   "cell_type": "code",
   "execution_count": 46,
   "metadata": {},
   "outputs": [
    {
     "name": "stdout",
     "output_type": "stream",
     "text": [
      "25\n"
     ]
    }
   ],
   "source": [
    "sayi = input(\"Bes basamakli bir sayi girin\")\n",
    "\n",
    "toplam = []\n",
    "\n",
    "for i in sayi:\n",
    "    toplam.append(int(i))\n",
    "\n",
    "print(sum(toplam))\n",
    "\n"
   ]
  },
  {
   "cell_type": "code",
   "execution_count": 47,
   "metadata": {},
   "outputs": [
    {
     "name": "stdout",
     "output_type": "stream",
     "text": [
      "34567 sayisinin basamaklarinin toplami : 25\n",
      "34567 sayisinin basamaklarinin toplami : 25\n"
     ]
    }
   ],
   "source": [
    "x = input(\"Lutfen bir 5 basamakli bir sayi giriniz\")\n",
    "if x.isnumeric() and len(x) == 5 :\n",
    "    x = int(x)\n",
    "    basamak_toplam = 0\n",
    "    temp = x\n",
    "    while x > 0 :\n",
    "        basamak_toplam += x%10\n",
    "        x //= 10\n",
    "    print(f\"{temp} sayisinin basamaklarinin toplami : {basamak_toplam}\")    \n",
    "    print(temp, \"sayisinin basamaklarinin toplami :\", basamak_toplam)    \n",
    "else : \n",
    "        print(\"Lutfen 5 basamakli bir sayi giriniz\")"
   ]
  },
  {
   "cell_type": "code",
   "execution_count": null,
   "metadata": {},
   "outputs": [],
   "source": [
    "x = input(\"Lutfen bir 5 basamakli bir sayi giriniz\")\n",
    "sum = 0\n",
    "for i in x :\n",
    "    sum +=int(i)\n",
    "print(sum)    \n"
   ]
  },
  {
   "cell_type": "code",
   "execution_count": 4,
   "metadata": {},
   "outputs": [
    {
     "name": "stdout",
     "output_type": "stream",
     "text": [
      "Burcunuz: Terazi\n"
     ]
    }
   ],
   "source": [
    "\n",
    "gun = int(input(\"Doğum gününüz: \"))\n",
    "ay = int(input(\"Doğum ayınız: \"))\n",
    "#yil = int(input(\"Doğum yılınız: \"))\n",
    "\n",
    "burclar = {\n",
    "    \"Kova\":    (1, 20, 2, 18),\n",
    "    \"Balık\":   (2, 19, 3, 20),\n",
    "    \"Koç\":     (3, 21, 4, 19),\n",
    "    \"Boğa\":    (4, 20, 5, 20),\n",
    "    \"İkizler\": (5, 21, 6, 21),\n",
    "    \"Yengeç\":  (6, 22, 7, 22),\n",
    "    \"Aslan\":   (7, 23, 8, 22),\n",
    "    \"Başak\":   (8, 23, 9, 22),\n",
    "    \"Terazi\":  (9, 23, 10, 22),\n",
    "    \"Akrep\":   (10, 23, 11, 21),\n",
    "    \"Yay\":     (11, 22, 12, 21),\n",
    "    \"Oğlak\":   (12, 22, 1, 19)\n",
    "}\n",
    "\n",
    "for burc, (bas_ay, bas_gun, bit_ay, bit_gun) in burclar.items():\n",
    "    if (ay == bas_ay and gun >= bas_gun) or (ay == bit_ay and gun <= bit_gun):\n",
    "        print(\"Burcunuz:\", burc)\n",
    "        break"
   ]
  },
  {
   "attachments": {},
   "cell_type": "markdown",
   "metadata": {},
   "source": [
    "Soru: bir functsiyon olustur. bu bir kelime alsin. bunun palindorn mu olup oldugunu kontrol etsin?"
   ]
  },
  {
   "cell_type": "code",
   "execution_count": 21,
   "metadata": {},
   "outputs": [],
   "source": [
    "def palindrome(kelime):\n",
    "    \n",
    "    ters_kelime= kelime[::-1]\n",
    "    \n",
    "    if kelime == ters_kelime:\n",
    "        return True\n",
    "    else:\n",
    "        return False\n"
   ]
  },
  {
   "cell_type": "code",
   "execution_count": 25,
   "metadata": {},
   "outputs": [
    {
     "data": {
      "text/plain": [
       "['kabak', 'nazan', 'kayak']"
      ]
     },
     "execution_count": 25,
     "metadata": {},
     "output_type": "execute_result"
    }
   ],
   "source": [
    "list(filter(palindrome, [\"kabak\",\"nazan\",\"buket\",\"masa\",\"kayak\"]))"
   ]
  },
  {
   "cell_type": "markdown",
   "metadata": {},
   "source": []
  },
  {
   "cell_type": "code",
   "execution_count": 11,
   "metadata": {},
   "outputs": [
    {
     "data": {
      "text/plain": [
       "True"
      ]
     },
     "execution_count": 11,
     "metadata": {},
     "output_type": "execute_result"
    }
   ],
   "source": [
    "palindrome(\"kabak\")"
   ]
  },
  {
   "cell_type": "code",
   "execution_count": 14,
   "metadata": {},
   "outputs": [
    {
     "data": {
      "text/plain": [
       "True"
      ]
     },
     "execution_count": 14,
     "metadata": {},
     "output_type": "execute_result"
    }
   ],
   "source": [
    "#2.yol\n",
    "(lambda x: True if x == x[::-1] else False)(\"nazan\")"
   ]
  },
  {
   "cell_type": "code",
   "execution_count": 16,
   "metadata": {},
   "outputs": [
    {
     "data": {
      "text/plain": [
       "[True]"
      ]
     },
     "execution_count": 16,
     "metadata": {},
     "output_type": "execute_result"
    }
   ],
   "source": [
    "# 3. yol\n",
    "list(True if x == x[::-1] else False for x in input().split())"
   ]
  },
  {
   "cell_type": "code",
   "execution_count": 15,
   "metadata": {},
   "outputs": [
    {
     "name": "stdout",
     "output_type": "stream",
     "text": [
      "True\n"
     ]
    }
   ],
   "source": [
    "# 4.yol\n",
    "x = \"nazan\"\n",
    "print(True) if x == x[::-1] else print(False)"
   ]
  },
  {
   "cell_type": "code",
   "execution_count": null,
   "metadata": {},
   "outputs": [],
   "source": [
    "# sayı tahmin etme oyunu versiyon 2:)\n",
    "\n",
    "from random import randint\n",
    "\n",
    "oyunDurumu = True    \n",
    "\n",
    "while oyunDurumu:\n",
    "    rastgeleSayi = randint(1,100)\n",
    "    hak = int(input(\"deneme sayısını giriniz: \"))\n",
    "    while True:\n",
    "        if hak > 0:\n",
    "            tahmin = int(input(\"sayıyı(1-100) tahmin ediniz: \"))\n",
    "        else:\n",
    "            print(f\"sayıyı bilemediniz, sayı : {rastgeleSayi}\")\n",
    "            break  \n",
    "        if tahmin != rastgeleSayi:\n",
    "            hak -= 1\n",
    "            if tahmin > rastgeleSayi:\n",
    "                print(f\"sayı aşağıda...kalan tahmin sayınız : {hak}\")\n",
    "            else:\n",
    "                print(f\"sayı yukarıda...kalan tahmin sayınız : {hak}\")\n",
    "        else:\n",
    "            print(\"tebrikler sayıyı buldunuz\")\n",
    "            break\n",
    "    \n",
    "    kontrol = input(\"oyuna devam etmek istiyor musunuz..(E/H)\")\n",
    "    if kontrol == \"E\":\n",
    "        oyunDurumu = True\n",
    "    else:\n",
    "        print(\"güle güle...\")\n",
    "        oyunDurumu = False    # en baştaki while dögüsünü kırar"
   ]
  },
  {
   "attachments": {},
   "cell_type": "markdown",
   "metadata": {},
   "source": [
    "ORNEK: 1-10 arasında bir gizli sayı (Ör: 8 )  belirleyelim ve oyuncuya belirli bir deneme limiti (Ör: 3) koyalım.  Oyuncunun girdiği sayılara göre cevap verelim."
   ]
  },
  {
   "cell_type": "code",
   "execution_count": null,
   "metadata": {},
   "outputs": [],
   "source": [
    "gizli_sayi = 8\n",
    "deneme_sayisi = 0\n",
    "deneme_limiti = 3\n",
    "while deneme_sayisi < deneme_limiti:\n",
    "    girilen_sayi = int(input(\"1 ie 10 arasında bir sayı giriniz: \"))\n",
    "    deneme_sayisi += 1\n",
    "    if girilen_sayi < 1 or girilen_sayi > 10:\n",
    "        print(\"Girilen sayı 1 ile 10 arasında değil!\")\n",
    "        #girilen_sayi = int(input(\"1 ie 10 arasında bir sayı giriniz: \"))\n",
    "    else:\n",
    "        if girilen_sayi == gizli_sayi:\n",
    "            print(\"Tebrikler, \", deneme_sayisi, \". denemede bildiniz.\")\n",
    "            break\n",
    "        else:\n",
    "            print(\"Lütfen tekrar deneyin. Max 3 deneme hakkınız var.\")\n",
    "else:\n",
    "    print(\"Bu sefer olmadı. Belki bir dahaki yaza :) \")"
   ]
  },
  {
   "attachments": {},
   "cell_type": "markdown",
   "metadata": {},
   "source": [
    ">Hayali Seneryo , anlatılanlar tamamen hayal ürünü ama kodlar gerçek::))) 30 satır\n",
    "\"\"\"\n",
    "Sözlük Uygulaması:\n",
    "    1- Bir tane boş list oluşturalım;\n",
    "    2- List in içine her öğrenci bilgileri dict olarak yazalım ad,soyad, vize ve final notları ile dolduralım\n",
    "    3- vize ve final notlarını sözlük içinde 3.eleman olan liste olarak tutalım ki ulaşıp, vize %40 filan %60 ını alalım.\n",
    "    4- ve öğrencinin ayrı ayrı yıl sonu  ortalamaların bulalım;\n",
    "    5- En son okul birincisini, ikincisini ve üçüncünü bulalım, çıktı olarak verelim\n",
    "        emrah vize_Sınav  notları 40,50      emrah final_Sınav  notları 60,80\n",
    "        ipek vize_Sınav  notları 100,90      ipek final_Sınav  notları 80,75\n",
    "        inci vize_Sınav  notları 90,80       inci final_Sınav  notları 90,60"
   ]
  },
  {
   "cell_type": "code",
   "execution_count": null,
   "metadata": {},
   "outputs": [],
   "source": [
    "sözlük = [  {\"ad\":\"Emrah\",\"soyad\":\"TÜRK\",\"vize\":[40,50],\"final\":[60,80]},\n",
    "            {\"ad\":\"İpek\",\"soyad\":\"TÜRK\",\"vize\":[100,90],\"final\":[80,75]},\n",
    "            {\"ad\":\"İnci\",\"soyad\":\"TÜRK\",\"vize\":[90,80],\"final\":[90,60]}]\n",
    "emrah_vize_1=sözlük[0][\"vize\"][0]\n",
    "emrah_vize_2=sözlük[0][\"vize\"][1]\n",
    "emrah_vize=((emrah_vize_1+emrah_vize_2)/2)*0.4\n",
    "emrah_final_1=sözlük[0][\"final\"][0]\n",
    "emrah_final_2=sözlük[0][\"final\"][1]\n",
    "emrah_final=((emrah_final_1+emrah_final_2)/2)*0.6\n",
    "emrah_yılSonu=emrah_vize+emrah_final\n",
    "ipek_vize_1=sözlük[1][\"vize\"][0]\n",
    "ipek_vize_2=sözlük[1][\"vize\"][1]\n",
    "ipek_vize=((ipek_vize_1+ipek_vize_2)/2)*0.4\n",
    "ipek_final_1=sözlük[1][\"final\"][0]\n",
    "ipek_final_2=sözlük[1][\"final\"][1]\n",
    "ipek_final=((ipek_final_1+ipek_final_2)/2)*0.6\n",
    "ipek_yılSonu=ipek_vize+ipek_final\n",
    "inci_vize_1=sözlük[2][\"vize\"][0]\n",
    "inci_vize_2=sözlük[2][\"vize\"][1]\n",
    "inci_vize=((inci_vize_1+inci_vize_2)/2)*0.4\n",
    "inci_final_1=sözlük[2][\"final\"][0]\n",
    "inci_final_2=sözlük[2][\"final\"][1]\n",
    "inci_final=((inci_final_1+inci_final_2)/2)*0.6\n",
    "inci_yılSonu=inci_vize+inci_final\n",
    "if emrah_yılSonu>ipek_yılSonu and emrah_yılSonu>inci_yılSonu:\n",
    "    print(\"Okul Birincimiz {} dür. Tebrik Ederiz\".format(sözlük[0][\"ad\"]))\n",
    "elif ipek_yılSonu>inci_yılSonu and ipek_yılSonu>inci_yılSonu:\n",
    "     print(\"Okul Birincimiz {} dür. Tebrik Ederiz\".format(sözlük[1][\"ad\"]))\n",
    "else:\n",
    "    print(\"Okul Birincimiz {} dür. Tebrik Ederiz\".format(sözlük[2][\"ad\"]))"
   ]
  },
  {
   "attachments": {},
   "cell_type": "markdown",
   "metadata": {},
   "source": [
    "soru: # Kullanıcıdan bir kelime alın ve bu kelimenin ilk harfinden başlayarak her seferinde bir harfi büyük harf olacak şekilde son harfe kadar işlemi tekrarlayan ve sonuçları liste içinde çıktı veren bir algoritma oluşturun."
   ]
  },
  {
   "cell_type": "code",
   "execution_count": 1,
   "metadata": {},
   "outputs": [
    {
     "data": {
      "text/plain": [
       "['Sevim', 'sEvim', 'seVim', 'sevIm', 'seviM']"
      ]
     },
     "execution_count": 1,
     "metadata": {},
     "output_type": "execute_result"
    }
   ],
   "source": [
    "x = input(\"Enter a word\")\n",
    "[ x[:i] + x[i].upper() + x[i + 1:] for i in range(len(x)) ]"
   ]
  },
  {
   "cell_type": "code",
   "execution_count": 2,
   "metadata": {},
   "outputs": [
    {
     "name": "stdout",
     "output_type": "stream",
     "text": [
      "['Ankara', 'aNkara', 'anKara', 'ankAra', 'ankaRa', 'ankarA']\n"
     ]
    }
   ],
   "source": [
    "x = input(\"Enter a word:\").lower()\n",
    "list_1 = []\n",
    "for i in range(len(x)):\n",
    "    if \"i\".isalpha():        \n",
    "        list_1.append(x[:i] + x[i].upper() + x[i+1:])\n",
    "print(list_1)"
   ]
  },
  {
   "cell_type": "code",
   "execution_count": 3,
   "metadata": {},
   "outputs": [
    {
     "name": "stdout",
     "output_type": "stream",
     "text": [
      "Mehmet\n",
      "mEhmet\n",
      "meHmet\n",
      "mehMet\n",
      "mehmEt\n",
      "mehmeT\n"
     ]
    }
   ],
   "source": [
    "a = input(\"please enter a word\")\n",
    "liste = []\n",
    "for index in range(len(s1)):\n",
    "    print(s1[:index] + s1[index].upper() + s1[index + 1:])"
   ]
  },
  {
   "cell_type": "code",
   "execution_count": 4,
   "metadata": {},
   "outputs": [
    {
     "name": "stdout",
     "output_type": "stream",
     "text": [
      "['Yargi', 'yArgi', 'yaRgi', 'yarGi', 'yargI']\n"
     ]
    }
   ],
   "source": [
    "x = input(\"Enter a word:\").lower()\n",
    "list_1 = []\n",
    "for i in range(len(x)):\n",
    "    if \"i\".isalpha():        \n",
    "        list_1.append(x[:i] + x[i].upper() + x[i+1:])\n",
    "print(list_1)"
   ]
  },
  {
   "cell_type": "code",
   "execution_count": 9,
   "metadata": {},
   "outputs": [
    {
     "name": "stdout",
     "output_type": "stream",
     "text": [
      "['Yargi', 'yArgi', 'yaRgi', 'yarGi', 'yargI']\n"
     ]
    }
   ],
   "source": [
    "kelime = input(\"Bir kelime girin: \")\n",
    "\n",
    "liste = [kelime[:i] + kelime[i].upper() + kelime[i+1:] for i in range(len(kelime))]\n",
    "\n",
    "print(liste)\n"
   ]
  },
  {
   "cell_type": "code",
   "execution_count": 14,
   "metadata": {},
   "outputs": [
    {
     "name": "stdout",
     "output_type": "stream",
     "text": [
      "['Yargi', 'yArgi', 'yaRgi', 'yarGi', 'yargI']\n"
     ]
    }
   ],
   "source": [
    "kelime = input(\"Bir kelime girin: \")\n",
    "sonuclar = [ kelime[:i] + kelime[i].upper() + kelime[i+1:] for i in range(len(kelime))]\n",
    "#sonuclar.insert(0, kelime)  # İlk kelime, verilen kelimenin kendisidir.\n",
    "\n",
    "print(sonuclar)"
   ]
  },
  {
   "cell_type": "code",
   "execution_count": 11,
   "metadata": {},
   "outputs": [
    {
     "data": {
      "text/plain": [
       "'yargi'"
      ]
     },
     "execution_count": 11,
     "metadata": {},
     "output_type": "execute_result"
    }
   ],
   "source": [
    "kelime = input(\"Bir kelime girin: \")\n",
    "\n",
    "sonuclar = [ kelime[:i] + kelime[i].upper() + kelime[i+1:] for i in range(len(kelime))]\n",
    "\n",
    "\n",
    "print(sonuclar)"
   ]
  },
  {
   "cell_type": "code",
   "execution_count": 16,
   "metadata": {},
   "outputs": [
    {
     "name": "stdout",
     "output_type": "stream",
     "text": [
      "['Ankara', 'ANkara', 'AnKara', 'AnkAra', 'AnkaRa', 'AnkarA']\n"
     ]
    }
   ],
   "source": [
    "kelime = input(\"Bir kelime girin: \")\n",
    "liste = [kelime[:i] + kelime[i].upper() + kelime[i+1:] for i in range(len(kelime))]\n",
    "print(liste)"
   ]
  },
  {
   "cell_type": "code",
   "execution_count": 32,
   "metadata": {},
   "outputs": [
    {
     "data": {
      "text/plain": [
       "['Selam', 'sElam', 'seLam', 'selAm', 'selaM']"
      ]
     },
     "execution_count": 32,
     "metadata": {},
     "output_type": "execute_result"
    }
   ],
   "source": [
    "kelime = input(\"Bir kelime girin: \")\n",
    "list(map(lambda i: kelime[:i] + kelime[i].upper() + kelime[i+1:], range(len(kelime))))\n"
   ]
  },
  {
   "cell_type": "code",
   "execution_count": 23,
   "metadata": {},
   "outputs": [
    {
     "name": "stdout",
     "output_type": "stream",
     "text": [
      "<generator object <genexpr> at 0x0000026D5B222330>\n"
     ]
    }
   ],
   "source": [
    "print(liste)"
   ]
  },
  {
   "cell_type": "code",
   "execution_count": 28,
   "metadata": {},
   "outputs": [
    {
     "data": {
      "text/plain": [
       "['Selam', 'sElam', 'seLam', 'selAm', 'selaM']"
      ]
     },
     "execution_count": 28,
     "metadata": {},
     "output_type": "execute_result"
    }
   ],
   "source": [
    "kelime = input(\"Bir kelime girin: \")\n",
    "list(map(lambda i: kelime[:i] + kelime[i].upper() + kelime[i+1:], range(len(kelime))))"
   ]
  },
  {
   "cell_type": "code",
   "execution_count": 34,
   "metadata": {},
   "outputs": [
    {
     "data": {
      "text/plain": [
       "16"
      ]
     },
     "execution_count": 34,
     "metadata": {},
     "output_type": "execute_result"
    }
   ],
   "source": [
    "(lambda x: x**2) (4)"
   ]
  },
  {
   "cell_type": "code",
   "execution_count": null,
   "metadata": {},
   "outputs": [],
   "source": []
  }
 ],
 "metadata": {
  "kernelspec": {
   "display_name": "Python 3",
   "language": "python",
   "name": "python3"
  },
  "language_info": {
   "codemirror_mode": {
    "name": "ipython",
    "version": 3
   },
   "file_extension": ".py",
   "mimetype": "text/x-python",
   "name": "python",
   "nbconvert_exporter": "python",
   "pygments_lexer": "ipython3",
   "version": "3.11.1"
  },
  "orig_nbformat": 4,
  "vscode": {
   "interpreter": {
    "hash": "eabde9110b449084ff6a5c90926c01dd37afab08f8d96935fc9e46977bb13740"
   }
  }
 },
 "nbformat": 4,
 "nbformat_minor": 2
}
