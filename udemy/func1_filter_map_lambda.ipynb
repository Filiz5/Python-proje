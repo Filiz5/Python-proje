{
 "cells": [
  {
   "attachments": {},
   "cell_type": "markdown",
   "metadata": {},
   "source": [
    "# Functions 1"
   ]
  },
  {
   "attachments": {},
   "cell_type": "markdown",
   "metadata": {},
   "source": [
    " ## **filter():**\n",
    " * Adından da anlaşılabileceği gibi bir filtreleme yapan fonksiyondur.\n",
    "\n",
    " * **filter(None, iterable(string, list, set, tuple))** ---> iterable in icinden degeri True olanlari yazdirir\n",
    "\n",
    " * filter() fonksiyonunun icine None yazdigimizda None yani degeri False olanlari eliyor degeri True olanlari yazdiriyor.\n",
    "\n",
    " * **filter(fonksiyon, iterable(string, list, set, tuple))** ---> fonksiyonumuzun icerigi ne ise iterable in \n",
    "                                                          icinden istenileni(degeri True olani) dondurur"
   ]
  },
  {
   "cell_type": "code",
   "execution_count": 2,
   "metadata": {},
   "outputs": [
    {
     "data": {
      "text/plain": [
       "['T', 'e', 'a', 'm']"
      ]
     },
     "execution_count": 2,
     "metadata": {},
     "output_type": "execute_result"
    }
   ],
   "source": [
    "# filter() fonksiyonunun sonucunu gorebilmemiz icin bir gostergec \n",
    "# yani list, tuple gibi konteynerlarin icine yazmamiz gerek\n",
    "list(filter(None,\"Team\"))"
   ]
  },
  {
   "cell_type": "code",
   "execution_count": 3,
   "metadata": {},
   "outputs": [
    {
     "data": {
      "text/plain": [
       "[' ', 'Ali', -5]"
      ]
     },
     "execution_count": 3,
     "metadata": {},
     "output_type": "execute_result"
    }
   ],
   "source": [
    "#filter() fonksiyonunun icine None yazdigimizda None yani degeri False olanlari eliyor degeri True olanlari yazdiriyor.\n",
    "list(filter(None,[\"\",0,False,{},(),[], [], \" \",None, \"Ali\", -5]))"
   ]
  },
  {
   "cell_type": "code",
   "execution_count": 3,
   "metadata": {},
   "outputs": [],
   "source": [
    "# Tek bir eleman yazdigimizda o elemani karakterlerine ayiriyor\n"
   ]
  },
  {
   "cell_type": "code",
   "execution_count": 4,
   "metadata": {},
   "outputs": [],
   "source": [
    "# verilen yas listesinden 18 yasindan kucuk olanlari eleyen bir fonksiyon olusturunuz--> filter() kullanarak cozunuz\n",
    "ages = [5, 12, 17, 18, 24, 32]\n"
   ]
  },
  {
   "attachments": {},
   "cell_type": "markdown",
   "metadata": {},
   "source": [
    "## **lambda():**\n",
    "*  Lambda fonksiyonları fonksiyon tanımlama işlemini tek satırda yapmamızı sağlayan fonksiyon yapılarıdır. \n",
    "\n",
    "* Lambda Fonksiyonu Syntax'i:===> **(lambda değişkenler:dönüş değeri (yapmasini istedigim islem))(degiskenlerin degeri)**"
   ]
  },
  {
   "cell_type": "code",
   "execution_count": 6,
   "metadata": {},
   "outputs": [],
   "source": [
    "# Standart fonksiyon ile karesini alma fonksiyonu olusturalim:\n"
   ]
  },
  {
   "cell_type": "code",
   "execution_count": 5,
   "metadata": {},
   "outputs": [],
   "source": [
    "#lambda ile karesini alma bir fonksiyonu olusturalim ve type ina bakalim\n",
    "#lambda bize bir fonksiyon dondurur"
   ]
  },
  {
   "cell_type": "code",
   "execution_count": null,
   "metadata": {},
   "outputs": [],
   "source": []
  },
  {
   "cell_type": "code",
   "execution_count": 29,
   "metadata": {},
   "outputs": [],
   "source": [
    "# lambda ile verilen uc sayinin  ortalamasini hesaplayan bir fonksiyon olusturunuz\n"
   ]
  },
  {
   "cell_type": "code",
   "execution_count": 32,
   "metadata": {},
   "outputs": [],
   "source": [
    "#lambda ile fonksiyonu olusturup bir variable atayip o isimle fonksiyonumuzu kullanabiliriz"
   ]
  },
  {
   "cell_type": "code",
   "execution_count": null,
   "metadata": {},
   "outputs": [],
   "source": []
  },
  {
   "cell_type": "code",
   "execution_count": 7,
   "metadata": {},
   "outputs": [],
   "source": [
    "# lambda ile verilen kelimeyi tersten yazdiran bir fonksiyon yazdirin\n"
   ]
  },
  {
   "cell_type": "code",
   "execution_count": 8,
   "metadata": {},
   "outputs": [],
   "source": [
    " # lambda li yazim bize bir fonksiyon dondurur ve atama yapabiliriz\n"
   ]
  },
  {
   "cell_type": "code",
   "execution_count": 9,
   "metadata": {},
   "outputs": [],
   "source": [
    "# odev :Bir fonksiyon olusturun icine bir kelime alsin icine alinan kelime palindron kelime mi kontrol etsin\n"
   ]
  },
  {
   "attachments": {},
   "cell_type": "markdown",
   "metadata": {},
   "source": [
    "## **map():**\n",
    "* map() fonksiyonunun kullanimi map(fonksiyon, iterable )---> object dondurur\n",
    "\n",
    "* map() fonksiyonu icerisine verilen iterable elemanlarin hepsine fonksiyonu uygular\n",
    "\n",
    "* **map(func, iter1,iter2..)** şeklinde kullanılır. Yani elinizdeki bir fonksiyona, elinizdeki bir datanın elemanlarını sırasıyla gönderir ve sonucu tek bir obje olarak geri döner. "
   ]
  },
  {
   "cell_type": "code",
   "execution_count": 8,
   "metadata": {},
   "outputs": [
    {
     "data": {
      "text/plain": [
       "[range(1, 6)]"
      ]
     },
     "execution_count": 8,
     "metadata": {},
     "output_type": "execute_result"
    }
   ],
   "source": [
    "# verilen bir listedeki elemanlarin herbirinin karesini aliniz\n",
    "#[*range(1,6)] \n",
    "[range(1,6)]"
   ]
  },
  {
   "cell_type": "code",
   "execution_count": 12,
   "metadata": {},
   "outputs": [],
   "source": [
    "# verilen bir listedeki elemanlarin herbirinin karesini aliniz\n",
    "list_1 =[1,-2,3,4,6,7,8]\n"
   ]
  },
  {
   "cell_type": "code",
   "execution_count": null,
   "metadata": {},
   "outputs": [],
   "source": []
  },
  {
   "cell_type": "code",
   "execution_count": 9,
   "metadata": {},
   "outputs": [
    {
     "name": "stdout",
     "output_type": "stream",
     "text": [
      "(2, 8, 18, 32)\n"
     ]
    }
   ],
   "source": [
    "# uzun ve kisa kenarlari verilen dikdortgenlerin alanlarini map() func ile hesaplayiniz\n",
    "long_sides = [1, 2, 3, 4, 5]\n",
    "short_sides = [2, 4, 6, 8]\n",
    "alan_hesap = lambda x,y :x * y \n",
    "sonuc = map(alan_hesap, long_sides, short_sides)\n",
    "print(tuple(sonuc))"
   ]
  },
  {
   "cell_type": "code",
   "execution_count": 10,
   "metadata": {},
   "outputs": [
    {
     "name": "stdout",
     "output_type": "stream",
     "text": [
      "Adem\n",
      "Asli\n"
     ]
    }
   ],
   "source": [
    "# Verilen bir listede istenilen harf ile baslayan verileri yazdir\n",
    "students = [\"Erhan\", \"Adem\", \"Elif\", \"Asli\"]\n",
    "letter = \"A\"\n",
    "harf= [print(str) for str in students if str[0] == \"A\"]"
   ]
  },
  {
   "cell_type": "code",
   "execution_count": null,
   "metadata": {},
   "outputs": [],
   "source": [
    "lambda x: str(x).startswith(letter)\n"
   ]
  },
  {
   "cell_type": "code",
   "execution_count": 11,
   "metadata": {},
   "outputs": [
    {
     "data": {
      "text/plain": [
       "['Adem', 'Asli']"
      ]
     },
     "execution_count": 11,
     "metadata": {},
     "output_type": "execute_result"
    }
   ],
   "source": [
    "list(filter((lambda x: x[0:1] == letter),students)) "
   ]
  },
  {
   "cell_type": "code",
   "execution_count": 12,
   "metadata": {},
   "outputs": [
    {
     "data": {
      "text/plain": [
       "['Erhan', 'Adem', 'Asli']"
      ]
     },
     "execution_count": 12,
     "metadata": {},
     "output_type": "execute_result"
    }
   ],
   "source": [
    "students = [\"Erhan\", \"Adem\", \"elif\",\"ali\",\"Asli\"]\n",
    "list(filter((lambda x : x[0].isupper()),students))"
   ]
  },
  {
   "cell_type": "code",
   "execution_count": 13,
   "metadata": {},
   "outputs": [
    {
     "data": {
      "text/plain": [
       "['Adem', 'Asli']"
      ]
     },
     "execution_count": 13,
     "metadata": {},
     "output_type": "execute_result"
    }
   ],
   "source": [
    "students = [\"Erhan\", \"Adem\", \"elif\",\"ali\",\"Asli\"]\n",
    "list(filter(lambda x: x.startswith(\"A\"), list(filter((lambda x : x[0].isupper()),students))))"
   ]
  },
  {
   "cell_type": "code",
   "execution_count": null,
   "metadata": {},
   "outputs": [],
   "source": []
  }
 ],
 "metadata": {
  "kernelspec": {
   "display_name": "Python 3",
   "language": "python",
   "name": "python3"
  },
  "language_info": {
   "codemirror_mode": {
    "name": "ipython",
    "version": 3
   },
   "file_extension": ".py",
   "mimetype": "text/x-python",
   "name": "python",
   "nbconvert_exporter": "python",
   "pygments_lexer": "ipython3",
   "version": "3.11.1"
  },
  "orig_nbformat": 4
 },
 "nbformat": 4,
 "nbformat_minor": 2
}
