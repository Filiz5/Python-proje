{
 "cells": [
  {
   "attachments": {},
   "cell_type": "markdown",
   "metadata": {},
   "source": [
    "# Exception Handling"
   ]
  },
  {
   "cell_type": "code",
   "execution_count": 2,
   "metadata": {},
   "outputs": [
    {
     "ename": "TypeError",
     "evalue": "can only concatenate str (not \"int\") to str",
     "output_type": "error",
     "traceback": [
      "\u001b[1;31m---------------------------------------------------------------------------\u001b[0m",
      "\u001b[1;31mTypeError\u001b[0m                                 Traceback (most recent call last)",
      "Cell \u001b[1;32mIn[2], line 1\u001b[0m\n\u001b[1;32m----> 1\u001b[0m \u001b[39m\"\u001b[39;49m\u001b[39m4\u001b[39;49m\u001b[39m\"\u001b[39;49m \u001b[39m+\u001b[39;49m \u001b[39m5\u001b[39;49m\n",
      "\u001b[1;31mTypeError\u001b[0m: can only concatenate str (not \"int\") to str"
     ]
    }
   ],
   "source": [
    "\"4\" + 5"
   ]
  },
  {
   "cell_type": "code",
   "execution_count": 3,
   "metadata": {},
   "outputs": [
    {
     "name": "stdout",
     "output_type": "stream",
     "text": [
      "hayatı gösterme çalışmaya devam et\n"
     ]
    }
   ],
   "source": [
    "try:\n",
    "    \"4\" + 5\n",
    "except:\n",
    "    print(\"hayatı gösterme çalışmaya devam et\")"
   ]
  },
  {
   "cell_type": "code",
   "execution_count": 4,
   "metadata": {},
   "outputs": [
    {
     "name": "stdout",
     "output_type": "stream",
     "text": [
      "16\n"
     ]
    }
   ],
   "source": [
    "try:\n",
    "    print(4 ** 2)\n",
    "except:\n",
    "    print(\"Hatalı çıkmasın! nolur\")"
   ]
  },
  {
   "cell_type": "code",
   "execution_count": 5,
   "metadata": {},
   "outputs": [
    {
     "name": "stdout",
     "output_type": "stream",
     "text": [
      "hayatı gösterme çalışmaya devam et\n"
     ]
    }
   ],
   "source": [
    "try:\n",
    "    \"4\" + 5\n",
    "except TypeError:\n",
    "    print(\"hayatı gösterme çalışmaya devam et\")"
   ]
  },
  {
   "cell_type": "code",
   "execution_count": null,
   "metadata": {},
   "outputs": [
    {
     "ename": "TypeError",
     "evalue": "can only concatenate str (not \"int\") to str",
     "output_type": "error",
     "traceback": [
      "\u001b[1;31m---------------------------------------------------------------------------\u001b[0m",
      "\u001b[1;31mTypeError\u001b[0m                                 Traceback (most recent call last)",
      "\u001b[1;32m~\\AppData\\Local\\Temp/ipykernel_12152/3429244049.py\u001b[0m in \u001b[0;36m<module>\u001b[1;34m\u001b[0m\n\u001b[0;32m      1\u001b[0m \u001b[1;32mtry\u001b[0m\u001b[1;33m:\u001b[0m\u001b[1;33m\u001b[0m\u001b[1;33m\u001b[0m\u001b[0m\n\u001b[1;32m----> 2\u001b[1;33m     \u001b[1;34m\"4\"\u001b[0m \u001b[1;33m+\u001b[0m \u001b[1;36m5\u001b[0m\u001b[1;33m\u001b[0m\u001b[1;33m\u001b[0m\u001b[0m\n\u001b[0m\u001b[0;32m      3\u001b[0m \u001b[1;32mexcept\u001b[0m \u001b[0mNameError\u001b[0m\u001b[1;33m:\u001b[0m\u001b[1;33m\u001b[0m\u001b[1;33m\u001b[0m\u001b[0m\n\u001b[0;32m      4\u001b[0m     \u001b[0mprint\u001b[0m\u001b[1;33m(\u001b[0m\u001b[1;34m\"hayatı gösterme çalışmaya devam et\"\u001b[0m\u001b[1;33m)\u001b[0m\u001b[1;33m\u001b[0m\u001b[1;33m\u001b[0m\u001b[0m\n",
      "\u001b[1;31mTypeError\u001b[0m: can only concatenate str (not \"int\") to str"
     ]
    }
   ],
   "source": [
    "try:\n",
    "    \"4\" + 5\n",
    "except NameError:\n",
    "    print(\"hayatı gösterme çalışmaya devam et\")"
   ]
  },
  {
   "cell_type": "code",
   "execution_count": 7,
   "metadata": {},
   "outputs": [
    {
     "name": "stdout",
     "output_type": "stream",
     "text": [
      "Bu yazıyı görüyorsanız bi girdiğiniz sayılarda hata var demektir.\n"
     ]
    }
   ],
   "source": [
    "x = int(input(\"Bir sayı girin\"))\n",
    "y = int(input(\"Bir sayı girin\"))\n",
    "\n",
    "try:\n",
    "    print(x / y)\n",
    "except:\n",
    "    print(\"Bu yazıyı görüyorsanız bi girdiğiniz sayılarda hata var demektir.\")"
   ]
  },
  {
   "cell_type": "code",
   "execution_count": 8,
   "metadata": {},
   "outputs": [
    {
     "ename": "ZeroDivisionError",
     "evalue": "division by zero",
     "output_type": "error",
     "traceback": [
      "\u001b[1;31m---------------------------------------------------------------------------\u001b[0m",
      "\u001b[1;31mZeroDivisionError\u001b[0m                         Traceback (most recent call last)",
      "Cell \u001b[1;32mIn[8], line 1\u001b[0m\n\u001b[1;32m----> 1\u001b[0m \u001b[39m34\u001b[39;49m\u001b[39m/\u001b[39;49m\u001b[39m0\u001b[39;49m\n",
      "\u001b[1;31mZeroDivisionError\u001b[0m: division by zero"
     ]
    }
   ],
   "source": [
    "34/0\n"
   ]
  },
  {
   "cell_type": "code",
   "execution_count": 22,
   "metadata": {},
   "outputs": [
    {
     "name": "stdout",
     "output_type": "stream",
     "text": [
      "4.0\n"
     ]
    }
   ],
   "source": [
    "x = (input(\"Bir sayı girin\"))\n",
    "y = (input(\"Bir sayı girin\"))\n",
    "\n",
    "try:\n",
    "    print(int(x) / int(y))\n",
    "except ValueError:\n",
    "    print(\"Bu yazıyı görüyorsanız girdiğiniz sayı/sayılarda hata var demektir.\")"
   ]
  },
  {
   "cell_type": "code",
   "execution_count": 9,
   "metadata": {},
   "outputs": [
    {
     "name": "stdout",
     "output_type": "stream",
     "text": [
      "Bu yazıyı görüyorsanız girdiğiniz sayı/sayılarda hata var demektir.\n"
     ]
    }
   ],
   "source": [
    "x = (input(\"Bir sayı girin\")) #\"sekiz\" ilk hata Value error olacağı için ilk except çalışır\n",
    "y = (input(\"Bir sayı girin\")) # 0\n",
    "\n",
    "try:\n",
    "    print(int(x) / int(y))\n",
    "except ValueError:\n",
    "    print(\"Bu yazıyı görüyorsanız girdiğiniz sayı/sayılarda hata var demektir.\")\n",
    "except ZeroDivisionError:\n",
    "    print(\"Bu yazıyı görüyorsanız girdiğiniz ikinci sayı sıfırdır ve bir sayı sıfıra bölünemez.\")"
   ]
  },
  {
   "cell_type": "code",
   "execution_count": 29,
   "metadata": {},
   "outputs": [
    {
     "name": "stdout",
     "output_type": "stream",
     "text": [
      "Bu yazıyı görüyorsanız girdiğiniz ikinci sayı sıfırdır ve bir sayı sıfıra bölünemez.\n"
     ]
    }
   ],
   "source": [
    "x = (input(\"Bir sayı girin\")) # 8 ilk hata ZeroDivisionError olacağı için ikinci except çalışır\n",
    "y = (input(\"Bir sayı girin\")) # 0\n",
    "\n",
    "try:\n",
    "    print(int(x) / int(y))\n",
    "except ValueError:\n",
    "    print(\"Bu yazıyı görüyorsanız girdiğiniz sayı/sayılarda hata var demektir.\")\n",
    "except ZeroDivisionError:\n",
    "    print(\"Bu yazıyı görüyorsanız girdiğiniz ikinci sayı sıfırdır ve bir sayı sıfıra bölünemez.\")"
   ]
  },
  {
   "cell_type": "code",
   "execution_count": 10,
   "metadata": {},
   "outputs": [
    {
     "name": "stdout",
     "output_type": "stream",
     "text": [
      "225.0\n"
     ]
    }
   ],
   "source": [
    "x = (input(\"Bir sayı girin\")) # try calisirsa else calisiyor. if else den farkli. orda if calisirsa else calismaz!\n",
    "y = (input(\"Bir sayı girin\")) \n",
    "\n",
    "try:\n",
    "    a = int(x) / int(y)\n",
    "except ValueError:\n",
    "    print(\"Bu yazıyı görüyorsanız girdiğiniz sayı/sayılarda hata var demektir.\")\n",
    "except ZeroDivisionError:\n",
    "    print(\"Bu yazıyı görüyorsanız girdiğiniz ikinci sayı sıfırdır ve bir sayı sıfıra bölünemez.\")\n",
    "else:\n",
    "    print(a ** 2)"
   ]
  },
  {
   "cell_type": "code",
   "execution_count": 11,
   "metadata": {},
   "outputs": [
    {
     "name": "stdout",
     "output_type": "stream",
     "text": [
      "5.262975778546712\n"
     ]
    }
   ],
   "source": [
    "x = (input(\"Bir sayı girin\")) \n",
    "y = (input(\"Bir sayı girin\")) \n",
    "\n",
    "try:\n",
    "    a = int(x) / int(y)\n",
    "    print(a ** 2)\n",
    "except ValueError:\n",
    "    print(\"Bu yazıyı görüyorsanız girdiğiniz sayı/sayılarda hata var demektir.\")\n",
    "except ZeroDivisionError:\n",
    "    print(\"Bu yazıyı görüyorsanız girdiğiniz ikinci sayı sıfırdır ve bir sayı sıfıra bölünemez.\")\n",
    "\n",
    "    "
   ]
  },
  {
   "cell_type": "code",
   "execution_count": 33,
   "metadata": {},
   "outputs": [
    {
     "name": "stdout",
     "output_type": "stream",
     "text": [
      "ödülünüz 100 birim\n"
     ]
    }
   ],
   "source": [
    "x = (input(\"Bir sayı girin\")) \n",
    "y = (input(\"Bir sayı girin\")) \n",
    "\n",
    "try:\n",
    "    a = int(x) * int(y)\n",
    "    print(a)\n",
    "except (ValueError,ZeroDivisionError):\n",
    "    print(\"ödülünüz 100 birim\")\n"
   ]
  },
  {
   "cell_type": "code",
   "execution_count": 12,
   "metadata": {},
   "outputs": [],
   "source": [
    "liste = [\"15\", \"aa15\", \"45\", \"asdeddcds48\", \"48\" ]"
   ]
  },
  {
   "cell_type": "code",
   "execution_count": 14,
   "metadata": {},
   "outputs": [
    {
     "name": "stdout",
     "output_type": "stream",
     "text": [
      "15\n",
      "45\n",
      "48\n"
     ]
    }
   ],
   "source": [
    "for i in liste:\n",
    "\n",
    "    try:\n",
    "        type(int(i)) == int\n",
    "        print(i)\n",
    "    except:\n",
    "        continue # devam et demek"
   ]
  },
  {
   "cell_type": "code",
   "execution_count": 13,
   "metadata": {},
   "outputs": [
    {
     "name": "stdout",
     "output_type": "stream",
     "text": [
      "15\n",
      "45\n",
      "48\n"
     ]
    }
   ],
   "source": [
    "for i in liste:\n",
    "\n",
    "    try:\n",
    "        if type(int(i)) == int:\n",
    "            print(i)\n",
    "    except:\n",
    "        continue # devam et demek\n",
    "    "
   ]
  },
  {
   "cell_type": "code",
   "execution_count": 17,
   "metadata": {},
   "outputs": [
    {
     "name": "stdout",
     "output_type": "stream",
     "text": [
      "Girilen iki sayının bölümü: 2.0\n",
      "beni kimse tutamaz\n"
     ]
    }
   ],
   "source": [
    "while True:\n",
    "\n",
    "    x = (input(\"Bir sayı girin\")) \n",
    "    y = (input(\"Bir sayı girin\")) \n",
    "\n",
    "    try:\n",
    "        a = int(x) / int(y)\n",
    "        print(\"Girilen iki sayının bölümü:\", a)\n",
    "        break\n",
    "    except (ValueError,ZeroDivisionError):\n",
    "        print(\"Sayıları doğru girdiğinizden emin olun\")\n",
    "    finally:\n",
    "        print(\"beni kimse tutamaz\")"
   ]
  },
  {
   "cell_type": "code",
   "execution_count": 42,
   "metadata": {},
   "outputs": [
    {
     "name": "stdout",
     "output_type": "stream",
     "text": [
      "Hadi başlayalım\n",
      "64\n",
      "Bu yazıyı görüyorsanız girdiğiniz ikinci sayı sıfırdır ve bir sayı sıfıra bölünemez.\n"
     ]
    }
   ],
   "source": [
    "x = (input(\"Bir sayı girin\")) \n",
    "y = (input(\"Bir sayı girin\")) \n",
    "\n",
    "try:\n",
    "    print(\"Hadi başlayalım\")\n",
    "    print(4 ** 3)\n",
    "    a = int(x) / int(y)\n",
    "except ValueError:\n",
    "    print(\"Bu yazıyı görüyorsanız girdiğiniz sayı/sayılarda hata var demektir.\")\n",
    "except ZeroDivisionError:\n",
    "    print(\"Bu yazıyı görüyorsanız girdiğiniz ikinci sayı sıfırdır ve bir sayı sıfıra bölünemez.\")\n",
    "else:\n",
    "    print(a ** 2)\n"
   ]
  },
  {
   "cell_type": "code",
   "execution_count": 43,
   "metadata": {},
   "outputs": [
    {
     "name": "stdout",
     "output_type": "stream",
     "text": [
      "Hadi başlayalım\n",
      "64\n",
      "Bu yazıyı görüyorsanız girdiğiniz ikinci sayı sıfırdır ve bir sayı sıfıra bölünemez.\n",
      "Beni kimse durduramaz. Her halükarda çalışırım ben\n"
     ]
    }
   ],
   "source": [
    "x = (input(\"Bir sayı girin\")) # 8\n",
    "y = (input(\"Bir sayı girin\")) # 0\n",
    "\n",
    "try:\n",
    "    print(\"Hadi başlayalım\")\n",
    "    print(4 ** 3)\n",
    "    a = int(x) / int(y)\n",
    "except ValueError:\n",
    "    print(\"Bu yazıyı görüyorsanız girdiğiniz sayı/sayılarda hata var demektir.\")\n",
    "except ZeroDivisionError:\n",
    "    print(\"Bu yazıyı görüyorsanız girdiğiniz ikinci sayı sıfırdır ve bir sayı sıfıra bölünemez.\")\n",
    "else:\n",
    "    print(a ** 2)\n",
    "finally:\n",
    "    print(\"Beni kimse durduramaz. Her halükarda çalışırım ben\")"
   ]
  },
  {
   "cell_type": "code",
   "execution_count": 44,
   "metadata": {},
   "outputs": [
    {
     "name": "stdout",
     "output_type": "stream",
     "text": [
      "Hadi başlayalım\n",
      "64\n",
      "16.0\n",
      "Beni kimse durduramaz. Her halükarda çalışırım ben\n"
     ]
    }
   ],
   "source": [
    "x = (input(\"Bir sayı girin\")) # 8\n",
    "y = (input(\"Bir sayı girin\")) # 2\n",
    "\n",
    "try:\n",
    "    print(\"Hadi başlayalım\")\n",
    "    print(4 ** 3)\n",
    "    a = int(x) / int(y)\n",
    "except ValueError :\n",
    "    print(\"Bu yazıyı görüyorsanız girdiğiniz sayı/sayılarda hata var demektir.\")\n",
    "except :\n",
    "    print(\"Bu yazıyı görüyorsanız girdiğiniz ikinci sayı sıfırdır ve bir sayı sıfıra bölünemez.\")\n",
    "else:\n",
    "    print(a ** 2)\n",
    "finally:\n",
    "    print(\"Beni kimse durduramaz. Her halükarda çalışırım ben\")"
   ]
  },
  {
   "cell_type": "code",
   "execution_count": null,
   "metadata": {},
   "outputs": [],
   "source": [
    "try:\n",
    "    x = int(input(\"Bir sayı girin: \"))\n",
    "    y = int(input(\"Başka bir sayı girin: \"))\n",
    "    print(x / y)\n",
    "except ZeroDivisionError:\n",
    "    print(\"Sıfıra bölünemez!\")\n",
    "except ValueError:\n",
    "    print(\"Lütfen bir sayı girin!\")"
   ]
  },
  {
   "attachments": {},
   "cell_type": "markdown",
   "metadata": {},
   "source": [
    "# Moduls"
   ]
  },
  {
   "cell_type": "code",
   "execution_count": 41,
   "metadata": {},
   "outputs": [],
   "source": [
    "import random"
   ]
  },
  {
   "cell_type": "code",
   "execution_count": 24,
   "metadata": {},
   "outputs": [
    {
     "data": {
      "text/plain": [
       "1"
      ]
     },
     "execution_count": 24,
     "metadata": {},
     "output_type": "execute_result"
    }
   ],
   "source": [
    "random.choice([1,2,3,4,5,6,7,8,9])"
   ]
  },
  {
   "cell_type": "code",
   "execution_count": 26,
   "metadata": {},
   "outputs": [],
   "source": [
    "liste1 = [1,2,3,4,5,6,7,8,9]"
   ]
  },
  {
   "cell_type": "code",
   "execution_count": 27,
   "metadata": {},
   "outputs": [],
   "source": [
    "random.shuffle(liste1)"
   ]
  },
  {
   "cell_type": "code",
   "execution_count": 30,
   "metadata": {},
   "outputs": [
    {
     "data": {
      "text/plain": [
       "[5, 9, 7, 6, 1, 2, 4, 8, 3]"
      ]
     },
     "execution_count": 30,
     "metadata": {},
     "output_type": "execute_result"
    }
   ],
   "source": [
    "liste1"
   ]
  },
  {
   "cell_type": "code",
   "execution_count": null,
   "metadata": {},
   "outputs": [],
   "source": [
    "random.sample()"
   ]
  },
  {
   "cell_type": "code",
   "execution_count": 67,
   "metadata": {},
   "outputs": [],
   "source": [
    "import string"
   ]
  },
  {
   "cell_type": "code",
   "execution_count": 69,
   "metadata": {},
   "outputs": [
    {
     "data": {
      "text/plain": [
       "'!\"#$%&\\'()*+,-./:;<=>?@[\\\\]^_`{|}~'"
      ]
     },
     "execution_count": 69,
     "metadata": {},
     "output_type": "execute_result"
    }
   ],
   "source": [
    "string.punctuation"
   ]
  },
  {
   "cell_type": "code",
   "execution_count": 70,
   "metadata": {},
   "outputs": [
    {
     "data": {
      "text/plain": [
       "'0123456789'"
      ]
     },
     "execution_count": 70,
     "metadata": {},
     "output_type": "execute_result"
    }
   ],
   "source": [
    "string.digits"
   ]
  },
  {
   "cell_type": "code",
   "execution_count": 71,
   "metadata": {},
   "outputs": [
    {
     "data": {
      "text/plain": [
       "'abcdefghijklmnopqrstuvwxyzABCDEFGHIJKLMNOPQRSTUVWXYZ'"
      ]
     },
     "execution_count": 71,
     "metadata": {},
     "output_type": "execute_result"
    }
   ],
   "source": [
    "string.ascii_letters"
   ]
  },
  {
   "cell_type": "code",
   "execution_count": 39,
   "metadata": {},
   "outputs": [],
   "source": [
    "del random"
   ]
  },
  {
   "cell_type": "code",
   "execution_count": 42,
   "metadata": {},
   "outputs": [],
   "source": [
    "random.shuffle(liste)"
   ]
  },
  {
   "cell_type": "code",
   "execution_count": 43,
   "metadata": {},
   "outputs": [],
   "source": [
    "import random"
   ]
  },
  {
   "cell_type": "code",
   "execution_count": 44,
   "metadata": {},
   "outputs": [
    {
     "data": {
      "text/plain": [
       "Point(x=1131, y=128)"
      ]
     },
     "execution_count": 44,
     "metadata": {},
     "output_type": "execute_result"
    }
   ],
   "source": [
    "pyautogui.position()"
   ]
  },
  {
   "cell_type": "code",
   "execution_count": 33,
   "metadata": {},
   "outputs": [],
   "source": [
    "import pyautogui"
   ]
  },
  {
   "attachments": {},
   "cell_type": "markdown",
   "metadata": {},
   "source": [
    "## Create Modul"
   ]
  },
  {
   "cell_type": "code",
   "execution_count": 1,
   "metadata": {},
   "outputs": [
    {
     "data": {
      "text/plain": [
       "'c:\\\\Users\\\\filiz\\\\Desktop\\\\python'"
      ]
     },
     "execution_count": 1,
     "metadata": {},
     "output_type": "execute_result"
    }
   ],
   "source": [
    "pwd"
   ]
  },
  {
   "cell_type": "code",
   "execution_count": 46,
   "metadata": {},
   "outputs": [
    {
     "ename": "ModuleNotFoundError",
     "evalue": "No module named 'my_package'",
     "output_type": "error",
     "traceback": [
      "\u001b[1;31m---------------------------------------------------------------------------\u001b[0m",
      "\u001b[1;31mModuleNotFoundError\u001b[0m                       Traceback (most recent call last)",
      "Cell \u001b[1;32mIn[46], line 1\u001b[0m\n\u001b[1;32m----> 1\u001b[0m \u001b[39mfrom\u001b[39;00m \u001b[39mmy_package\u001b[39;00m \u001b[39mimport\u001b[39;00m my_math\n",
      "\u001b[1;31mModuleNotFoundError\u001b[0m: No module named 'my_package'"
     ]
    }
   ],
   "source": [
    "from my_package import my_math"
   ]
  },
  {
   "cell_type": "code",
   "execution_count": 2,
   "metadata": {},
   "outputs": [
    {
     "data": {
      "text/plain": [
       "120"
      ]
     },
     "execution_count": 2,
     "metadata": {},
     "output_type": "execute_result"
    }
   ],
   "source": [
    "my_math.find_fact(5)"
   ]
  },
  {
   "cell_type": "code",
   "execution_count": 3,
   "metadata": {},
   "outputs": [
    {
     "data": {
      "text/plain": [
       "13.0"
      ]
     },
     "execution_count": 3,
     "metadata": {},
     "output_type": "execute_result"
    }
   ],
   "source": [
    "my_math.find_hypo(5,12)"
   ]
  },
  {
   "cell_type": "code",
   "execution_count": 4,
   "metadata": {},
   "outputs": [
    {
     "ename": "TypeError",
     "evalue": "'float' object is not callable",
     "output_type": "error",
     "traceback": [
      "\u001b[1;31m---------------------------------------------------------------------------\u001b[0m",
      "\u001b[1;31mTypeError\u001b[0m                                 Traceback (most recent call last)",
      "\u001b[1;32m~\\AppData\\Local\\Temp/ipykernel_12400/937388051.py\u001b[0m in \u001b[0;36m<module>\u001b[1;34m\u001b[0m\n\u001b[1;32m----> 1\u001b[1;33m \u001b[0mmy_math\u001b[0m\u001b[1;33m.\u001b[0m\u001b[0mpi\u001b[0m\u001b[1;33m(\u001b[0m\u001b[1;33m)\u001b[0m\u001b[1;33m\u001b[0m\u001b[1;33m\u001b[0m\u001b[0m\n\u001b[0m",
      "\u001b[1;31mTypeError\u001b[0m: 'float' object is not callable"
     ]
    }
   ],
   "source": [
    "my_math.pi()"
   ]
  },
  {
   "cell_type": "code",
   "execution_count": 5,
   "metadata": {},
   "outputs": [
    {
     "data": {
      "text/plain": [
       "3.14"
      ]
     },
     "execution_count": 5,
     "metadata": {},
     "output_type": "execute_result"
    }
   ],
   "source": [
    "my_math.pi"
   ]
  },
  {
   "cell_type": "code",
   "execution_count": null,
   "metadata": {},
   "outputs": [],
   "source": []
  },
  {
   "cell_type": "code",
   "execution_count": null,
   "metadata": {},
   "outputs": [],
   "source": []
  },
  {
   "cell_type": "code",
   "execution_count": null,
   "metadata": {},
   "outputs": [],
   "source": []
  },
  {
   "cell_type": "code",
   "execution_count": null,
   "metadata": {},
   "outputs": [],
   "source": []
  }
 ],
 "metadata": {
  "kernelspec": {
   "display_name": "base",
   "language": "python",
   "name": "python3"
  },
  "language_info": {
   "codemirror_mode": {
    "name": "ipython",
    "version": 3
   },
   "file_extension": ".py",
   "mimetype": "text/x-python",
   "name": "python",
   "nbconvert_exporter": "python",
   "pygments_lexer": "ipython3",
   "version": "3.11.1"
  },
  "orig_nbformat": 4
 },
 "nbformat": 4,
 "nbformat_minor": 2
}
